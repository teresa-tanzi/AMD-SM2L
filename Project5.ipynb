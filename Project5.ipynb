{
 "cells": [
  {
   "cell_type": "markdown",
   "metadata": {},
   "source": [
    "# Joint project AMD + SM2L\n",
    "\n",
    "https://docs.google.com/document/d/1oqoIyRUI_digfIokf53fox0I1eWiTFzQaae-PxMre0Y/edit\n",
    "\n",
    "The task is to implement from scratch a learning algorithm for **regression** with **square loss** (e.g., **ridge regression**). The label to be predicted must be selected among the following 5 attributes, removing the remaining 4 from the dataset:\n",
    "- PERNP (Person's earnings)\n",
    "- PINCP (Person's income)\n",
    "- WAGP (Wages or salary income past 12 months)\n",
    "- HINCP (Household income)\n",
    "- FINCP (Family income)"
   ]
  },
  {
   "cell_type": "markdown",
   "metadata": {},
   "source": [
    "This code is run inside the Docker container provided in the course."
   ]
  },
  {
   "cell_type": "markdown",
   "metadata": {},
   "source": [
    "## Install PySpark\n",
    "\n",
    "In the docker-compose given in the course, PySpark is already installed, but not in Google Colab. The following cell has to be executed if the notebook is not run in the docker-compose provided by the course, so it has the objective to install Spark on the current machine."
   ]
  },
  {
   "cell_type": "code",
   "execution_count": null,
   "metadata": {},
   "outputs": [],
   "source": [
    "!apt-get install openjdk-8-jdk-headless -qq > /dev/null\n",
    "!wget -q http://www-eu.apache.org/dist/spark/spark-2.4.5/spark-2.4.5-bin-hadoop2.7.tgz\n",
    "!tar xf spark-2.4.5-bin-hadoop2.7.tgz\n",
    "!pip install -q findspark\n",
    "\n",
    "import os\n",
    "import findspark\n",
    "from pyspark.sql import SparkSession\n",
    "import pyspark\n",
    "\n",
    "os.environ[\"JAVA_HOME\"] = \"/usr/lib/jvm/java-8-openjdk-amd64\"\n",
    "os.environ[\"SPARK_HOME\"] = \"/content/spark-2.4.5-bin-hadoop2.7\"\n",
    "\n",
    "findspark.init(\"spark-2.4.5-bin-hadoop2.7\")     # SPARK_HOME\n",
    "spark = SparkSession.builder.master(\"local[*]\").getOrCreate()\n",
    "type(spark)"
   ]
  },
  {
   "cell_type": "code",
   "execution_count": 56,
   "metadata": {},
   "outputs": [
    {
     "name": "stdout",
     "output_type": "stream",
     "text": [
      "Welcome to\r\n",
      "      ____              __\r\n",
      "     / __/__  ___ _____/ /__\r\n",
      "    _\\ \\/ _ \\/ _ `/ __/  '_/\r\n",
      "   /___/ .__/\\_,_/_/ /_/\\_\\   version 2.4.5\r\n",
      "      /_/\r\n",
      "                        \r\n",
      "Using Scala version 2.11.12, OpenJDK 64-Bit Server VM, 1.8.0_252\r\n",
      "Branch HEAD\r\n",
      "Compiled by user centos on 2020-02-02T19:38:06Z\r\n",
      "Revision cee4ecbb16917fa85f02c635925e2687400aa56b\r\n",
      "Url https://gitbox.apache.org/repos/asf/spark.git\r\n",
      "Type --help for more information.\r\n"
     ]
    }
   ],
   "source": [
    "!pyspark --version"
   ]
  },
  {
   "cell_type": "markdown",
   "metadata": {},
   "source": [
    "## Dataset\n",
    "\n",
    "The project is based on the analysis of the «2013 American Community Survey» dataset published on Kaggle and released under the public domain license (CC0).\n",
    "\n",
    "https://www.kaggle.com/census/2013-american-community-survey\n",
    "\n",
    "The American Community Survey is an ongoing survey from the US Census Bureau. In this survey, approximately 3.5 million households per year are asked detailed questions about who they are and how they live. Many topics are covered, including ancestry, education, work, transportation, internet use, and residency.\n",
    "\n",
    "There are two types of survey data provided, housing and population:\n",
    "- For the housing data, each row is a housing unit, and the characteristics are properties like rented vs. owned, age of home, etc.\n",
    "- For the population data, each row is a person and the characteristics are properties like age, gender, whether they work, method/length of commute, etc.\n",
    "\n",
    "Each data set is divided in two pieces, \"a\" and \"b\":\n",
    "- \"a\" contains states 1 to 25;\n",
    "- \"b\" contains states 26 to 50.\n",
    "\n",
    "Both data sets have weights associated with them. Weights are included to account for the fact that individuals are not sampled with equal probably (people who have a greater chance of being sampled have a lower weight to reflect this):\n",
    "- Weight variable for the housing data: WGTP\n",
    "- Weight variable for the population data: PWGTP"
   ]
  },
  {
   "cell_type": "markdown",
   "metadata": {},
   "source": [
    "### Setup Kaggle API"
   ]
  },
  {
   "cell_type": "code",
   "execution_count": 1,
   "metadata": {},
   "outputs": [
    {
     "name": "stdout",
     "output_type": "stream",
     "text": [
      "Found existing installation: kaggle 1.5.6\r\n",
      "Uninstalling kaggle-1.5.6:\r\n",
      "  Would remove:\r\n",
      "    /home/jovyan/.local/bin/kaggle\r\n",
      "    /home/jovyan/.local/lib/python3.7/site-packages/kaggle-1.5.6.dist-info/*\r\n",
      "    /home/jovyan/.local/lib/python3.7/site-packages/kaggle/*\r\n",
      "Proceed (y/n)?   Successfully uninstalled kaggle-1.5.6\r\n"
     ]
    }
   ],
   "source": [
    "!python -c \"print('y')\" | pip uninstall kaggle"
   ]
  },
  {
   "cell_type": "code",
   "execution_count": 2,
   "metadata": {},
   "outputs": [
    {
     "name": "stdout",
     "output_type": "stream",
     "text": [
      "Processing /home/jovyan/.cache/pip/wheels/aa/e7/e7/eb3c3d514c33294d77ddd5a856bdd58dc9c1fabbed59a02a2b/kaggle-1.5.6-py3-none-any.whl\n",
      "Requirement already satisfied: certifi in /opt/conda/lib/python3.7/site-packages (from kaggle) (2020.6.20)\n",
      "Requirement already satisfied: tqdm in /opt/conda/lib/python3.7/site-packages (from kaggle) (4.45.0)\n",
      "Requirement already satisfied: python-dateutil in /opt/conda/lib/python3.7/site-packages (from kaggle) (2.8.1)\n",
      "Requirement already satisfied: requests in /opt/conda/lib/python3.7/site-packages (from kaggle) (2.23.0)\n",
      "Requirement already satisfied: urllib3<1.25,>=1.21.1 in /opt/conda/lib/python3.7/site-packages (from kaggle) (1.24.3)\n",
      "Requirement already satisfied: python-slugify in /opt/conda/lib/python3.7/site-packages (from kaggle) (4.0.0)\n",
      "Requirement already satisfied: six>=1.10 in /opt/conda/lib/python3.7/site-packages (from kaggle) (1.14.0)\n",
      "Requirement already satisfied: chardet<4,>=3.0.2 in /opt/conda/lib/python3.7/site-packages (from requests->kaggle) (3.0.4)\n",
      "Requirement already satisfied: idna<3,>=2.5 in /opt/conda/lib/python3.7/site-packages (from requests->kaggle) (2.9)\n",
      "Requirement already satisfied: text-unidecode>=1.3 in /opt/conda/lib/python3.7/site-packages (from python-slugify->kaggle) (1.3)\n",
      "Installing collected packages: kaggle\n",
      "\u001b[33m  WARNING: The script kaggle is installed in '/home/jovyan/.local/bin' which is not on PATH.\n",
      "  Consider adding this directory to PATH or, if you prefer to suppress this warning, use --no-warn-script-location.\u001b[0m\n",
      "Successfully installed kaggle-1.5.6\n"
     ]
    }
   ],
   "source": [
    "# install kaggle API for providing the dataset\n",
    "!pip install --user kaggle"
   ]
  },
  {
   "cell_type": "code",
   "execution_count": 3,
   "metadata": {},
   "outputs": [],
   "source": [
    "# add kaggle to PATH environment variable\n",
    "import os\n",
    "os.environ[\"PATH\"] += os.pathsep + \"/home/jovyan/.local/bin\""
   ]
  },
  {
   "cell_type": "code",
   "execution_count": 4,
   "metadata": {},
   "outputs": [
    {
     "name": "stdout",
     "output_type": "stream",
     "text": [
      "mkdir: cannot create directory ‘/home/jovyan/.kaggle’: File exists\r\n"
     ]
    }
   ],
   "source": [
    "!mkdir ~/.kaggle\n",
    "!echo '{\"username\":\"teresatanzi\",\"key\":\"a64ec0d865925975d3318adf576216b7\"}' >> ~/.kaggle/kaggle.json\n",
    "!chmod 600 ~/.kaggle/kaggle.json\n",
    "!export KAGGLE_USERNAME=teresatanzi\n",
    "!export KAGGLE_KEY=a64ec0d865925975d3318adf576216b7"
   ]
  },
  {
   "cell_type": "markdown",
   "metadata": {},
   "source": [
    "### Dataset download\n",
    "\n",
    "The dataset should not be added to the repository, but downloaded during code execution, for instance via the kaggle API \n",
    "\n",
    "https://github.com/Kaggle/kaggle-api"
   ]
  },
  {
   "cell_type": "code",
   "execution_count": 8,
   "metadata": {},
   "outputs": [
    {
     "name": "stdout",
     "output_type": "stream",
     "text": [
      "Downloading 2013-american-community-survey.zip to ./data\n",
      "100%|███████████████████████████████████████▉| 916M/916M [02:56<00:00, 5.74MB/s]\n",
      "100%|████████████████████████████████████████| 916M/916M [02:56<00:00, 5.45MB/s]\n"
     ]
    }
   ],
   "source": [
    "!mkdir ./data\n",
    "!kaggle datasets download census/2013-american-community-survey -p ./data"
   ]
  },
  {
   "cell_type": "code",
   "execution_count": 9,
   "metadata": {},
   "outputs": [],
   "source": [
    "import zipfile\n",
    "\n",
    "with zipfile.ZipFile(\"./data/2013-american-community-survey.zip\",\"r\") as zip_ref:\n",
    "    zip_ref.extractall(\"./data/2013-american-community-survey\")"
   ]
  },
  {
   "cell_type": "markdown",
   "metadata": {},
   "source": [
    "### Reading the data\n",
    "\n",
    "The task is to implement from scratch a learning algorithm for regression with square loss (e.g., ridge regression). The label to be predicted must be selected among the following 5 attributes, removing the remaining 4 from the dataset:\n",
    "\n",
    "- pusa dataset:\n",
    "    - PERNP (Person's earnings)\n",
    "    - PINCP (Person's income)\n",
    "    - WAGP (Wages or salary income past 12 months)\n",
    "- husa dataset:\n",
    "    - HINCP (Household income)\n",
    "    - FINCP (Family income)"
   ]
  },
  {
   "cell_type": "code",
   "execution_count": 3,
   "metadata": {},
   "outputs": [],
   "source": [
    "import pyspark\n",
    "\n",
    "sc = pyspark.SparkContext('local[*]')\n",
    "\n",
    "# If we have installed spark according to the first cell of this notebook, run the following command instead\n",
    "#sc = spark.sparkContext"
   ]
  },
  {
   "cell_type": "code",
   "execution_count": 2,
   "metadata": {},
   "outputs": [],
   "source": [
    "import os.path\n",
    "\n",
    "baseDir = os.path.join('./data/2013-american-community-survey')\n",
    "#inputPathA = os.path.join('ss13pusa.csv')\n",
    "#inputPathB = os.path.join('ss13pusb.csv')\n",
    "inputPathA = os.path.join('ss13husa.csv')\n",
    "inputPathB = os.path.join('ss13husb.csv')\n",
    "fileNameA = os.path.join(baseDir, inputPathA)\n",
    "fileNameB = os.path.join(baseDir, inputPathB)"
   ]
  },
  {
   "cell_type": "markdown",
   "metadata": {},
   "source": [
    "#### Dataframe\n",
    "\n",
    "http://spark.apache.org/docs/latest/sql-programming-guide.html: <br>\n",
    "\n",
    "Dataset is a new interface added in Spark 1.6 that provides the benefits of RDDs (strong typing, ability to use powerful lambda functions) with the benefits of Spark SQL’s optimized execution engine. A Dataset can be constructed from JVM objects and then manipulated using functional transformations (map, flatMap, filter, etc.).<br>\n",
    "A DataFrame is a Dataset organized into named columns. It is conceptually equivalent to a table in a relational database or a data frame in R/Python, but with richer optimizations under the hood."
   ]
  },
  {
   "cell_type": "code",
   "execution_count": 4,
   "metadata": {},
   "outputs": [],
   "source": [
    "from pyspark.sql import SQLContext\n",
    "\n",
    "sqlContext = SQLContext(sc)"
   ]
  },
  {
   "cell_type": "code",
   "execution_count": 4,
   "metadata": {},
   "outputs": [
    {
     "name": "stdout",
     "output_type": "stream",
     "text": [
      "Number of columns: 231\n",
      "Number of rows: 1476313\n"
     ]
    }
   ],
   "source": [
    "dfA = sqlContext.read.csv(fileNameA, header = True)\n",
    "dfB = sqlContext.read.csv(fileNameB, header = True)\n",
    "\n",
    "df = dfA.union(dfB)\n",
    "n = df.count()\n",
    "headerList = df.columns\n",
    "\n",
    "print(\"Number of columns: {}\\nNumber of rows: {}\".format(len(headerList), n))"
   ]
  },
  {
   "cell_type": "markdown",
   "metadata": {},
   "source": [
    "## Preprocessing\n",
    "\n",
    "We should trasform data in objects belonging to the class LabeledPoint, but first we have to solve some issues:\n",
    "\n",
    "- we have to deal with missing values: we can substitute those with mean or median of the corresponding column; <br>\n",
    "https://towardsdatascience.com/how-to-handle-missing-data-8646b18db0d4\n",
    "- we have to deal with categorical values: it should be fine to just discard the feature, because only the first feature is categorical and it has a constant value for all the entry;\n",
    "- we have to deal with missing values in the labels: we could discard data points with no label, because they don't really help in the training process.\n",
    "\n",
    "We should also apply a feature scaling in order to standardize all the values in the interval [0,1] <br>\n",
    "https://www.quora.com/Do-I-need-to-do-feature-scaling-for-simple-linear-regression <br>\n",
    "If you're using the analytical solution, feature scaling wont be of much use. In fact, you may want to refrain from feature scaling so that the model is more comprehensive. However, if you are using the gradient descent algorithm, feature scaling will help the solution converge in a shorter period of time."
   ]
  },
  {
   "cell_type": "markdown",
   "metadata": {},
   "source": [
    "https://towardsdatascience.com/python-data-preprocessing-using-pandas-dataframe-spark-dataframe-and-koalas-dataframe-e44c42258a8f\n",
    "\n",
    "Features engineering can be fundamental to the application of machine learning and it is achieved by various types of data transformation. A feature is a data column in DataFrame. The scope of features engineering varies, but typically includes the following:\n",
    "\n",
    "- Select a subset of existing data columns that are correlated with the prediction target in machine learning (i.e., labels in supervised machine learning)\n",
    "- Create new columns based on existing columns (i.e., create derived features)\n",
    "- Scale column values into a certain range (i.e., scaling column values into the range of [0,1] or [-1,1] in deep learning)"
   ]
  },
  {
   "cell_type": "code",
   "execution_count": 5,
   "metadata": {},
   "outputs": [],
   "source": [
    "# https://stackoverflow.com/questions/60281354/apply-minmaxscaler-on-multiple-columns-in-pyspark\n",
    "# lentissima\n",
    "\n",
    "from pyspark.ml.feature import MinMaxScaler\n",
    "from pyspark.ml import Pipeline\n",
    "from pyspark.ml.feature import VectorAssembler\n",
    "from pyspark.sql.functions import udf\n",
    "from pyspark.sql.types import DoubleType\n",
    "from pyspark.sql.functions import col\n",
    "\n",
    "def scale_features(df):\n",
    "    \"\"\"Scales all the features of a PySpark DataFrame so that all the values belongs to a range of [0, 1].\n",
    "\n",
    "    Args:\n",
    "        df (PySpark DataFrame): DataFrame we want to normalize.\n",
    "\n",
    "    Returns:\n",
    "        PySpark DataFrame: DataFrame with all the feature normalized in the interval [0, 1]\n",
    "    \"\"\"\n",
    "    \n",
    "    # scale all the columns in the dataframe\n",
    "    columns_to_scale = df.columns\n",
    "    \n",
    "    # MinMaxScaler works on vectors\n",
    "    assemblers = [VectorAssembler(inputCols = [col], outputCol = col + \"_vec\") for col in columns_to_scale]\n",
    "    scalers = [MinMaxScaler(inputCol = col + \"_vec\", outputCol = col + \"_scaled\") for col in columns_to_scale]\n",
    "    \n",
    "    # Pipeline of VectorAssembler and MinMaxScaler\n",
    "    pipeline = Pipeline(stages = assemblers + scalers)\n",
    "    \n",
    "    # fitting pipeline on dataframe\n",
    "    df = pipeline.fit(df).transform(df)\n",
    "    \n",
    "    # UDF for converting column type from vector to double type\n",
    "    # otherwise it return a vector for each new value we are adding\n",
    "    unlist = udf(lambda x: float(list(x)[0]), DoubleType())\n",
    "    \n",
    "    # names of the normalized columns\n",
    "    names = {x + \"_scaled\": x for x in columns_to_scale}\n",
    "\n",
    "    # convert vectors to double and restore original columns names\n",
    "    df = df.select([unlist(col(c)).alias(names[c]) for c in names.keys()])\n",
    "    \n",
    "    return df"
   ]
  },
  {
   "cell_type": "code",
   "execution_count": 6,
   "metadata": {},
   "outputs": [
    {
     "name": "stdout",
     "output_type": "stream",
     "text": [
      "We reduced the number of attributes from 231 to 215.\n"
     ]
    }
   ],
   "source": [
    "from pyspark.sql.functions import isnan, when, count, col\n",
    "import numpy as np\n",
    "from pyspark.ml.feature import Imputer\n",
    "\n",
    "def preprocess (df, na_threshold, label, imputer_strategy, feature_scaling = True):\n",
    "    \"\"\"Preprocess a PySpark DataFrame, dealing with null values.\n",
    "\n",
    "    Args:\n",
    "        df (PySpark DataFrame): DataFrame read by the csv file.\n",
    "        na_threshold (float between 0 and 1): threshold that establish if a feature should be dropped or not\n",
    "            based on its percentage of null values.\n",
    "        label (string): feature that corresponds to the chosen label to be predicted.\n",
    "        imputer_strategy (string): it can be `mean` or `median`, based on the imputation strategy we choose.\n",
    "        feature_scaling (boolean): if True, all the feature in the DataFrame are scaled to have values belonging\n",
    "            in intervall [0, 1], but it slows the process.\n",
    "\n",
    "    Returns:\n",
    "        PySpark DataFrame: Restult of the processing of the original DataFrame.\n",
    "    \"\"\"\n",
    "    \n",
    "    # remove RT: it is categorical and it has a constant value for all the data points in the dataset\n",
    "    df = df.drop('RT')\n",
    "    \n",
    "    # remove all the features that correspond to possible labels, but are not the chosen one\n",
    "    possible_labels = ['PERNP', 'PINCP', 'WAGP'] if inputPathA == 'ss13pusa.csv' else ['HINCP', 'FINCP']        \n",
    "    possible_labels.remove(label)\n",
    "    \n",
    "    for i in possible_labels:\n",
    "        df = df.drop(i)\n",
    "    \n",
    "    # cast features into double\n",
    "    df = df.select([col(c).cast(\"double\") for c in df.columns])\n",
    "    #df = df.select([col(c).cast(\"integer\") for c in df.columns])\n",
    "        \n",
    "    # compute the dataframe containing, for each of the features, the percentange of null values\n",
    "    null_df = df.select([(count(when(col(c).isNull(), c))/n).alias(c) for c in df.columns])\n",
    "    \n",
    "    # remove form the original dataframe all the attributes that have more null values than a given threshold\n",
    "    scheme = df.columns\n",
    "    null_distr = null_df.take(1)[0].asDict().values()\n",
    "    \n",
    "    for i in np.where(np.array(list(null_distr)) > na_threshold)[0]:\n",
    "        df = df.drop(scheme[i])\n",
    "        \n",
    "    print('We reduced the number of attributes from {} to {}.'.format(len(headerList), len(df.columns)))\n",
    "    \n",
    "    # remove all the data points with null value for the label\n",
    "    df = df.filter(df[label].isNotNull())    \n",
    "    \n",
    "    # replace all the missing values with the mean value of the corresponding feature\n",
    "    imputer = Imputer()\n",
    "    imputer.setInputCols(df.columns)\n",
    "    imputer.setOutputCols(df.columns)\n",
    "    imputer.setStrategy(imputer_strategy)\n",
    "\n",
    "    df = imputer.fit(df).transform(df)\n",
    "    \n",
    "    # scale the features (forse da fare prima dell'imputer)\n",
    "    if feature_scaling: df = scale_features(df)\n",
    "\n",
    "    return df\n",
    "        \n",
    "na_threshold = .6\n",
    "label = 'HINCP'\n",
    "imputer_strategy = 'mean'\n",
    "\n",
    "df = preprocess(df, na_threshold, label, imputer_strategy)"
   ]
  },
  {
   "cell_type": "markdown",
   "metadata": {},
   "source": [
    "Preprocessing is almost done. We may want to:\n",
    "\n",
    "- Remove column SERIALNO (it is just a unique number for every observation);\n",
    "- Tune the threshold for the feature dropping based on the percentage of missing values."
   ]
  },
  {
   "cell_type": "markdown",
   "metadata": {},
   "source": [
    "#### TODO: PCA?"
   ]
  },
  {
   "cell_type": "markdown",
   "metadata": {},
   "source": [
    "At this point, we save out DataFrame as a `.csv` file in order to avoid the preprocessing operation in the future runs of the project. Instead, we will directly read de preprocessed file as a PySpark Dataframe and we will directly execute the regressor on it."
   ]
  },
  {
   "cell_type": "code",
   "execution_count": 1,
   "metadata": {},
   "outputs": [],
   "source": [
    "import os.path\n",
    "\n",
    "baseDir = os.path.join('./data')\n",
    "inputPath = os.path.join('preprocessed_data')\n",
    "fileName = os.path.join(baseDir, inputPath)"
   ]
  },
  {
   "cell_type": "code",
   "execution_count": 9,
   "metadata": {},
   "outputs": [],
   "source": [
    "# write\n",
    "df.write.csv(fileName, header = True)"
   ]
  },
  {
   "cell_type": "code",
   "execution_count": 6,
   "metadata": {},
   "outputs": [
    {
     "name": "stdout",
     "output_type": "stream",
     "text": [
      "Number of columns: 215\n",
      "Number of rows: 1211264\n"
     ]
    }
   ],
   "source": [
    "# read\n",
    "df = sqlContext.read.csv(fileName, header = True)\n",
    "n = df.count()\n",
    "headerList = df.columns\n",
    "\n",
    "print(\"Number of columns: {}\\nNumber of rows: {}\".format(len(headerList), n))"
   ]
  },
  {
   "cell_type": "markdown",
   "metadata": {},
   "source": [
    "### Labeled points\n",
    "\n",
    "Let us now cast all the data point into `LabeledPoint`. The label is the one we select from the 5 different possible labels given by the project, while all the other possible labels have to be removed from the feature vector."
   ]
  },
  {
   "cell_type": "code",
   "execution_count": 8,
   "metadata": {},
   "outputs": [
    {
     "name": "stdout",
     "output_type": "stream",
     "text": [
      "[0.15379668698809854,0.625,0.014244811327473968,0.6666666666666666,0.8363636363636363,0.5,0.5,0.053610503282275714,0.05263157894736842,0.5,0.0,0.0,0.0,0.15789473684210525,0.1111111111111111,1.0,1.0,1.0,1.0,1.0,0.3823038397328882,1.0,1.0,0.00013890818169190166,0.0036429872495446266,1.0,0.25,0.0,0.0,0.0,1.0,1.0,0.0,0.20833333333333334,0.0,0.5,1.0,0.0,0.0,0.0,0.3333333333333333,0.0,0.0355818970030786,0.16666666666666666,0.007251812953238309,0.5625,0.42857142857142855,0.0,0.0,1.0,0.0,0.0,0.0,0.0,1.0,1.0,1.0,0.0,0.0,0.0,0.5,0.0,0.0,0.0,0.0,0.0,0.08,0.0,0.0,0.0,0.0,1.0,0.5,1.0,0.02356361410756637,0.0,0.0,1.0,0.2835820895522388,0.0,0.5714285714285714,0.5714285714285714,0.0,0.0,0.0,0.0,0.0,0.0,0.0,0.0,0.0,0.0,0.0,0.0,0.0,0.0,0.0,0.0,0.0,0.0,0.0,0.0,0.0,0.0,0.0,0.0,0.0,0.0,0.0,0.0,0.0,0.0,0.0,0.0,0.0,0.0,0.0,0.0,0.5,0.0,0.0,0.0,0.0,0.0,0.0,0.0,0.0,0.0,0.0,0.5,0.0,0.0,0.0,0.0,0.09981785063752277,0.07490144546649145,0.08244680851063829,0.07751147373788883,0.19058713886300094,0.20123456790123456,0.22226111305565277,0.04375752709755119,0.030775899436497615,0.09764758100310697,0.05496378355347252,0.05475206611570248,0.055145462440295265,0.046493301812450746,0.11082138200782268,0.017317760773258157,0.14175152749490835,0.08549874266554904,0.07006071929005138,0.0602540834845735,0.08378136200716846,0.10647279549718575,0.14802211824755424,0.10853658536585366,0.06501128668171557,0.1028914757791964,0.06501182033096926,0.046903460837887066,0.06318560772268539,0.061252268602540835,0.15053367684946634,0.09739747634069401,0.09456148946594807,0.10628875110717449,0.07326355851569934,0.05792163543441227,0.025423728813559324,0.13582531458179126,0.09357277882797732,0.1397459165154265,0.10826844642195031,0.08057090239410682,0.06535648994515539,0.07094594594594594,0.09738012852199704,0.2765838682668155,0.22750997850782928,0.13693940431359122,0.06636363636363636,0.08935546875,0.0544799639801891,0.08288530465949821,0.09509844993715962,0.12261806130903065,0.18197879858657243,0.012830482115085537,0.061953931691818905,0.04268032437046521,0.07045561296383279,0.0440771349862259,0.06515216459494214,0.0780977312390925,0.05337646583097452,0.13026140894993354,0.04462809917355372,0.10110224249334854,0.06839276990718124,0.024171888988361683,0.052452830188679245,0.04214402618657938,0.0816593886462882,0.18639262934089298,0.08300044385264092,0.13405362144857944,0.06258148631029987,0.04665226781857451,0.017051153460381142,0.017437722419928827,0.07174231332357248,0.12639405204460966], 0.0294676670916735\n",
      "214\n"
     ]
    }
   ],
   "source": [
    "from pyspark.mllib.regression import LabeledPoint\n",
    "\n",
    "def parsePoint(row):\n",
    "    \"\"\"Converts a row of a pyspark dataframe into a `LabeledPoint`.\n",
    "\n",
    "    Args:\n",
    "        row: Row of a dataframe composed all of double values. One of those values corresponds to the label, while\n",
    "            other possible lables have to be removed.\n",
    "\n",
    "    Returns:\n",
    "        LabeledPoint: The line is converted into a `LabeledPoint`, which consists of a label and\n",
    "            features.\n",
    "    \"\"\"\n",
    "    \n",
    "    # select chosen label\n",
    "    label = 'HINCP'\n",
    "    \n",
    "    # cast row into a dictionary\n",
    "    row_dict = row.asDict()\n",
    "    label_value = row_dict[label]\n",
    "    \n",
    "    del row_dict[label]\n",
    "    feature_list = list(row_dict.values())\n",
    "    \n",
    "    return LabeledPoint(label_value, feature_list)\n",
    "\n",
    "# cast DataFrame to RDD (python does not support Spark Dataset API)\n",
    "parsedData = df.rdd.map(lambda s: parsePoint(s))\n",
    "\n",
    "parsedExamplePoint = parsedData.take(1)\n",
    "examplePointFeatures = parsedExamplePoint[0].features\n",
    "examplePointLabel = parsedExamplePoint[0].label\n",
    "print('{}, {}'.format(examplePointFeatures, examplePointLabel))\n",
    "\n",
    "d = len(examplePointFeatures)\n",
    "print(d)"
   ]
  },
  {
   "cell_type": "markdown",
   "metadata": {},
   "source": [
    "## Learning algorithm\n",
    "\n",
    "### Training, validation and test sets\n",
    "\n",
    "https://unraveldata.com/to-cache-or-not-to-cache/\n",
    "\n",
    "Caching RDDs in Spark: It is one mechanism to speed up applications that access the same RDD multiple times. An RDD that is not cached, nor checkpointed, is re-evaluated again each time an action is invoked on that RDD.<br>\n",
    "When to use caching: As suggested in this post, it is recommended to use caching in the following situations: RDD re-use in iterative machine learning applications.<br>\n",
    "\n",
    "Let us sample our dataset in order to test the algorithm. We will use the whole dataset only at the end, to actually train the model."
   ]
  },
  {
   "cell_type": "code",
   "execution_count": 11,
   "metadata": {},
   "outputs": [
    {
     "data": {
      "text/plain": [
       "11950"
      ]
     },
     "execution_count": 11,
     "metadata": {},
     "output_type": "execute_result"
    }
   ],
   "source": [
    "# lento\n",
    "\n",
    "sampledData = parsedData.sample(False, .01)\n",
    "sampledData.count()"
   ]
  },
  {
   "cell_type": "code",
   "execution_count": 12,
   "metadata": {},
   "outputs": [
    {
     "data": {
      "text/plain": [
       "PythonRDD[40] at RDD at PythonRDD.scala:53"
      ]
     },
     "execution_count": 12,
     "metadata": {},
     "output_type": "execute_result"
    }
   ],
   "source": [
    "weights = [.8, .1, .1]\n",
    "seed = 42\n",
    "\n",
    "#parsedTrainData, parsedValData, parsedTestData = parsedData.randomSplit(weights, seed = seed)\n",
    "parsedTrainData, parsedValData, parsedTestData = sampledData.randomSplit(weights, seed = seed)\n",
    "parsedTrainData.cache()\n",
    "parsedValData.cache()\n",
    "parsedTestData.cache()"
   ]
  },
  {
   "cell_type": "markdown",
   "metadata": {},
   "source": [
    "### Square Loss\n",
    "\n",
    "\\begin{equation}\n",
    "    l(\\underline{w}) = \\sum_{j=1}^n (\\hat{y}^{(j)} - y^{(j)})^2\n",
    "\\end{equation}\n",
    "\n",
    "Where:\n",
    "\n",
    "- $\\underline{w}$ is the weight vector;\n",
    "- $\\hat{y}^{(j)} = \\underline{w} \\cdot \\underline{x}^{(j)}$ is our prediction with respect to the $j$-th observation;\n",
    "- $y^{(j)}$ is the actual label of the $j$-th observation.\n",
    "\n",
    "\\begin{equation}\n",
    "    l(\\underline{w}) = \\sum_{j=1}^n (\\underline{w} \\cdot \\underline{x}^{(j)} - y^{(j)})^2\n",
    "\\end{equation}"
   ]
  },
  {
   "cell_type": "code",
   "execution_count": 13,
   "metadata": {},
   "outputs": [],
   "source": [
    "def squaredError(label, prediction):\n",
    "    \"\"\"Calculates the the squared error for a single prediction.\n",
    "\n",
    "    Args:\n",
    "        label (float): The correct value for this observation.\n",
    "        prediction (float): The predicted value for this observation.\n",
    "\n",
    "    Returns:\n",
    "        float: The difference between the `label` and `prediction` squared.\n",
    "    \"\"\"\n",
    "    \n",
    "    return (label - prediction) ** 2\n",
    "\n",
    "def calcRMSE(labelsAndPreds):\n",
    "    \"\"\"Calculates the root mean squared error for an `RDD` of (label, prediction) tuples.\n",
    "\n",
    "    Args:\n",
    "        labelsAndPred (RDD of (float, float)): An `RDD` consisting of (label, prediction) tuples.\n",
    "\n",
    "    Returns:\n",
    "        float: The square root of the mean of the squared errors.\n",
    "    \"\"\"\n",
    "    \n",
    "    return np.sqrt(labelsAndPreds.map(lambda p: squaredError(*p)).mean())"
   ]
  },
  {
   "cell_type": "markdown",
   "metadata": {},
   "source": [
    "### Ridge regression\n",
    "\n",
    "Learn the best weight vector $\\underline{w}^{*}$:\n",
    "\n",
    "\\begin{equation}\n",
    "\\underline{w}^{*} = \\operatorname*{argmin}_{\\underline{w}} ||X \\cdot \\underline{w} - \\underline{y}||^2 + \\lambda ||\\underline{w}||^2\n",
    "\\end{equation}\n",
    "\n",
    "where:\n",
    "\n",
    "- $X$ is a matrix where each row is a data point;\n",
    "- $\\underline{y}$ is the vector of the labels;\n",
    "- $\\lambda > 0$ is the regularization parameter (it has to be chosen before hands).\n",
    "\n",
    "We can find the optimal value $\\underline{w}^{*}$ computing the gradient of the function:\n",
    "\n",
    "\\begin{equation}\n",
    "\\underline{w}^{*} = (X^T X + \\lambda I)^{-1} X^T \\underline{y}\n",
    "\\end{equation}"
   ]
  },
  {
   "cell_type": "markdown",
   "metadata": {
    "slideshow": {
     "slide_type": "slide"
    }
   },
   "source": [
    "#### Gradient descent\n",
    "\n",
    "If the number $d$ of features and the number $n$ of data points in our dataset are too big, the complexity in time and space of our algorithm may be too high and we may not be able to compute the optimal value for $\\underline{w}$. To solve this problem, we can rely on the gradient descent procedure:\n",
    "\n",
    "1. choose $\\underline{w}_0 \\in R^d$\n",
    "2. $i = 0$\n",
    "3. while (!stop) {\n",
    "    1. $\\underline{w}_{i+1} = \\underline{w}_i - \\xi_i \\left[ \\sum_{j=1}^n (\\underline{w}_i \\cdot \\underline{x}^{(j)} - y^{(j)}) \\underline{x}^{(j)} + \\lambda \\underline{w}_i \\right]$\n",
    "    2. i++\n",
    "4. }\n",
    "5. return $\\underline{w}_i$\n",
    "\n",
    "Where:\n",
    "\n",
    "- $\\underline{w_i}$ is the approximated optimal weight vector;\n",
    "- stop is a termination criterion of our choice;\n",
    "- $\\xi_i$ is the learning rate:\n",
    "    \\begin{equation}\n",
    "        \\xi_i = \\frac{\\xi_0}{n \\sqrt{i}}\n",
    "    \\end{equation}\n",
    "    \n",
    "#### TODO: non sto considerando l'intercetta $\\underline{w_o}$"
   ]
  },
  {
   "cell_type": "markdown",
   "metadata": {},
   "source": [
    "Let us focus on the update:\n",
    "\\begin{equation}\n",
    "    \\underline{w}_{i+1} = \\underline{w}_i - \\xi_i \\left[ \\sum_{j=1}^n (\\underline{w}_i \\cdot \\underline{x}^{(j)} - y^{(j)}) \\underline{x}^{(j)} + \\lambda \\underline{w}_i \\right]\n",
    "\\end{equation}\n",
    "\n",
    "Let us begin writing a function that computes the summand of the update: $(\\underline{w}_i \\cdot \\underline{x}^{(j)} - y^{(j)}) \\underline{x}^{(j)}$. "
   ]
  },
  {
   "cell_type": "code",
   "execution_count": 14,
   "metadata": {},
   "outputs": [],
   "source": [
    "from pyspark.mllib.linalg import DenseVector\n",
    "\n",
    "def gradientSummand(weights, lp):\n",
    "    \"\"\"Calculates the gradient summand for a given weight and `LabeledPoint`.\n",
    "\n",
    "    Note:\n",
    "        `DenseVector` behaves similarly to a `numpy.ndarray` and they can be used interchangably\n",
    "        within this function.  For example, they both implement the `dot` method.\n",
    "\n",
    "    Args:\n",
    "        weights (DenseVector): An array of model weights (betas).\n",
    "        lp (LabeledPoint): The `LabeledPoint` for a single observation.\n",
    "\n",
    "    Returns:\n",
    "        DenseVector: An array of values the same length as `weights`.  The gradient summand.\n",
    "    \"\"\"\n",
    "    \n",
    "    return (weights.dot(DenseVector(lp.features)) - lp.label) * lp.features"
   ]
  },
  {
   "cell_type": "markdown",
   "metadata": {},
   "source": [
    "Next, we write the function that makes the prediction, based on the weights vector $\\underline{w}$ and the observation $\\underline{x}^{(j)}$:\n",
    "\n",
    "\\begin{equation}\n",
    "    \\hat{y}^{(j)} = \\underline{w} \\cdot \\underline{x}^{(j)}\n",
    "\\end{equation}"
   ]
  },
  {
   "cell_type": "code",
   "execution_count": 15,
   "metadata": {},
   "outputs": [],
   "source": [
    "def getLabeledPrediction(weights, observation):\n",
    "    \"\"\"Calculates predictions and returns a (label, prediction) tuple.\n",
    "\n",
    "    Note:\n",
    "        The labels should remain unchanged as we'll use this information to calculate prediction\n",
    "        error later.\n",
    "\n",
    "    Args:\n",
    "        weights (np.ndarray): An array with one weight for each features in `trainData`.\n",
    "        observation (LabeledPoint): A `LabeledPoint` that contain the correct label and the\n",
    "            features for the data point.\n",
    "\n",
    "    Returns:\n",
    "        tuple: A (label, prediction) tuple.\n",
    "    \"\"\"\n",
    "    \n",
    "    return (observation.label, weights.dot(DenseVector(observation.features)))"
   ]
  },
  {
   "cell_type": "markdown",
   "metadata": {},
   "source": [
    "Finally, we can write the code that learns the best weight vector $\\underline{w}^*$ using the gradient descent procedure."
   ]
  },
  {
   "cell_type": "code",
   "execution_count": 16,
   "metadata": {},
   "outputs": [],
   "source": [
    "import datetime\n",
    "import math\n",
    "\n",
    "# this is just to print time values in a more human readable form\n",
    "def to_hhmmss(seconds):\n",
    "    times = list(map(int,\n",
    "                     str(datetime.timedelta(seconds=math.floor(seconds))).split(':')))\n",
    "    units = ('hour', 'minute', 'second')\n",
    "    plurals = ['s' if int(t) else '' for t in times]\n",
    "\n",
    "    return ' '.join(['{} {}{}'.format(t, u, p)\n",
    "                    for t, u, p in zip(times, units, plurals) if t])"
   ]
  },
  {
   "cell_type": "code",
   "execution_count": 19,
   "metadata": {},
   "outputs": [],
   "source": [
    "import progressbar\n",
    "import time\n",
    "import numpy as np\n",
    "\n",
    "def ridgeRegression(trainData, nIters, csi, regFactor):\n",
    "    \"\"\"Calculates the weights and error for a linear regression model trained with gradient descent.\n",
    "\n",
    "    Note:\n",
    "        `DenseVector` behaves similarly to a `numpy.ndarray` and they can be used interchangably\n",
    "        within this function.  For example, they both implement the `dot` method.\n",
    "\n",
    "    Args:\n",
    "        trainData (RDD of LabeledPoint): The labeled data for use in training the model.\n",
    "        nIters (int): The number of iterations of gradient descent to perform.\n",
    "        regFactor (float greater then 0): Regularization factor used in ridge regression.\n",
    "\n",
    "    Returns:\n",
    "        (np.ndarray, np.ndarray): A tuple of (weights, training errors).  Weights will be the\n",
    "            final weights (one weight per feature) for the model, and training errors will contain\n",
    "            an error (RMSE) for each iteration of the algorithm.\n",
    "    \"\"\" \n",
    "    \n",
    "    # start the timer\n",
    "    #time_start = time.time()\n",
    "    \n",
    "    # number of data points in training set\n",
    "    # TODO: count è lenta (non è però nel loop, non è questo che rallenta)\n",
    "    n = trainData.count()\n",
    "    \n",
    "    # number of dimensions\n",
    "    d = len(trainData.take(1)[0].features)\n",
    "    \n",
    "    # initialize weight vector with a vector of d zero components\n",
    "    w = np.zeros(d)\n",
    "    \n",
    "    # we will compute and store the training error after each iteration in order to evaluate the process\n",
    "    errorTrain = np.zeros(nIters)\n",
    "    \n",
    "    # setup the progress bar\n",
    "    bar = progressbar.ProgressBar(maxval = nIters,\n",
    "                                  widgets = [progressbar.Bar('=', '[', ']'), ' ', progressbar.Percentage()])\n",
    "    bar.start()\n",
    "    \n",
    "    for i in range(nIters):\n",
    "        # make the prediction with the current learnt weight vector\n",
    "        labelsAndPredsTrain = trainData.map(lambda p: getLabeledPrediction(w, p))\n",
    "        \n",
    "        # compute the error and add it to the list\n",
    "        errorTrain[i] = calcRMSE(labelsAndPredsTrain)\n",
    "        \n",
    "        # compute the gradient\n",
    "        #gradient = sum([DenseVector(gradientSummand(w, lp)) for lp in trainData.collect()]) + (regFactor * w)\n",
    "        gradientSum = trainData.map(lambda lp: DenseVector(gradientSummand(w, lp))) \\\n",
    "                        .reduce(lambda x, y: x + y)\n",
    "        gradient = gradientSum + (regFactor * w)\n",
    "\n",
    "        # update the learning rate\n",
    "        csi_i = csi / (n * np.sqrt(i + 1))\n",
    "        \n",
    "        # update the weights\n",
    "        w -= csi_i * gradient\n",
    "        #w = (1 - csi_i * regFactoractor) * w - csi_i * gradientSum\n",
    "        \n",
    "        # update the progress bar\n",
    "        bar.update(i + 1)\n",
    "        \n",
    "    bar.finish()\n",
    "    #elapsed = to_hhmmss(time.time()-time_start)\n",
    "    #print('Ridge regression training with parameters:\\n\\tnumber of iterations = {},\\n\\tlearning rate = {},\\\n",
    "    #    \\n\\tregularization factor = {},\\ndone! Time elapsed: {}\\n\\n'.format(numIters, csi, regFactor, elapsed))\n",
    "\n",
    "    return w, errorTrain"
   ]
  },
  {
   "cell_type": "markdown",
   "metadata": {},
   "source": [
    "Now, we can train our ridge regressor on the trainig data we have and evaluate it on our validation set."
   ]
  },
  {
   "cell_type": "code",
   "execution_count": null,
   "metadata": {},
   "outputs": [
    {
     "name": "stderr",
     "output_type": "stream",
     "text": [
      "[========================================================================] 100%\n"
     ]
    }
   ],
   "source": [
    "numIters = 50\n",
    "regFactor = 0\n",
    "csi = 1e-15\n",
    "\n",
    "weights, errorTrain = ridgeRegression(parsedTrainData, numIters, csi, regFactor)\n",
    "\n",
    "labelsAndPreds = parsedValData.map(lambda p: getLabeledPrediction(weights, p))\n",
    "rmseVal = calcRMSE(labelsAndPreds)\n",
    "\n",
    "print('Validation RMSE: = {}'.format(rmseVal))"
   ]
  },
  {
   "cell_type": "code",
   "execution_count": 83,
   "metadata": {},
   "outputs": [
    {
     "name": "stderr",
     "output_type": "stream",
     "text": [
      "[========================================================================] 100%\n"
     ]
    },
    {
     "name": "stdout",
     "output_type": "stream",
     "text": [
      "Validation RMSE:\n",
      "\tLR0 = 105377.37837129438\n"
     ]
    }
   ],
   "source": [
    "numIters = 500\n",
    "regFactor = 0\n",
    "csi = 1e-15\n",
    "\n",
    "weightsLR0, errorTrainLR0 = ridgeRegression(parsedTrainData, numIters, csi, regFactor)\n",
    "\n",
    "labelsAndPreds = parsedValData.map(lambda p: getLabeledPrediction(weightsLR0, p))\n",
    "rmseValLR0 = calcRMSE(labelsAndPreds)\n",
    "\n",
    "print('Validation RMSE:\\n\\tLR0 = {}'.format(rmseValLR0))"
   ]
  },
  {
   "cell_type": "code",
   "execution_count": 90,
   "metadata": {},
   "outputs": [
    {
     "name": "stdout",
     "output_type": "stream",
     "text": [
      "(37100.0, 6485.65773645798)\n",
      "(76000.0, 6401.255646433403)\n",
      "(119850.0, 6430.36087746474)\n",
      "(7850.0, 6485.962803839198)\n",
      "(115900.0, 6361.489208872598)\n",
      "(72350.0, 6214.824146807196)\n"
     ]
    }
   ],
   "source": [
    "print(getLabeledPrediction(weightsLR0, parsedTrainData.take(1)[0]))\n",
    "print(getLabeledPrediction(weightsLR0, parsedTrainData.take(2)[1]))\n",
    "print(getLabeledPrediction(weightsLR0, parsedTrainData.take(3)[2]))\n",
    "print(getLabeledPrediction(weightsLR0, parsedTrainData.take(4)[3]))\n",
    "print(getLabeledPrediction(weightsLR0, parsedTrainData.take(5)[4]))\n",
    "print(getLabeledPrediction(weightsLR0, parsedTrainData.take(6)[5]))"
   ]
  },
  {
   "cell_type": "code",
   "execution_count": 129,
   "metadata": {},
   "outputs": [
    {
     "data": {
      "image/png": "[encoded data removed]",
      "text/plain": [
       "<Figure size 864x504 with 1 Axes>"
      ]
     },
     "metadata": {
      "needs_background": "light"
     },
     "output_type": "display_data"
    }
   ],
   "source": [
    "fig = plt.figure(figsize = (12, 7))\n",
    "plt.plot(np.arange(1, len(errorTrainLR0) + 1), np.log(errorTrainLR0))\n",
    "fig.suptitle('Evolution of training error through iterations', fontsize=20)\n",
    "plt.xlabel('Iteration', fontsize=14)\n",
    "plt.ylabel(r'$\\log_e($Training error$)$', fontsize=14)\n",
    "plt.show()"
   ]
  },
  {
   "cell_type": "markdown",
   "metadata": {},
   "source": [
    "### Ridge regression via MLlib\n",
    "\n",
    "To understand the correctness and the performance of our implementation, we can run the same experiment exploiting the implementation of MLib"
   ]
  },
  {
   "cell_type": "code",
   "execution_count": 79,
   "metadata": {},
   "outputs": [],
   "source": [
    "from pyspark.mllib.regression import LinearRegressionWithSGD\n",
    "# Values to use when training the linear regression model\n",
    "numIters = 500  # iterations\n",
    "alpha = 1e-15 #1.0  # step\n",
    "miniBatchFrac = 1.0  # miniBatchFraction\n",
    "reg = 0  # regParam\n",
    "regType = 'l2'  # regType\n",
    "useIntercept = True  # intercept"
   ]
  },
  {
   "cell_type": "code",
   "execution_count": 80,
   "metadata": {},
   "outputs": [
    {
     "name": "stdout",
     "output_type": "stream",
     "text": [
      "[9.570146438470868e-05,6.571246906741327e-10,6.210217855447338e-07,3.363402040558611e-10,3.530639242232845e-09,0.0001282819640199021,0.00012925036456628842,1.1992563848113321e-08,3.593619993125623e-10,1.2828196401990206e-10,1.5702195861050248e-10,1.6751249000258168e-10,1.2848295513505764e-10,4.142582870512099e-10,3.411976351710257e-10,1.919746252770391e-10,2.5445309849716347e-10,2.483564650147677e-10,2.523961606068469e-10,2.196760391071731e-10,2.031435280753193e-08,2.393479624646188e-10,2.502170929934696e-10,1.973374525884046e-08,7.3141787644253475e-09,1.5768550968444896e-10,2.7169458647953694e-10,1.4769458609318695e-07,1.405491187357085e-10,1.833380191997156e-10,2.1123141129248832e-10,2.5464294850065653e-10,1.285162350495366e-10,9.032742947102422e-10,1.2850901054126583e-10,1.1545376761791194e-09,2.483168471381023e-10,1.284697104635063e-10,1.2869459658492832e-10,1.3016445876485942e-10,2.0856084839529392e-10,1.2848586907276028e-10,4.736360983379025e-05,2.8029977036219345e-10,6.304671986430856e-08,6.878073782679108e-10,3.2669546648588364e-10,2.8457193800456533e-11,3.564351902660094e-11,4.019153673477426e-10,3.774981388579875e-11,1.7280041666474834e-10,2.6232307521074156e-10,5.355205802635626e-12,4.222622160490351e-10,4.3110208164767497e-10,4.2309498482866547e-10,1.2880368915980267e-10,1.309010718019838e-10,1.3392069025932165e-10,5.511555876267154e-10,7.461644901099833e-11,3.950500641531191e-10,4.963920014381919e-13,1.2411575210940668e-11,8.18277702430197e-11,2.2832908723697073e-09,1.951823734894449e-11,1.2858780092811052e-10,4.555541108824135e-12,4.480128849570649e-11,7.220803061083645e-11,4.7425503902742204e-11,2.8494838510928015e-10,2.1171843658405885e-07,2.3156076250027435e-11,9.753747540486592e-13,9.004910896633885e-11,5.029479917325421e-09,2.1208188202823477e-10,6.591346906773629e-10,5.856177353842637e-10,5.3000031769316055e-12,3.024397489129927e-12,8.490758309266068e-13,1.2974129776056057e-12,2.278898943242462e-12,1.0232808701371964e-12,3.536370367915719e-11,2.3899645144476463e-12,4.8141426874204645e-12,6.730825021229168e-13,5.800087957770804e-12,5.808265807947867e-12,8.568144008502603e-12,5.8072443647756925e-12,1.6910345429263752e-12,1.1595577977252469e-11,1.1705066436649949e-11,4.473324773065151e-12,3.5316385628870245e-12,1.942855403471585e-11,2.298668158584761e-12,4.373068926925594e-12,7.505317319519672e-13,5.8072443647756925e-12,6.596105203171909e-12,6.921142684317492e-12,6.220022070547516e-12,1.8978163091755187e-12,2.8809575608622475e-12,5.8072443647756925e-12,1.7021738253594794e-12,1.4491364302423118e-12,3.3648255008619332e-12,4.163648399722333e-13,1.632841783733698e-12,8.762290625886378e-13,0.0,5.8072443647756925e-12,1.2837770354022614e-12,6.071543729226109e-12,2.2153902016391404e-12,1.840209041684906e-12,1.3260926594367927e-12,1.357981502545055e-11,1.4135112899232331e-12,1.337366302198501e-12,1.1660021522789849e-12,0.0,8.4840141322259e-12,1.4681691071032702e-12,9.09924561745469e-12,7.671487688035065e-12,1.2015402836787314e-08,1.2002509074075236e-08,1.1997351061132011e-08,1.1987198236403849e-08,1.2009881021629458e-08,1.2008741222591171e-08,1.1987728041182549e-08,1.1985296912273072e-08,1.1995273999998187e-08,1.2000852927809214e-08,1.2014904678990185e-08,1.2000570397665585e-08,1.2000719300402844e-08,1.2002992277919007e-08,1.199690789955059e-08,1.2015106082622746e-08,1.199570960838701e-08,1.1990599334998752e-08,1.2010085496196467e-08,1.1992272413029153e-08,1.1986737058684655e-08,1.1998291025192033e-08,1.2005071487734785e-08,1.2000062749882677e-08,1.1999541464152998e-08,1.2004620673016007e-08,1.1985351835125329e-08,1.2003830876653406e-08,1.1998551892233457e-08,1.1988815218894628e-08,1.2013706049680663e-08,1.199367603096631e-08,1.198541377268194e-08,1.1982927314152915e-08,1.200520552180396e-08,1.199902225169615e-08,1.1988770672525789e-08,1.1990340132975652e-08,1.1992217615867638e-08,1.1998639841242871e-08,1.2007145480406501e-08,1.1993521103391536e-08,1.1998311815997897e-08,1.199784138579973e-08,1.1990616770635245e-08,1.2004086230569092e-08,1.1990258002193008e-08,1.1995319985879847e-08,1.1996450860472538e-08,1.2011818663113762e-08,1.200675685752449e-08,1.1992760527535294e-08,1.1996171466694172e-08,1.2014369050259186e-08,1.2008726330020175e-08,1.199793796780707e-08,1.199300175146177e-08,1.2003963545966927e-08,1.1997548224712829e-08,1.2011947614859666e-08,1.1992009519605184e-08,1.198439592165748e-08,1.2001765472758097e-08,1.1985042134815104e-08,1.1996869382789974e-08,1.1995515510642092e-08,1.2007758096102e-08,1.200030615290197e-08,1.1995525243627942e-08,1.1997911331387379e-08,1.1990524312562634e-08,1.2006917580997871e-08,1.2006357325519713e-08,1.1982282720094027e-08,1.2011154444212702e-08,1.1984832835852698e-08,1.1999632880361192e-08,1.1991053549129936e-08,1.1993847804075429e-08,1.1991370976080293e-08] 1.000000000128282\n"
     ]
    }
   ],
   "source": [
    "firstModel = LinearRegressionWithSGD.train(parsedTrainData,\n",
    "                                           iterations=numIters,\n",
    "                                           step=alpha,\n",
    "                                           miniBatchFraction=miniBatchFrac,\n",
    "                                           regParam=reg,\n",
    "                                           regType=regType,\n",
    "                                           intercept=useIntercept)\n",
    "\n",
    "# weightsLR1 stores the model weights; interceptLR1 stores the model intercept\n",
    "weightsLR1 = firstModel.weights\n",
    "interceptLR1 = firstModel.intercept\n",
    "print(weightsLR1, interceptLR1)"
   ]
  },
  {
   "cell_type": "code",
   "execution_count": 81,
   "metadata": {},
   "outputs": [
    {
     "name": "stdout",
     "output_type": "stream",
     "text": [
      "271.26736421875574\n"
     ]
    }
   ],
   "source": [
    "samplePoint = parsedTrainData.take(1)[0]\n",
    "samplePrediction = firstModel.predict(samplePoint.features)\n",
    "print(samplePrediction)"
   ]
  },
  {
   "cell_type": "code",
   "execution_count": 75,
   "metadata": {},
   "outputs": [
    {
     "data": {
      "text/plain": [
       "37100.0"
      ]
     },
     "execution_count": 75,
     "metadata": {},
     "output_type": "execute_result"
    }
   ],
   "source": [
    "parsedTrainData.take(1)[0].label"
   ]
  },
  {
   "cell_type": "code",
   "execution_count": 18,
   "metadata": {},
   "outputs": [
    {
     "name": "stderr",
     "output_type": "stream",
     "text": [
      "[========================================================================] 100%\n"
     ]
    },
    {
     "name": "stdout",
     "output_type": "stream",
     "text": [
      "Ridge regression training with parameters:\n",
      "\tnumber of iterations = 1000,\n",
      "\tlearning rate = 1e-15,        \n",
      "\tregularization factor = 1e-06,\n",
      "done! Time elapsed: 20 hours 52 minutes 25 seconds\n",
      "\n",
      "\n"
     ]
    },
    {
     "ename": "Py4JJavaError",
     "evalue": "An error occurred while calling z:org.apache.spark.api.python.PythonRDD.collectAndServe.\n: org.apache.spark.SparkException: Job aborted due to stage failure: Task 7 in stage 2017.0 failed 1 times, most recent failure: Lost task 7.0 in stage 2017.0 (TID 32089, localhost, executor driver): org.apache.spark.api.python.PythonException: Traceback (most recent call last):\n  File \"/usr/local/spark/python/lib/pyspark.zip/pyspark/worker.py\", line 377, in main\n    process()\n  File \"/usr/local/spark/python/lib/pyspark.zip/pyspark/worker.py\", line 372, in process\n    serializer.dump_stream(func(split_index, iterator), outfile)\n  File \"/usr/local/spark/python/pyspark/rdd.py\", line 2499, in pipeline_func\n    return func(split, prev_func(split, iterator))\n  File \"/usr/local/spark/python/pyspark/rdd.py\", line 2499, in pipeline_func\n    return func(split, prev_func(split, iterator))\n  File \"/usr/local/spark/python/pyspark/rdd.py\", line 352, in func\n    return f(iterator)\n  File \"/usr/local/spark/python/pyspark/rdd.py\", line 1065, in <lambda>\n    return self.mapPartitions(lambda i: [StatCounter(i)]).reduce(redFunc)\n  File \"/usr/local/spark/python/lib/pyspark.zip/pyspark/statcounter.py\", line 42, in __init__\n    for v in values:\n  File \"/usr/local/spark/python/lib/pyspark.zip/pyspark/util.py\", line 99, in wrapper\n    return f(*args, **kwargs)\n  File \"<ipython-input-18-78f4da90ecfd>\", line 7, in <lambda>\nNameError: name 'weightsRR0' is not defined\n\n\tat org.apache.spark.api.python.BasePythonRunner$ReaderIterator.handlePythonException(PythonRunner.scala:456)\n\tat org.apache.spark.api.python.PythonRunner$$anon$1.read(PythonRunner.scala:592)\n\tat org.apache.spark.api.python.PythonRunner$$anon$1.read(PythonRunner.scala:575)\n\tat org.apache.spark.api.python.BasePythonRunner$ReaderIterator.hasNext(PythonRunner.scala:410)\n\tat org.apache.spark.InterruptibleIterator.hasNext(InterruptibleIterator.scala:37)\n\tat scala.collection.Iterator$class.foreach(Iterator.scala:891)\n\tat org.apache.spark.InterruptibleIterator.foreach(InterruptibleIterator.scala:28)\n\tat scala.collection.generic.Growable$class.$plus$plus$eq(Growable.scala:59)\n\tat scala.collection.mutable.ArrayBuffer.$plus$plus$eq(ArrayBuffer.scala:104)\n\tat scala.collection.mutable.ArrayBuffer.$plus$plus$eq(ArrayBuffer.scala:48)\n\tat scala.collection.TraversableOnce$class.to(TraversableOnce.scala:310)\n\tat org.apache.spark.InterruptibleIterator.to(InterruptibleIterator.scala:28)\n\tat scala.collection.TraversableOnce$class.toBuffer(TraversableOnce.scala:302)\n\tat org.apache.spark.InterruptibleIterator.toBuffer(InterruptibleIterator.scala:28)\n\tat scala.collection.TraversableOnce$class.toArray(TraversableOnce.scala:289)\n\tat org.apache.spark.InterruptibleIterator.toArray(InterruptibleIterator.scala:28)\n\tat org.apache.spark.rdd.RDD$$anonfun$collect$1$$anonfun$15.apply(RDD.scala:990)\n\tat org.apache.spark.rdd.RDD$$anonfun$collect$1$$anonfun$15.apply(RDD.scala:990)\n\tat org.apache.spark.SparkContext$$anonfun$runJob$5.apply(SparkContext.scala:2101)\n\tat org.apache.spark.SparkContext$$anonfun$runJob$5.apply(SparkContext.scala:2101)\n\tat org.apache.spark.scheduler.ResultTask.runTask(ResultTask.scala:90)\n\tat org.apache.spark.scheduler.Task.run(Task.scala:123)\n\tat org.apache.spark.executor.Executor$TaskRunner$$anonfun$10.apply(Executor.scala:408)\n\tat org.apache.spark.util.Utils$.tryWithSafeFinally(Utils.scala:1360)\n\tat org.apache.spark.executor.Executor$TaskRunner.run(Executor.scala:414)\n\tat java.util.concurrent.ThreadPoolExecutor.runWorker(ThreadPoolExecutor.java:1149)\n\tat java.util.concurrent.ThreadPoolExecutor$Worker.run(ThreadPoolExecutor.java:624)\n\tat java.lang.Thread.run(Thread.java:748)\n\nDriver stacktrace:\n\tat org.apache.spark.scheduler.DAGScheduler.org$apache$spark$scheduler$DAGScheduler$$failJobAndIndependentStages(DAGScheduler.scala:1891)\n\tat org.apache.spark.scheduler.DAGScheduler$$anonfun$abortStage$1.apply(DAGScheduler.scala:1879)\n\tat org.apache.spark.scheduler.DAGScheduler$$anonfun$abortStage$1.apply(DAGScheduler.scala:1878)\n\tat scala.collection.mutable.ResizableArray$class.foreach(ResizableArray.scala:59)\n\tat scala.collection.mutable.ArrayBuffer.foreach(ArrayBuffer.scala:48)\n\tat org.apache.spark.scheduler.DAGScheduler.abortStage(DAGScheduler.scala:1878)\n\tat org.apache.spark.scheduler.DAGScheduler$$anonfun$handleTaskSetFailed$1.apply(DAGScheduler.scala:927)\n\tat org.apache.spark.scheduler.DAGScheduler$$anonfun$handleTaskSetFailed$1.apply(DAGScheduler.scala:927)\n\tat scala.Option.foreach(Option.scala:257)\n\tat org.apache.spark.scheduler.DAGScheduler.handleTaskSetFailed(DAGScheduler.scala:927)\n\tat org.apache.spark.scheduler.DAGSchedulerEventProcessLoop.doOnReceive(DAGScheduler.scala:2112)\n\tat org.apache.spark.scheduler.DAGSchedulerEventProcessLoop.onReceive(DAGScheduler.scala:2061)\n\tat org.apache.spark.scheduler.DAGSchedulerEventProcessLoop.onReceive(DAGScheduler.scala:2050)\n\tat org.apache.spark.util.EventLoop$$anon$1.run(EventLoop.scala:49)\n\tat org.apache.spark.scheduler.DAGScheduler.runJob(DAGScheduler.scala:738)\n\tat org.apache.spark.SparkContext.runJob(SparkContext.scala:2061)\n\tat org.apache.spark.SparkContext.runJob(SparkContext.scala:2082)\n\tat org.apache.spark.SparkContext.runJob(SparkContext.scala:2101)\n\tat org.apache.spark.SparkContext.runJob(SparkContext.scala:2126)\n\tat org.apache.spark.rdd.RDD$$anonfun$collect$1.apply(RDD.scala:990)\n\tat org.apache.spark.rdd.RDDOperationScope$.withScope(RDDOperationScope.scala:151)\n\tat org.apache.spark.rdd.RDDOperationScope$.withScope(RDDOperationScope.scala:112)\n\tat org.apache.spark.rdd.RDD.withScope(RDD.scala:385)\n\tat org.apache.spark.rdd.RDD.collect(RDD.scala:989)\n\tat org.apache.spark.api.python.PythonRDD$.collectAndServe(PythonRDD.scala:166)\n\tat org.apache.spark.api.python.PythonRDD.collectAndServe(PythonRDD.scala)\n\tat sun.reflect.GeneratedMethodAccessor76.invoke(Unknown Source)\n\tat sun.reflect.DelegatingMethodAccessorImpl.invoke(DelegatingMethodAccessorImpl.java:43)\n\tat java.lang.reflect.Method.invoke(Method.java:498)\n\tat py4j.reflection.MethodInvoker.invoke(MethodInvoker.java:244)\n\tat py4j.reflection.ReflectionEngine.invoke(ReflectionEngine.java:357)\n\tat py4j.Gateway.invoke(Gateway.java:282)\n\tat py4j.commands.AbstractCommand.invokeMethod(AbstractCommand.java:132)\n\tat py4j.commands.CallCommand.execute(CallCommand.java:79)\n\tat py4j.GatewayConnection.run(GatewayConnection.java:238)\n\tat java.lang.Thread.run(Thread.java:748)\nCaused by: org.apache.spark.api.python.PythonException: Traceback (most recent call last):\n  File \"/usr/local/spark/python/lib/pyspark.zip/pyspark/worker.py\", line 377, in main\n    process()\n  File \"/usr/local/spark/python/lib/pyspark.zip/pyspark/worker.py\", line 372, in process\n    serializer.dump_stream(func(split_index, iterator), outfile)\n  File \"/usr/local/spark/python/pyspark/rdd.py\", line 2499, in pipeline_func\n    return func(split, prev_func(split, iterator))\n  File \"/usr/local/spark/python/pyspark/rdd.py\", line 2499, in pipeline_func\n    return func(split, prev_func(split, iterator))\n  File \"/usr/local/spark/python/pyspark/rdd.py\", line 352, in func\n    return f(iterator)\n  File \"/usr/local/spark/python/pyspark/rdd.py\", line 1065, in <lambda>\n    return self.mapPartitions(lambda i: [StatCounter(i)]).reduce(redFunc)\n  File \"/usr/local/spark/python/lib/pyspark.zip/pyspark/statcounter.py\", line 42, in __init__\n    for v in values:\n  File \"/usr/local/spark/python/lib/pyspark.zip/pyspark/util.py\", line 99, in wrapper\n    return f(*args, **kwargs)\n  File \"<ipython-input-18-78f4da90ecfd>\", line 7, in <lambda>\nNameError: name 'weightsRR0' is not defined\n\n\tat org.apache.spark.api.python.BasePythonRunner$ReaderIterator.handlePythonException(PythonRunner.scala:456)\n\tat org.apache.spark.api.python.PythonRunner$$anon$1.read(PythonRunner.scala:592)\n\tat org.apache.spark.api.python.PythonRunner$$anon$1.read(PythonRunner.scala:575)\n\tat org.apache.spark.api.python.BasePythonRunner$ReaderIterator.hasNext(PythonRunner.scala:410)\n\tat org.apache.spark.InterruptibleIterator.hasNext(InterruptibleIterator.scala:37)\n\tat scala.collection.Iterator$class.foreach(Iterator.scala:891)\n\tat org.apache.spark.InterruptibleIterator.foreach(InterruptibleIterator.scala:28)\n\tat scala.collection.generic.Growable$class.$plus$plus$eq(Growable.scala:59)\n\tat scala.collection.mutable.ArrayBuffer.$plus$plus$eq(ArrayBuffer.scala:104)\n\tat scala.collection.mutable.ArrayBuffer.$plus$plus$eq(ArrayBuffer.scala:48)\n\tat scala.collection.TraversableOnce$class.to(TraversableOnce.scala:310)\n\tat org.apache.spark.InterruptibleIterator.to(InterruptibleIterator.scala:28)\n\tat scala.collection.TraversableOnce$class.toBuffer(TraversableOnce.scala:302)\n\tat org.apache.spark.InterruptibleIterator.toBuffer(InterruptibleIterator.scala:28)\n\tat scala.collection.TraversableOnce$class.toArray(TraversableOnce.scala:289)\n\tat org.apache.spark.InterruptibleIterator.toArray(InterruptibleIterator.scala:28)\n\tat org.apache.spark.rdd.RDD$$anonfun$collect$1$$anonfun$15.apply(RDD.scala:990)\n\tat org.apache.spark.rdd.RDD$$anonfun$collect$1$$anonfun$15.apply(RDD.scala:990)\n\tat org.apache.spark.SparkContext$$anonfun$runJob$5.apply(SparkContext.scala:2101)\n\tat org.apache.spark.SparkContext$$anonfun$runJob$5.apply(SparkContext.scala:2101)\n\tat org.apache.spark.scheduler.ResultTask.runTask(ResultTask.scala:90)\n\tat org.apache.spark.scheduler.Task.run(Task.scala:123)\n\tat org.apache.spark.executor.Executor$TaskRunner$$anonfun$10.apply(Executor.scala:408)\n\tat org.apache.spark.util.Utils$.tryWithSafeFinally(Utils.scala:1360)\n\tat org.apache.spark.executor.Executor$TaskRunner.run(Executor.scala:414)\n\tat java.util.concurrent.ThreadPoolExecutor.runWorker(ThreadPoolExecutor.java:1149)\n\tat java.util.concurrent.ThreadPoolExecutor$Worker.run(ThreadPoolExecutor.java:624)\n\t... 1 more\n",
     "output_type": "error",
     "traceback": [
      "\u001b[0;31m---------------------------------------------------------------------------\u001b[0m",
      "\u001b[0;31mPy4JJavaError\u001b[0m                             Traceback (most recent call last)",
      "\u001b[0;32m<ipython-input-18-78f4da90ecfd>\u001b[0m in \u001b[0;36m<module>\u001b[0;34m\u001b[0m\n\u001b[1;32m      6\u001b[0m \u001b[0;34m\u001b[0m\u001b[0m\n\u001b[1;32m      7\u001b[0m \u001b[0mlabelsAndPreds\u001b[0m \u001b[0;34m=\u001b[0m \u001b[0mparsedValData\u001b[0m\u001b[0;34m.\u001b[0m\u001b[0mmap\u001b[0m\u001b[0;34m(\u001b[0m\u001b[0;32mlambda\u001b[0m \u001b[0mp\u001b[0m\u001b[0;34m:\u001b[0m \u001b[0mgetLabeledPrediction\u001b[0m\u001b[0;34m(\u001b[0m\u001b[0mweightsRR0\u001b[0m\u001b[0;34m,\u001b[0m \u001b[0mp\u001b[0m\u001b[0;34m)\u001b[0m\u001b[0;34m)\u001b[0m\u001b[0;34m\u001b[0m\u001b[0;34m\u001b[0m\u001b[0m\n\u001b[0;32m----> 8\u001b[0;31m \u001b[0mrmseValRR0\u001b[0m \u001b[0;34m=\u001b[0m \u001b[0mcalcRMSE\u001b[0m\u001b[0;34m(\u001b[0m\u001b[0mlabelsAndPreds\u001b[0m\u001b[0;34m)\u001b[0m\u001b[0;34m\u001b[0m\u001b[0;34m\u001b[0m\u001b[0m\n\u001b[0m\u001b[1;32m      9\u001b[0m \u001b[0;34m\u001b[0m\u001b[0m\n\u001b[1;32m     10\u001b[0m \u001b[0mprint\u001b[0m\u001b[0;34m(\u001b[0m\u001b[0;34m'Validation RMSE:\\n\\tRR0 = {}'\u001b[0m\u001b[0;34m.\u001b[0m\u001b[0mformat\u001b[0m\u001b[0;34m(\u001b[0m\u001b[0mrmseValRR0\u001b[0m\u001b[0;34m)\u001b[0m\u001b[0;34m)\u001b[0m\u001b[0;34m\u001b[0m\u001b[0;34m\u001b[0m\u001b[0m\n",
      "\u001b[0;32m<ipython-input-13-c7718639a6dd>\u001b[0m in \u001b[0;36mcalcRMSE\u001b[0;34m(labelsAndPreds)\u001b[0m\n\u001b[1;32m     22\u001b[0m     \"\"\"\n\u001b[1;32m     23\u001b[0m \u001b[0;34m\u001b[0m\u001b[0m\n\u001b[0;32m---> 24\u001b[0;31m     \u001b[0;32mreturn\u001b[0m \u001b[0mnp\u001b[0m\u001b[0;34m.\u001b[0m\u001b[0msqrt\u001b[0m\u001b[0;34m(\u001b[0m\u001b[0mlabelsAndPreds\u001b[0m\u001b[0;34m.\u001b[0m\u001b[0mmap\u001b[0m\u001b[0;34m(\u001b[0m\u001b[0;32mlambda\u001b[0m \u001b[0mp\u001b[0m\u001b[0;34m:\u001b[0m \u001b[0msquaredError\u001b[0m\u001b[0;34m(\u001b[0m\u001b[0;34m*\u001b[0m\u001b[0mp\u001b[0m\u001b[0;34m)\u001b[0m\u001b[0;34m)\u001b[0m\u001b[0;34m.\u001b[0m\u001b[0mmean\u001b[0m\u001b[0;34m(\u001b[0m\u001b[0;34m)\u001b[0m\u001b[0;34m)\u001b[0m\u001b[0;34m\u001b[0m\u001b[0;34m\u001b[0m\u001b[0m\n\u001b[0m",
      "\u001b[0;32m/usr/local/spark/python/pyspark/rdd.py\u001b[0m in \u001b[0;36mmean\u001b[0;34m(self)\u001b[0m\n\u001b[1;32m   1200\u001b[0m         \u001b[0;36m2.0\u001b[0m\u001b[0;34m\u001b[0m\u001b[0;34m\u001b[0m\u001b[0m\n\u001b[1;32m   1201\u001b[0m         \"\"\"\n\u001b[0;32m-> 1202\u001b[0;31m         \u001b[0;32mreturn\u001b[0m \u001b[0mself\u001b[0m\u001b[0;34m.\u001b[0m\u001b[0mstats\u001b[0m\u001b[0;34m(\u001b[0m\u001b[0;34m)\u001b[0m\u001b[0;34m.\u001b[0m\u001b[0mmean\u001b[0m\u001b[0;34m(\u001b[0m\u001b[0;34m)\u001b[0m\u001b[0;34m\u001b[0m\u001b[0;34m\u001b[0m\u001b[0m\n\u001b[0m\u001b[1;32m   1203\u001b[0m \u001b[0;34m\u001b[0m\u001b[0m\n\u001b[1;32m   1204\u001b[0m     \u001b[0;32mdef\u001b[0m \u001b[0mvariance\u001b[0m\u001b[0;34m(\u001b[0m\u001b[0mself\u001b[0m\u001b[0;34m)\u001b[0m\u001b[0;34m:\u001b[0m\u001b[0;34m\u001b[0m\u001b[0;34m\u001b[0m\u001b[0m\n",
      "\u001b[0;32m/usr/local/spark/python/pyspark/rdd.py\u001b[0m in \u001b[0;36mstats\u001b[0;34m(self)\u001b[0m\n\u001b[1;32m   1063\u001b[0m             \u001b[0;32mreturn\u001b[0m \u001b[0mleft_counter\u001b[0m\u001b[0;34m.\u001b[0m\u001b[0mmergeStats\u001b[0m\u001b[0;34m(\u001b[0m\u001b[0mright_counter\u001b[0m\u001b[0;34m)\u001b[0m\u001b[0;34m\u001b[0m\u001b[0;34m\u001b[0m\u001b[0m\n\u001b[1;32m   1064\u001b[0m \u001b[0;34m\u001b[0m\u001b[0m\n\u001b[0;32m-> 1065\u001b[0;31m         \u001b[0;32mreturn\u001b[0m \u001b[0mself\u001b[0m\u001b[0;34m.\u001b[0m\u001b[0mmapPartitions\u001b[0m\u001b[0;34m(\u001b[0m\u001b[0;32mlambda\u001b[0m \u001b[0mi\u001b[0m\u001b[0;34m:\u001b[0m \u001b[0;34m[\u001b[0m\u001b[0mStatCounter\u001b[0m\u001b[0;34m(\u001b[0m\u001b[0mi\u001b[0m\u001b[0;34m)\u001b[0m\u001b[0;34m]\u001b[0m\u001b[0;34m)\u001b[0m\u001b[0;34m.\u001b[0m\u001b[0mreduce\u001b[0m\u001b[0;34m(\u001b[0m\u001b[0mredFunc\u001b[0m\u001b[0;34m)\u001b[0m\u001b[0;34m\u001b[0m\u001b[0;34m\u001b[0m\u001b[0m\n\u001b[0m\u001b[1;32m   1066\u001b[0m \u001b[0;34m\u001b[0m\u001b[0m\n\u001b[1;32m   1067\u001b[0m     \u001b[0;32mdef\u001b[0m \u001b[0mhistogram\u001b[0m\u001b[0;34m(\u001b[0m\u001b[0mself\u001b[0m\u001b[0;34m,\u001b[0m \u001b[0mbuckets\u001b[0m\u001b[0;34m)\u001b[0m\u001b[0;34m:\u001b[0m\u001b[0;34m\u001b[0m\u001b[0;34m\u001b[0m\u001b[0m\n",
      "\u001b[0;32m/usr/local/spark/python/pyspark/rdd.py\u001b[0m in \u001b[0;36mreduce\u001b[0;34m(self, f)\u001b[0m\n\u001b[1;32m    842\u001b[0m             \u001b[0;32myield\u001b[0m \u001b[0mreduce\u001b[0m\u001b[0;34m(\u001b[0m\u001b[0mf\u001b[0m\u001b[0;34m,\u001b[0m \u001b[0miterator\u001b[0m\u001b[0;34m,\u001b[0m \u001b[0minitial\u001b[0m\u001b[0;34m)\u001b[0m\u001b[0;34m\u001b[0m\u001b[0;34m\u001b[0m\u001b[0m\n\u001b[1;32m    843\u001b[0m \u001b[0;34m\u001b[0m\u001b[0m\n\u001b[0;32m--> 844\u001b[0;31m         \u001b[0mvals\u001b[0m \u001b[0;34m=\u001b[0m \u001b[0mself\u001b[0m\u001b[0;34m.\u001b[0m\u001b[0mmapPartitions\u001b[0m\u001b[0;34m(\u001b[0m\u001b[0mfunc\u001b[0m\u001b[0;34m)\u001b[0m\u001b[0;34m.\u001b[0m\u001b[0mcollect\u001b[0m\u001b[0;34m(\u001b[0m\u001b[0;34m)\u001b[0m\u001b[0;34m\u001b[0m\u001b[0;34m\u001b[0m\u001b[0m\n\u001b[0m\u001b[1;32m    845\u001b[0m         \u001b[0;32mif\u001b[0m \u001b[0mvals\u001b[0m\u001b[0;34m:\u001b[0m\u001b[0;34m\u001b[0m\u001b[0;34m\u001b[0m\u001b[0m\n\u001b[1;32m    846\u001b[0m             \u001b[0;32mreturn\u001b[0m \u001b[0mreduce\u001b[0m\u001b[0;34m(\u001b[0m\u001b[0mf\u001b[0m\u001b[0;34m,\u001b[0m \u001b[0mvals\u001b[0m\u001b[0;34m)\u001b[0m\u001b[0;34m\u001b[0m\u001b[0;34m\u001b[0m\u001b[0m\n",
      "\u001b[0;32m/usr/local/spark/python/pyspark/rdd.py\u001b[0m in \u001b[0;36mcollect\u001b[0;34m(self)\u001b[0m\n\u001b[1;32m    814\u001b[0m         \"\"\"\n\u001b[1;32m    815\u001b[0m         \u001b[0;32mwith\u001b[0m \u001b[0mSCCallSiteSync\u001b[0m\u001b[0;34m(\u001b[0m\u001b[0mself\u001b[0m\u001b[0;34m.\u001b[0m\u001b[0mcontext\u001b[0m\u001b[0;34m)\u001b[0m \u001b[0;32mas\u001b[0m \u001b[0mcss\u001b[0m\u001b[0;34m:\u001b[0m\u001b[0;34m\u001b[0m\u001b[0;34m\u001b[0m\u001b[0m\n\u001b[0;32m--> 816\u001b[0;31m             \u001b[0msock_info\u001b[0m \u001b[0;34m=\u001b[0m \u001b[0mself\u001b[0m\u001b[0;34m.\u001b[0m\u001b[0mctx\u001b[0m\u001b[0;34m.\u001b[0m\u001b[0m_jvm\u001b[0m\u001b[0;34m.\u001b[0m\u001b[0mPythonRDD\u001b[0m\u001b[0;34m.\u001b[0m\u001b[0mcollectAndServe\u001b[0m\u001b[0;34m(\u001b[0m\u001b[0mself\u001b[0m\u001b[0;34m.\u001b[0m\u001b[0m_jrdd\u001b[0m\u001b[0;34m.\u001b[0m\u001b[0mrdd\u001b[0m\u001b[0;34m(\u001b[0m\u001b[0;34m)\u001b[0m\u001b[0;34m)\u001b[0m\u001b[0;34m\u001b[0m\u001b[0;34m\u001b[0m\u001b[0m\n\u001b[0m\u001b[1;32m    817\u001b[0m         \u001b[0;32mreturn\u001b[0m \u001b[0mlist\u001b[0m\u001b[0;34m(\u001b[0m\u001b[0m_load_from_socket\u001b[0m\u001b[0;34m(\u001b[0m\u001b[0msock_info\u001b[0m\u001b[0;34m,\u001b[0m \u001b[0mself\u001b[0m\u001b[0;34m.\u001b[0m\u001b[0m_jrdd_deserializer\u001b[0m\u001b[0;34m)\u001b[0m\u001b[0;34m)\u001b[0m\u001b[0;34m\u001b[0m\u001b[0;34m\u001b[0m\u001b[0m\n\u001b[1;32m    818\u001b[0m \u001b[0;34m\u001b[0m\u001b[0m\n",
      "\u001b[0;32m/usr/local/spark/python/lib/py4j-0.10.7-src.zip/py4j/java_gateway.py\u001b[0m in \u001b[0;36m__call__\u001b[0;34m(self, *args)\u001b[0m\n\u001b[1;32m   1255\u001b[0m         \u001b[0manswer\u001b[0m \u001b[0;34m=\u001b[0m \u001b[0mself\u001b[0m\u001b[0;34m.\u001b[0m\u001b[0mgateway_client\u001b[0m\u001b[0;34m.\u001b[0m\u001b[0msend_command\u001b[0m\u001b[0;34m(\u001b[0m\u001b[0mcommand\u001b[0m\u001b[0;34m)\u001b[0m\u001b[0;34m\u001b[0m\u001b[0;34m\u001b[0m\u001b[0m\n\u001b[1;32m   1256\u001b[0m         return_value = get_return_value(\n\u001b[0;32m-> 1257\u001b[0;31m             answer, self.gateway_client, self.target_id, self.name)\n\u001b[0m\u001b[1;32m   1258\u001b[0m \u001b[0;34m\u001b[0m\u001b[0m\n\u001b[1;32m   1259\u001b[0m         \u001b[0;32mfor\u001b[0m \u001b[0mtemp_arg\u001b[0m \u001b[0;32min\u001b[0m \u001b[0mtemp_args\u001b[0m\u001b[0;34m:\u001b[0m\u001b[0;34m\u001b[0m\u001b[0;34m\u001b[0m\u001b[0m\n",
      "\u001b[0;32m/usr/local/spark/python/pyspark/sql/utils.py\u001b[0m in \u001b[0;36mdeco\u001b[0;34m(*a, **kw)\u001b[0m\n\u001b[1;32m     61\u001b[0m     \u001b[0;32mdef\u001b[0m \u001b[0mdeco\u001b[0m\u001b[0;34m(\u001b[0m\u001b[0;34m*\u001b[0m\u001b[0ma\u001b[0m\u001b[0;34m,\u001b[0m \u001b[0;34m**\u001b[0m\u001b[0mkw\u001b[0m\u001b[0;34m)\u001b[0m\u001b[0;34m:\u001b[0m\u001b[0;34m\u001b[0m\u001b[0;34m\u001b[0m\u001b[0m\n\u001b[1;32m     62\u001b[0m         \u001b[0;32mtry\u001b[0m\u001b[0;34m:\u001b[0m\u001b[0;34m\u001b[0m\u001b[0;34m\u001b[0m\u001b[0m\n\u001b[0;32m---> 63\u001b[0;31m             \u001b[0;32mreturn\u001b[0m \u001b[0mf\u001b[0m\u001b[0;34m(\u001b[0m\u001b[0;34m*\u001b[0m\u001b[0ma\u001b[0m\u001b[0;34m,\u001b[0m \u001b[0;34m**\u001b[0m\u001b[0mkw\u001b[0m\u001b[0;34m)\u001b[0m\u001b[0;34m\u001b[0m\u001b[0;34m\u001b[0m\u001b[0m\n\u001b[0m\u001b[1;32m     64\u001b[0m         \u001b[0;32mexcept\u001b[0m \u001b[0mpy4j\u001b[0m\u001b[0;34m.\u001b[0m\u001b[0mprotocol\u001b[0m\u001b[0;34m.\u001b[0m\u001b[0mPy4JJavaError\u001b[0m \u001b[0;32mas\u001b[0m \u001b[0me\u001b[0m\u001b[0;34m:\u001b[0m\u001b[0;34m\u001b[0m\u001b[0;34m\u001b[0m\u001b[0m\n\u001b[1;32m     65\u001b[0m             \u001b[0ms\u001b[0m \u001b[0;34m=\u001b[0m \u001b[0me\u001b[0m\u001b[0;34m.\u001b[0m\u001b[0mjava_exception\u001b[0m\u001b[0;34m.\u001b[0m\u001b[0mtoString\u001b[0m\u001b[0;34m(\u001b[0m\u001b[0;34m)\u001b[0m\u001b[0;34m\u001b[0m\u001b[0;34m\u001b[0m\u001b[0m\n",
      "\u001b[0;32m/usr/local/spark/python/lib/py4j-0.10.7-src.zip/py4j/protocol.py\u001b[0m in \u001b[0;36mget_return_value\u001b[0;34m(answer, gateway_client, target_id, name)\u001b[0m\n\u001b[1;32m    326\u001b[0m                 raise Py4JJavaError(\n\u001b[1;32m    327\u001b[0m                     \u001b[0;34m\"An error occurred while calling {0}{1}{2}.\\n\"\u001b[0m\u001b[0;34m.\u001b[0m\u001b[0;34m\u001b[0m\u001b[0;34m\u001b[0m\u001b[0m\n\u001b[0;32m--> 328\u001b[0;31m                     format(target_id, \".\", name), value)\n\u001b[0m\u001b[1;32m    329\u001b[0m             \u001b[0;32melse\u001b[0m\u001b[0;34m:\u001b[0m\u001b[0;34m\u001b[0m\u001b[0;34m\u001b[0m\u001b[0m\n\u001b[1;32m    330\u001b[0m                 raise Py4JError(\n",
      "\u001b[0;31mPy4JJavaError\u001b[0m: An error occurred while calling z:org.apache.spark.api.python.PythonRDD.collectAndServe.\n: org.apache.spark.SparkException: Job aborted due to stage failure: Task 7 in stage 2017.0 failed 1 times, most recent failure: Lost task 7.0 in stage 2017.0 (TID 32089, localhost, executor driver): org.apache.spark.api.python.PythonException: Traceback (most recent call last):\n  File \"/usr/local/spark/python/lib/pyspark.zip/pyspark/worker.py\", line 377, in main\n    process()\n  File \"/usr/local/spark/python/lib/pyspark.zip/pyspark/worker.py\", line 372, in process\n    serializer.dump_stream(func(split_index, iterator), outfile)\n  File \"/usr/local/spark/python/pyspark/rdd.py\", line 2499, in pipeline_func\n    return func(split, prev_func(split, iterator))\n  File \"/usr/local/spark/python/pyspark/rdd.py\", line 2499, in pipeline_func\n    return func(split, prev_func(split, iterator))\n  File \"/usr/local/spark/python/pyspark/rdd.py\", line 352, in func\n    return f(iterator)\n  File \"/usr/local/spark/python/pyspark/rdd.py\", line 1065, in <lambda>\n    return self.mapPartitions(lambda i: [StatCounter(i)]).reduce(redFunc)\n  File \"/usr/local/spark/python/lib/pyspark.zip/pyspark/statcounter.py\", line 42, in __init__\n    for v in values:\n  File \"/usr/local/spark/python/lib/pyspark.zip/pyspark/util.py\", line 99, in wrapper\n    return f(*args, **kwargs)\n  File \"<ipython-input-18-78f4da90ecfd>\", line 7, in <lambda>\nNameError: name 'weightsRR0' is not defined\n\n\tat org.apache.spark.api.python.BasePythonRunner$ReaderIterator.handlePythonException(PythonRunner.scala:456)\n\tat org.apache.spark.api.python.PythonRunner$$anon$1.read(PythonRunner.scala:592)\n\tat org.apache.spark.api.python.PythonRunner$$anon$1.read(PythonRunner.scala:575)\n\tat org.apache.spark.api.python.BasePythonRunner$ReaderIterator.hasNext(PythonRunner.scala:410)\n\tat org.apache.spark.InterruptibleIterator.hasNext(InterruptibleIterator.scala:37)\n\tat scala.collection.Iterator$class.foreach(Iterator.scala:891)\n\tat org.apache.spark.InterruptibleIterator.foreach(InterruptibleIterator.scala:28)\n\tat scala.collection.generic.Growable$class.$plus$plus$eq(Growable.scala:59)\n\tat scala.collection.mutable.ArrayBuffer.$plus$plus$eq(ArrayBuffer.scala:104)\n\tat scala.collection.mutable.ArrayBuffer.$plus$plus$eq(ArrayBuffer.scala:48)\n\tat scala.collection.TraversableOnce$class.to(TraversableOnce.scala:310)\n\tat org.apache.spark.InterruptibleIterator.to(InterruptibleIterator.scala:28)\n\tat scala.collection.TraversableOnce$class.toBuffer(TraversableOnce.scala:302)\n\tat org.apache.spark.InterruptibleIterator.toBuffer(InterruptibleIterator.scala:28)\n\tat scala.collection.TraversableOnce$class.toArray(TraversableOnce.scala:289)\n\tat org.apache.spark.InterruptibleIterator.toArray(InterruptibleIterator.scala:28)\n\tat org.apache.spark.rdd.RDD$$anonfun$collect$1$$anonfun$15.apply(RDD.scala:990)\n\tat org.apache.spark.rdd.RDD$$anonfun$collect$1$$anonfun$15.apply(RDD.scala:990)\n\tat org.apache.spark.SparkContext$$anonfun$runJob$5.apply(SparkContext.scala:2101)\n\tat org.apache.spark.SparkContext$$anonfun$runJob$5.apply(SparkContext.scala:2101)\n\tat org.apache.spark.scheduler.ResultTask.runTask(ResultTask.scala:90)\n\tat org.apache.spark.scheduler.Task.run(Task.scala:123)\n\tat org.apache.spark.executor.Executor$TaskRunner$$anonfun$10.apply(Executor.scala:408)\n\tat org.apache.spark.util.Utils$.tryWithSafeFinally(Utils.scala:1360)\n\tat org.apache.spark.executor.Executor$TaskRunner.run(Executor.scala:414)\n\tat java.util.concurrent.ThreadPoolExecutor.runWorker(ThreadPoolExecutor.java:1149)\n\tat java.util.concurrent.ThreadPoolExecutor$Worker.run(ThreadPoolExecutor.java:624)\n\tat java.lang.Thread.run(Thread.java:748)\n\nDriver stacktrace:\n\tat org.apache.spark.scheduler.DAGScheduler.org$apache$spark$scheduler$DAGScheduler$$failJobAndIndependentStages(DAGScheduler.scala:1891)\n\tat org.apache.spark.scheduler.DAGScheduler$$anonfun$abortStage$1.apply(DAGScheduler.scala:1879)\n\tat org.apache.spark.scheduler.DAGScheduler$$anonfun$abortStage$1.apply(DAGScheduler.scala:1878)\n\tat scala.collection.mutable.ResizableArray$class.foreach(ResizableArray.scala:59)\n\tat scala.collection.mutable.ArrayBuffer.foreach(ArrayBuffer.scala:48)\n\tat org.apache.spark.scheduler.DAGScheduler.abortStage(DAGScheduler.scala:1878)\n\tat org.apache.spark.scheduler.DAGScheduler$$anonfun$handleTaskSetFailed$1.apply(DAGScheduler.scala:927)\n\tat org.apache.spark.scheduler.DAGScheduler$$anonfun$handleTaskSetFailed$1.apply(DAGScheduler.scala:927)\n\tat scala.Option.foreach(Option.scala:257)\n\tat org.apache.spark.scheduler.DAGScheduler.handleTaskSetFailed(DAGScheduler.scala:927)\n\tat org.apache.spark.scheduler.DAGSchedulerEventProcessLoop.doOnReceive(DAGScheduler.scala:2112)\n\tat org.apache.spark.scheduler.DAGSchedulerEventProcessLoop.onReceive(DAGScheduler.scala:2061)\n\tat org.apache.spark.scheduler.DAGSchedulerEventProcessLoop.onReceive(DAGScheduler.scala:2050)\n\tat org.apache.spark.util.EventLoop$$anon$1.run(EventLoop.scala:49)\n\tat org.apache.spark.scheduler.DAGScheduler.runJob(DAGScheduler.scala:738)\n\tat org.apache.spark.SparkContext.runJob(SparkContext.scala:2061)\n\tat org.apache.spark.SparkContext.runJob(SparkContext.scala:2082)\n\tat org.apache.spark.SparkContext.runJob(SparkContext.scala:2101)\n\tat org.apache.spark.SparkContext.runJob(SparkContext.scala:2126)\n\tat org.apache.spark.rdd.RDD$$anonfun$collect$1.apply(RDD.scala:990)\n\tat org.apache.spark.rdd.RDDOperationScope$.withScope(RDDOperationScope.scala:151)\n\tat org.apache.spark.rdd.RDDOperationScope$.withScope(RDDOperationScope.scala:112)\n\tat org.apache.spark.rdd.RDD.withScope(RDD.scala:385)\n\tat org.apache.spark.rdd.RDD.collect(RDD.scala:989)\n\tat org.apache.spark.api.python.PythonRDD$.collectAndServe(PythonRDD.scala:166)\n\tat org.apache.spark.api.python.PythonRDD.collectAndServe(PythonRDD.scala)\n\tat sun.reflect.GeneratedMethodAccessor76.invoke(Unknown Source)\n\tat sun.reflect.DelegatingMethodAccessorImpl.invoke(DelegatingMethodAccessorImpl.java:43)\n\tat java.lang.reflect.Method.invoke(Method.java:498)\n\tat py4j.reflection.MethodInvoker.invoke(MethodInvoker.java:244)\n\tat py4j.reflection.ReflectionEngine.invoke(ReflectionEngine.java:357)\n\tat py4j.Gateway.invoke(Gateway.java:282)\n\tat py4j.commands.AbstractCommand.invokeMethod(AbstractCommand.java:132)\n\tat py4j.commands.CallCommand.execute(CallCommand.java:79)\n\tat py4j.GatewayConnection.run(GatewayConnection.java:238)\n\tat java.lang.Thread.run(Thread.java:748)\nCaused by: org.apache.spark.api.python.PythonException: Traceback (most recent call last):\n  File \"/usr/local/spark/python/lib/pyspark.zip/pyspark/worker.py\", line 377, in main\n    process()\n  File \"/usr/local/spark/python/lib/pyspark.zip/pyspark/worker.py\", line 372, in process\n    serializer.dump_stream(func(split_index, iterator), outfile)\n  File \"/usr/local/spark/python/pyspark/rdd.py\", line 2499, in pipeline_func\n    return func(split, prev_func(split, iterator))\n  File \"/usr/local/spark/python/pyspark/rdd.py\", line 2499, in pipeline_func\n    return func(split, prev_func(split, iterator))\n  File \"/usr/local/spark/python/pyspark/rdd.py\", line 352, in func\n    return f(iterator)\n  File \"/usr/local/spark/python/pyspark/rdd.py\", line 1065, in <lambda>\n    return self.mapPartitions(lambda i: [StatCounter(i)]).reduce(redFunc)\n  File \"/usr/local/spark/python/lib/pyspark.zip/pyspark/statcounter.py\", line 42, in __init__\n    for v in values:\n  File \"/usr/local/spark/python/lib/pyspark.zip/pyspark/util.py\", line 99, in wrapper\n    return f(*args, **kwargs)\n  File \"<ipython-input-18-78f4da90ecfd>\", line 7, in <lambda>\nNameError: name 'weightsRR0' is not defined\n\n\tat org.apache.spark.api.python.BasePythonRunner$ReaderIterator.handlePythonException(PythonRunner.scala:456)\n\tat org.apache.spark.api.python.PythonRunner$$anon$1.read(PythonRunner.scala:592)\n\tat org.apache.spark.api.python.PythonRunner$$anon$1.read(PythonRunner.scala:575)\n\tat org.apache.spark.api.python.BasePythonRunner$ReaderIterator.hasNext(PythonRunner.scala:410)\n\tat org.apache.spark.InterruptibleIterator.hasNext(InterruptibleIterator.scala:37)\n\tat scala.collection.Iterator$class.foreach(Iterator.scala:891)\n\tat org.apache.spark.InterruptibleIterator.foreach(InterruptibleIterator.scala:28)\n\tat scala.collection.generic.Growable$class.$plus$plus$eq(Growable.scala:59)\n\tat scala.collection.mutable.ArrayBuffer.$plus$plus$eq(ArrayBuffer.scala:104)\n\tat scala.collection.mutable.ArrayBuffer.$plus$plus$eq(ArrayBuffer.scala:48)\n\tat scala.collection.TraversableOnce$class.to(TraversableOnce.scala:310)\n\tat org.apache.spark.InterruptibleIterator.to(InterruptibleIterator.scala:28)\n\tat scala.collection.TraversableOnce$class.toBuffer(TraversableOnce.scala:302)\n\tat org.apache.spark.InterruptibleIterator.toBuffer(InterruptibleIterator.scala:28)\n\tat scala.collection.TraversableOnce$class.toArray(TraversableOnce.scala:289)\n\tat org.apache.spark.InterruptibleIterator.toArray(InterruptibleIterator.scala:28)\n\tat org.apache.spark.rdd.RDD$$anonfun$collect$1$$anonfun$15.apply(RDD.scala:990)\n\tat org.apache.spark.rdd.RDD$$anonfun$collect$1$$anonfun$15.apply(RDD.scala:990)\n\tat org.apache.spark.SparkContext$$anonfun$runJob$5.apply(SparkContext.scala:2101)\n\tat org.apache.spark.SparkContext$$anonfun$runJob$5.apply(SparkContext.scala:2101)\n\tat org.apache.spark.scheduler.ResultTask.runTask(ResultTask.scala:90)\n\tat org.apache.spark.scheduler.Task.run(Task.scala:123)\n\tat org.apache.spark.executor.Executor$TaskRunner$$anonfun$10.apply(Executor.scala:408)\n\tat org.apache.spark.util.Utils$.tryWithSafeFinally(Utils.scala:1360)\n\tat org.apache.spark.executor.Executor$TaskRunner.run(Executor.scala:414)\n\tat java.util.concurrent.ThreadPoolExecutor.runWorker(ThreadPoolExecutor.java:1149)\n\tat java.util.concurrent.ThreadPoolExecutor$Worker.run(ThreadPoolExecutor.java:624)\n\t... 1 more\n"
     ]
    }
   ],
   "source": [
    "numIters = 1000\n",
    "regFactor = 1e-6\n",
    "csi = 1e-15\n",
    "\n",
    "weightsRR1, errorTrainRR1 = ridgeRegression(parsedTrainData, numIters, csi, regFactor)\n",
    "\n",
    "labelsAndPreds = parsedValData.map(lambda p: getLabeledPrediction(weightsRR1, p))\n",
    "rmseValRR1 = calcRMSE(labelsAndPreds)\n",
    "\n",
    "print('Validation RMSE:\\n\\tRR0 = {}'.format(rmseValRR1))"
   ]
  },
  {
   "cell_type": "code",
   "execution_count": 19,
   "metadata": {},
   "outputs": [
    {
     "name": "stdout",
     "output_type": "stream",
     "text": [
      "Validation RMSE:\n",
      "\tRR0 = 103169.77824815271\n"
     ]
    }
   ],
   "source": [
    "labelsAndPreds = parsedValData.map(lambda p: getLabeledPrediction(weightsRR1, p))\n",
    "rmseValRR1 = calcRMSE(labelsAndPreds)\n",
    "\n",
    "print('Validation RMSE:\\n\\tRR0 = {}'.format(rmseValRR1))"
   ]
  },
  {
   "cell_type": "code",
   "execution_count": 22,
   "metadata": {},
   "outputs": [
    {
     "name": "stdout",
     "output_type": "stream",
     "text": [
      "(151000.0, 8681.364231503832)\n",
      "(39930.0, 8770.192731462304)\n",
      "(11400.0, 9041.645999298622)\n",
      "(3900.0, 9041.876505225711)\n",
      "(5400.0, 8670.446538994058)\n",
      "(136000.0, 9271.281788797158)\n"
     ]
    }
   ],
   "source": [
    "print(getLabeledPrediction(weightsRR1, parsedTrainData.take(1)[0]))\n",
    "print(getLabeledPrediction(weightsRR1, parsedTrainData.take(2)[1]))\n",
    "print(getLabeledPrediction(weightsRR1, parsedTrainData.take(3)[2]))\n",
    "print(getLabeledPrediction(weightsRR1, parsedTrainData.take(4)[3]))\n",
    "print(getLabeledPrediction(weightsRR1, parsedTrainData.take(5)[4]))\n",
    "print(getLabeledPrediction(weightsRR1, parsedTrainData.take(6)[5]))"
   ]
  },
  {
   "cell_type": "code",
   "execution_count": 26,
   "metadata": {},
   "outputs": [
    {
     "data": {
      "image/png": "[encoded data removed]",
      "text/plain": [
       "<Figure size 864x504 with 1 Axes>"
      ]
     },
     "metadata": {
      "needs_background": "light"
     },
     "output_type": "display_data"
    }
   ],
   "source": [
    "import matplotlib.pyplot as plt\n",
    "\n",
    "fig = plt.figure(figsize = (12, 7))\n",
    "#plt.plot(np.arange(1, len(errorTrainRR1) + 1), np.log(errorTrainRR1))\n",
    "plt.plot(np.arange(1, len(errorTrainRR1) + 1), errorTrainRR1)\n",
    "fig.suptitle('Evolution of training error through iterations', fontsize=20)\n",
    "plt.xlabel('Iteration', fontsize=14)\n",
    "plt.ylabel('Training error', fontsize=14)\n",
    "plt.show()"
   ]
  },
  {
   "cell_type": "code",
   "execution_count": 27,
   "metadata": {},
   "outputs": [
    {
     "name": "stdout",
     "output_type": "stream",
     "text": [
      "[3.18437453e-03 2.19557823e-08 2.08578594e-05 1.12349232e-08\n",
      " 1.17915883e-07 4.28773052e-03 4.32009860e-03 3.99894769e-07\n",
      " 1.21353011e-08 4.28773052e-09 5.16220406e-09 5.59583581e-09\n",
      " 4.29431228e-09 1.39774175e-08 1.13168340e-08 6.39622766e-09\n",
      " 8.50461773e-09 8.29669481e-09 8.43858271e-09 7.35002688e-09\n",
      " 6.86776697e-07 7.99492027e-09 8.39012497e-09 6.62588576e-07\n",
      " 2.47270170e-07 5.21816786e-09 9.02939864e-09 5.00811018e-06\n",
      " 4.65840965e-09 6.11693302e-09 7.01302083e-09 8.51172524e-09\n",
      " 4.29559673e-09 3.05090601e-08 4.29512290e-09 3.85895747e-08\n",
      " 8.30208633e-09 4.29401955e-09 4.30096639e-09 4.34774247e-09\n",
      " 6.88092745e-09 4.29442790e-09 1.61489459e-03 9.50090975e-09\n",
      " 2.13845784e-06 2.31048400e-08 1.07118300e-08 9.60499831e-10\n",
      " 1.18578964e-09 1.34415596e-08 1.25347763e-09 5.78630029e-09\n",
      " 8.53567030e-09 1.80322816e-10 1.40808632e-08 1.43786857e-08\n",
      " 1.41092722e-08 4.30439167e-09 4.36942798e-09 4.47945119e-09\n",
      " 1.84397511e-08 2.52504879e-09 1.32336568e-08 1.58441867e-11\n",
      " 4.14403267e-10 2.76802701e-09 7.40734807e-08 6.48768097e-10\n",
      " 4.29755428e-09 1.55477865e-10 1.51390619e-09 2.40713421e-09\n",
      " 1.56628336e-09 9.57199896e-09 7.20405355e-06 7.35150780e-10\n",
      " 3.25839288e-11 3.05229647e-09 1.70282741e-07 7.16433483e-09\n",
      " 2.15863541e-08 1.91120479e-08 1.75242435e-10 9.75017289e-11\n",
      " 2.76717520e-11 4.36012854e-11 7.51709907e-11 3.24053370e-11\n",
      " 1.19685412e-09 7.82781743e-11 1.59139476e-10 2.25784342e-11\n",
      " 1.94302382e-10 1.94606807e-10 2.85101181e-10 1.94575532e-10\n",
      " 5.49766966e-11 3.85466606e-10 3.89750198e-10 1.48759347e-10\n",
      " 1.14927351e-10 6.47336303e-10 7.74719141e-11 1.45594927e-10\n",
      " 2.32065965e-11 1.94575532e-10 2.20395318e-10 2.31084876e-10\n",
      " 2.07315172e-10 6.29664531e-11 9.38087517e-11 1.94575532e-10\n",
      " 5.70139259e-11 4.82551217e-11 1.09049329e-10 1.29956393e-11\n",
      " 5.34446717e-11 2.86492658e-11 0.00000000e+00 1.94575532e-10\n",
      " 4.29895192e-11 2.04950386e-10 7.36044033e-11 6.12915966e-11\n",
      " 4.41418750e-11 4.51242328e-10 4.67236259e-11 4.38161495e-11\n",
      " 3.86782558e-11 0.00000000e+00 2.78536592e-10 4.83409869e-11\n",
      " 3.04266699e-10 2.40066027e-10 4.00456247e-07 4.00255927e-07\n",
      " 4.00042661e-07 3.99606717e-07 4.00465697e-07 4.00368023e-07\n",
      " 3.99843940e-07 3.99926348e-07 3.99984667e-07 4.00392039e-07\n",
      " 4.00389982e-07 4.00306057e-07 4.00113351e-07 4.00049356e-07\n",
      " 4.00056515e-07 4.00540945e-07 4.00214440e-07 3.99936030e-07\n",
      " 4.00348663e-07 4.00146343e-07 3.99699173e-07 4.00387466e-07\n",
      " 3.99746190e-07 3.99997442e-07 4.00184665e-07 3.99995760e-07\n",
      " 3.99742188e-07 4.00233843e-07 4.00615210e-07 3.99923726e-07\n",
      " 4.00230125e-07 4.00085595e-07 3.99978828e-07 3.99476584e-07\n",
      " 4.00215850e-07 4.00166794e-07 3.99769925e-07 4.00210573e-07\n",
      " 3.99944193e-07 3.99758051e-07 4.00327636e-07 4.00106154e-07\n",
      " 4.00307612e-07 4.00312236e-07 4.00295747e-07 4.00408552e-07\n",
      " 4.00028842e-07 3.99897072e-07 4.00142315e-07 4.00280228e-07\n",
      " 4.00020807e-07 3.99961198e-07 4.00065400e-07 4.00945682e-07\n",
      " 4.00440940e-07 3.99690946e-07 3.99757036e-07 4.00441651e-07\n",
      " 4.00455215e-07 4.00439111e-07 3.99942224e-07 3.99868796e-07\n",
      " 4.00008422e-07 3.99122030e-07 3.99664040e-07 4.00247457e-07\n",
      " 4.00303270e-07 4.00217020e-07 3.99797291e-07 3.99834223e-07\n",
      " 3.99799350e-07 4.00228585e-07 4.00196856e-07 3.99828882e-07\n",
      " 4.00661316e-07 3.99665305e-07 4.00367982e-07 3.99905501e-07\n",
      " 3.99780050e-07 3.99608864e-07]\n"
     ]
    }
   ],
   "source": [
    "print(weightsRR1)"
   ]
  },
  {
   "cell_type": "markdown",
   "metadata": {},
   "source": [
    "### Grid search\n",
    "\n",
    "Now, let us try find a better combination of the hyperparameters running a grid search for different values of the parameters. In this specific case, let us consider the following sets of hyperparameters:\n",
    "\n",
    "- number of iterations = 10, 50, 100, 250, 500, 1000;\n",
    "- learning rate =  1e-10, 1e-12, 1e-15;    \n",
    "- regularization factor = 1e-8, 1e-06, 1e-4, 1e-2, 1e-1, 1."
   ]
  },
  {
   "cell_type": "code",
   "execution_count": 17,
   "metadata": {},
   "outputs": [
    {
     "name": "stdout",
     "output_type": "stream",
     "text": [
      "Running experiment for parameters:\n",
      "\tnumber of iterations = 5,\n",
      "\tlearning rate = 1e-10,             \n",
      "\tregularization parameter = 1e-08\n",
      "...\n"
     ]
    },
    {
     "name": "stderr",
     "output_type": "stream",
     "text": [
      "[========================================================================] 100%\n"
     ]
    },
    {
     "name": "stdout",
     "output_type": "stream",
     "text": [
      "Ridge regression training with parameters:\n",
      "\tnumber of iterations = 5,\n",
      "\tlearning rate = 1e-10,        \n",
      "\tregularization factor = 1e-08,\n",
      "done! Time elapsed: 8 minutes\n",
      "\n",
      "\n",
      "Validation RMSE: = 9195024879868110.0\n",
      "\n",
      "Predictions on train data:\n",
      "\n",
      "(151000.0, 6886627164868040.0)\n",
      "(39930.0, 6934527287068933.0)\n",
      "(11400.0, 7080900817854221.0)\n",
      "(3900.0, 7081098467019365.0)\n",
      "(5400.0, 6880868024538745.0)\n",
      "(136000.0, 7204872775601875.0)\n",
      "\n",
      "\n",
      "Weights:\n",
      "[2.73533444e+09 1.75156537e+04 1.54199949e+07 8.99507011e+03\n",
      " 9.45208357e+04 3.40638463e+09 3.43209943e+09 3.27001637e+05\n",
      " 8.40138313e+03 3.40638463e+03 4.96059038e+03 4.45078329e+03\n",
      " 3.41479156e+03 9.67246097e+03 1.00038630e+04 5.30061603e+03\n",
      " 6.75974394e+03 6.65188615e+03 6.67557555e+03 5.78581839e+03\n",
      " 4.59620993e+05 6.43950546e+03 6.39641991e+03 4.39011591e+05\n",
      " 1.62702962e+05 4.69384982e+03 7.64437701e+03 3.13089392e+06\n",
      " 4.10758007e+03 4.92015337e+03 6.08628456e+03 6.75525919e+03\n",
      " 3.41685949e+03 2.08414228e+04 3.41681090e+03 3.06574617e+04\n",
      " 6.58280345e+03 3.41393832e+03 3.42678691e+03 3.48639102e+03\n",
      " 6.44890715e+03 3.41505422e+03 8.70772210e+08 6.19199445e+03\n",
      " 1.35810053e+06 1.73030568e+04 1.06217597e+04 6.93631693e+02\n",
      " 1.01167646e+03 1.06785505e+04 1.06836187e+03 4.50579954e+03\n",
      " 9.13853216e+03 1.34007399e+02 1.15968069e+04 1.18315021e+04\n",
      " 1.16192251e+04 3.43242938e+03 3.53292394e+03 3.53492973e+03\n",
      " 1.43857283e+04 1.64768620e+03 1.02316066e+04 1.88920667e+01\n",
      " 3.28724068e+02 1.84624882e+03 8.21467480e+04 5.43043821e+02\n",
      " 3.42045320e+03 1.07696722e+02 1.00623908e+03 2.00600138e+03\n",
      " 1.43598640e+03 7.05652181e+03 4.22287415e+06 1.00926109e+03\n",
      " 1.71197490e+01 1.96458108e+03 1.11470343e+05 4.96270026e+03\n",
      " 2.17066465e+04 1.98694078e+04 1.60843618e+02 1.08540627e+02\n",
      " 2.88634106e+01 3.74067346e+01 6.97093025e+01 4.35028952e+01\n",
      " 8.20533381e+02 7.48613346e+01 1.44139706e+02 1.55937087e+01\n",
      " 1.49854101e+02 1.50152955e+02 2.31236237e+02 1.50103158e+02\n",
      " 5.66454355e+01 3.43849989e+02 3.46840048e+02 1.26536667e+02\n",
      " 1.21705730e+02 5.38164318e+02 5.83231228e+01 1.20172257e+02\n",
      " 3.42338800e+01 1.50103158e+02 1.59697078e+02 1.61562511e+02\n",
      " 1.51991062e+02 5.41750370e+01 1.06165180e+02 1.50103158e+02\n",
      " 4.58081819e+01 4.09250939e+01 1.13863033e+02 2.02797392e+01\n",
      " 6.56670450e+01 2.84058216e+01 0.00000000e+00 1.50103158e+02\n",
      " 3.74496669e+01 1.30464994e+02 5.41935478e+01 4.74149771e+01\n",
      " 3.82608541e+01 3.76580708e+02 4.86832813e+01 4.42702270e+01\n",
      " 3.47548054e+01 0.00000000e+00 2.72860788e+02 4.48073727e+01\n",
      " 2.67635973e+02 3.58588879e+02 3.27345662e+05 3.27153429e+05\n",
      " 3.26898634e+05 3.27121190e+05 3.26999434e+05 3.27171894e+05\n",
      " 3.27034456e+05 3.27140596e+05 3.27047892e+05 3.27049249e+05\n",
      " 3.27024267e+05 3.27216624e+05 3.27132293e+05 3.27087600e+05\n",
      " 3.27154067e+05 3.27115859e+05 3.27184087e+05 3.27236706e+05\n",
      " 3.27002645e+05 3.27044281e+05 3.27229940e+05 3.27168474e+05\n",
      " 3.27037832e+05 3.27161751e+05 3.27085540e+05 3.27153195e+05\n",
      " 3.27131032e+05 3.27185476e+05 3.27284651e+05 3.27125979e+05\n",
      " 3.26990454e+05 3.27026382e+05 3.27214191e+05 3.26907551e+05\n",
      " 3.26875978e+05 3.27152499e+05 3.27216736e+05 3.26870056e+05\n",
      " 3.26973840e+05 3.27103013e+05 3.27078019e+05 3.27157996e+05\n",
      " 3.27096876e+05 3.27192554e+05 3.27380282e+05 3.27169728e+05\n",
      " 3.26954356e+05 3.27002772e+05 3.27044925e+05 3.26970692e+05\n",
      " 3.26901079e+05 3.27119093e+05 3.27023633e+05 3.27267061e+05\n",
      " 3.27301609e+05 3.27006521e+05 3.27130977e+05 3.27168998e+05\n",
      " 3.27183579e+05 3.27192799e+05 3.27111599e+05 3.27040273e+05\n",
      " 3.27192636e+05 3.26908905e+05 3.26879561e+05 3.27158720e+05\n",
      " 3.27191879e+05 3.27091358e+05 3.26900403e+05 3.27089671e+05\n",
      " 3.27214528e+05 3.26969266e+05 3.27158007e+05 3.26951918e+05\n",
      " 3.27280795e+05 3.27049986e+05 3.27267586e+05 3.27120832e+05\n",
      " 3.27096266e+05 3.27172382e+05]\n",
      "\n"
     ]
    },
    {
     "data": {
      "image/png": "[encoded data removed]",
      "text/plain": [
       "<Figure size 864x504 with 1 Axes>"
      ]
     },
     "metadata": {
      "needs_background": "light"
     },
     "output_type": "display_data"
    },
    {
     "name": "stdout",
     "output_type": "stream",
     "text": [
      "\n",
      "------------------------------------------------------------------------------------------\n",
      "\n",
      "Running experiment for parameters:\n",
      "\tnumber of iterations = 10,\n",
      "\tlearning rate = 1e-10,             \n",
      "\tregularization parameter = 1e-08\n",
      "...\n"
     ]
    },
    {
     "name": "stderr",
     "output_type": "stream",
     "text": [
      "[========================================================================] 100%\n"
     ]
    },
    {
     "name": "stdout",
     "output_type": "stream",
     "text": [
      "Ridge regression training with parameters:\n",
      "\tnumber of iterations = 10,\n",
      "\tlearning rate = 1e-10,        \n",
      "\tregularization factor = 1e-08,\n",
      "done! Time elapsed: 20 minutes 3 seconds\n",
      "\n",
      "\n",
      "Validation RMSE: = 6.917165981521742e+25\n",
      "\n",
      "Predictions on train data:\n",
      "\n",
      "(151000.0, -5.180620909474992e+25)\n",
      "(39930.0, -5.216654851212431e+25)\n",
      "(11400.0, -5.326767624158816e+25)\n",
      "(3900.0, -5.326916310277598e+25)\n",
      "(5400.0, -5.176288467115688e+25)\n",
      "(136000.0, -5.420028311332843e+25)\n",
      "\n",
      "\n",
      "Weights:\n",
      "[-2.05771810e+19 -1.31765463e+14 -1.16000394e+17 -6.76674475e+13\n",
      " -7.11054353e+14 -2.56252982e+19 -2.58187436e+19 -2.45994371e+15\n",
      " -6.32013026e+13 -2.56252982e+13 -3.73171626e+13 -3.34820231e+13\n",
      " -2.56885412e+13 -7.27632723e+13 -7.52563199e+13 -3.98750821e+13\n",
      " -5.08517014e+13 -5.00403168e+13 -5.02185257e+13 -4.35251263e+13\n",
      " -3.45760271e+15 -4.84426352e+13 -4.81185142e+13 -3.30256376e+15\n",
      " -1.22396977e+15 -3.53105464e+13 -5.75065538e+13 -2.35528554e+16\n",
      " -3.09001996e+13 -3.70129657e+13 -4.57854514e+13 -5.08179638e+13\n",
      " -2.57040976e+13 -1.56784310e+14 -2.57037322e+13 -2.30627684e+14\n",
      " -4.95206265e+13 -2.56821225e+13 -2.57787789e+13 -2.62271643e+13\n",
      " -4.85133617e+13 -2.56905172e+13 -6.55057934e+18 -4.65806770e+13\n",
      " -1.02166178e+16 -1.30166154e+14 -7.99045882e+13 -5.21800112e+12\n",
      " -7.61056483e+12 -8.03318097e+13 -8.03699360e+12 -3.38958950e+13\n",
      " -6.87466743e+13 -1.00810096e+12 -8.72396006e+13 -8.90051487e+13\n",
      " -8.74082470e+13 -2.58212257e+13 -2.65772188e+13 -2.65923077e+13\n",
      " -1.08219892e+14 -1.23950916e+13 -7.69695727e+13 -1.42119847e+11\n",
      " -2.47290111e+12 -1.38888238e+13 -6.17967472e+14 -4.08516992e+12\n",
      " -2.57311322e+13 -8.10172942e+11 -7.56966079e+12 -1.50905986e+13\n",
      " -1.08025322e+13 -5.30842797e+13 -3.17675227e+16 -7.59239465e+12\n",
      " -1.28787178e+11 -1.47790051e+13 -8.38560806e+14 -3.73330341e+13\n",
      " -1.63293155e+14 -1.49472112e+14 -1.20998247e+12 -8.16521409e+11\n",
      " -2.17131532e+11 -2.81400614e+11 -5.24403985e+11 -3.27260364e+11\n",
      " -6.17264769e+12 -5.63161311e+11 -1.08432352e+12 -1.17307191e+11\n",
      " -1.12731133e+12 -1.12955953e+12 -1.73952679e+12 -1.12918492e+12\n",
      " -4.26128099e+11 -2.58668927e+12 -2.60918264e+12 -9.51900677e+11\n",
      " -9.15558866e+11 -4.04846287e+12 -4.38748864e+11 -9.04022961e+11\n",
      " -2.57532128e+11 -1.12918492e+12 -1.20135736e+12 -1.21539051e+12\n",
      " -1.14338711e+12 -4.07543963e+11 -7.98651568e+11 -1.12918492e+12\n",
      " -3.44602398e+11 -3.07868264e+11 -8.56560408e+11 -1.52558926e+11\n",
      " -4.93995194e+11 -2.13689213e+11  0.00000000e+00 -1.12918492e+12\n",
      " -2.81723582e+11 -9.81452372e+11 -4.07683203e+11 -3.56689877e+11\n",
      " -2.87825922e+11 -2.83291359e+12 -3.66230988e+11 -3.33032790e+11\n",
      " -2.61450877e+11  0.00000000e+00 -2.05265699e+12 -3.37073588e+11\n",
      " -2.01335207e+12 -2.69756592e+12 -2.46253171e+15 -2.46108560e+15\n",
      " -2.45916885e+15 -2.46084307e+15 -2.45992714e+15 -2.46122450e+15\n",
      " -2.46019060e+15 -2.46098906e+15 -2.46029167e+15 -2.46030188e+15\n",
      " -2.46011395e+15 -2.46156100e+15 -2.46092660e+15 -2.46059039e+15\n",
      " -2.46109040e+15 -2.46080297e+15 -2.46131623e+15 -2.46171207e+15\n",
      " -2.45995129e+15 -2.46026451e+15 -2.46166117e+15 -2.46119878e+15\n",
      " -2.46021600e+15 -2.46114821e+15 -2.46057489e+15 -2.46108384e+15\n",
      " -2.46091712e+15 -2.46132668e+15 -2.46207275e+15 -2.46087910e+15\n",
      " -2.45985958e+15 -2.46012986e+15 -2.46154270e+15 -2.45923593e+15\n",
      " -2.45899841e+15 -2.46107861e+15 -2.46156184e+15 -2.45895386e+15\n",
      " -2.45973460e+15 -2.46070633e+15 -2.46051831e+15 -2.46111996e+15\n",
      " -2.46066017e+15 -2.46137993e+15 -2.46279215e+15 -2.46120821e+15\n",
      " -2.45958802e+15 -2.45995225e+15 -2.46026935e+15 -2.45971092e+15\n",
      " -2.45918724e+15 -2.46082730e+15 -2.46010918e+15 -2.46194042e+15\n",
      " -2.46220032e+15 -2.45998045e+15 -2.46091670e+15 -2.46120272e+15\n",
      " -2.46131241e+15 -2.46138177e+15 -2.46077092e+15 -2.46023436e+15\n",
      " -2.46138054e+15 -2.45924612e+15 -2.45902536e+15 -2.46112540e+15\n",
      " -2.46137485e+15 -2.46061866e+15 -2.45918216e+15 -2.46060597e+15\n",
      " -2.46154523e+15 -2.45970019e+15 -2.46112004e+15 -2.45956969e+15\n",
      " -2.46204374e+15 -2.46030743e+15 -2.46194437e+15 -2.46084038e+15\n",
      " -2.46065558e+15 -2.46122818e+15]\n",
      "\n"
     ]
    },
    {
     "data": {
      "image/png": "[encoded data removed]",
      "text/plain": [
       "<Figure size 864x504 with 1 Axes>"
      ]
     },
     "metadata": {
      "needs_background": "light"
     },
     "output_type": "display_data"
    },
    {
     "name": "stdout",
     "output_type": "stream",
     "text": [
      "\n",
      "------------------------------------------------------------------------------------------\n",
      "\n"
     ]
    }
   ],
   "source": [
    "import matplotlib.pyplot as plt\n",
    "\n",
    "#numItersParams = [1000]\n",
    "#csiParams = [1e-10, 1e-15, 1e-20]\n",
    "#regParams = [1e-8, 1e-6]\n",
    "\n",
    "numItersParams = [5, 10]\n",
    "csiParams = [1e-10]\n",
    "regParams = [1e-8]\n",
    "\n",
    "for numIters in numItersParams:\n",
    "    for csi in csiParams:\n",
    "        for regFactor in regParams:\n",
    "            print('Running experiment for parameters:\\n\\tnumber of iterations = {},\\n\\tlearning rate = {}, \\\n",
    "            \\n\\tregularization parameter = {}\\n...'.format(numIters, csi, regFactor))\n",
    "            \n",
    "            weights, errorTrain = ridgeRegression(parsedTrainData, numIters, csi, regFactor)\n",
    "            labelsAndPreds = parsedValData.map(lambda p: getLabeledPrediction(weights, p))\n",
    "            rmseValRR = calcRMSE(labelsAndPreds)\n",
    "\n",
    "            print('Validation RMSE: = {}\\n'.format(rmseValRR))\n",
    "            \n",
    "            print('Predictions on train data:\\n')            \n",
    "            print(getLabeledPrediction(weights, parsedTrainData.take(1)[0]))\n",
    "            print(getLabeledPrediction(weights, parsedTrainData.take(2)[1]))\n",
    "            print(getLabeledPrediction(weights, parsedTrainData.take(3)[2]))\n",
    "            print(getLabeledPrediction(weights, parsedTrainData.take(4)[3]))\n",
    "            print(getLabeledPrediction(weights, parsedTrainData.take(5)[4]))\n",
    "            print(getLabeledPrediction(weights, parsedTrainData.take(6)[5]))\n",
    "            print('\\n')\n",
    "            \n",
    "            print('Weights:\\n{}\\n'.format(weights))\n",
    "            \n",
    "            fig = plt.figure(figsize = (12, 7))\n",
    "            #plt.plot(np.arange(1, len(errorTrain) + 1), np.log(errorTrain))\n",
    "            plt.plot(np.arange(1, len(errorTrain) + 1), errorTrain)\n",
    "            fig.suptitle('Evolution of training error through iterations', fontsize = 20)\n",
    "            plt.xlabel('Iteration', fontsize = 14)\n",
    "            plt.ylabel('Training error', fontsize = 14)\n",
    "            plt.show()\n",
    "            \n",
    "            print('\\n------------------------------------------------------------------------------------------\\n')"
   ]
  },
  {
   "cell_type": "code",
   "execution_count": null,
   "metadata": {},
   "outputs": [
    {
     "name": "stdout",
     "output_type": "stream",
     "text": [
      "Running experiment for parameters:\n",
      "\tnumber of iterations = 1500,\n",
      "\tlearning rate = 1e-12,          \n",
      "\tregularization parameter = 1e-08\n",
      "...\n"
     ]
    },
    {
     "name": "stderr",
     "output_type": "stream",
     "text": [
      "[                                                                        ]   1%\r"
     ]
    }
   ],
   "source": [
    "numIters = 1500\n",
    "csi = 1e-12\n",
    "regFactor = 1e-8\n",
    "\n",
    "print('Running experiment for parameters:\\n\\tnumber of iterations = {},\\n\\tlearning rate = {}, \\\n",
    "         \\n\\tregularization parameter = {}\\n...'.format(numIters, csi, regFactor))\n",
    "            \n",
    "weights, errorTrain = ridgeRegression(parsedTrainData, numIters, csi, regFactor)\n",
    "labelsAndPreds = parsedValData.map(lambda p: getLabeledPrediction(weights, p))\n",
    "rmseValRR = calcRMSE(labelsAndPreds)\n",
    "\n",
    "print('Validation RMSE: = {}\\n'.format(rmseValRR))\n",
    "            \n",
    "print('Predictions on train data:\\n')            \n",
    "print(getLabeledPrediction(weights, parsedTrainData.take(1)[0]))\n",
    "print(getLabeledPrediction(weights, parsedTrainData.take(2)[1]))\n",
    "print(getLabeledPrediction(weights, parsedTrainData.take(3)[2]))\n",
    "print(getLabeledPrediction(weights, parsedTrainData.take(4)[3]))\n",
    "print(getLabeledPrediction(weights, parsedTrainData.take(5)[4]))\n",
    "print(getLabeledPrediction(weights, parsedTrainData.take(6)[5]))\n",
    "print('\\n')\n",
    "            \n",
    "print('Weights:\\n{}\\n'.format(weights))\n",
    "            \n",
    "fig = plt.figure(figsize = (12, 7))\n",
    "#plt.plot(np.arange(1, len(errorTrain) + 1), np.log(errorTrain))\n",
    "plt.plot(np.arange(1, len(errorTrain) + 1), errorTrain)\n",
    "fig.suptitle('Evolution of training error through iterations', fontsize = 20)\n",
    "plt.xlabel('Iteration', fontsize = 14)\n",
    "plt.ylabel('Training error', fontsize = 14)\n",
    "plt.show()"
   ]
  },
  {
   "cell_type": "code",
   "execution_count": null,
   "metadata": {},
   "outputs": [],
   "source": []
  }
 ],
 "metadata": {
  "kernelspec": {
   "display_name": "Python 3",
   "language": "python",
   "name": "python3"
  },
  "language_info": {
   "codemirror_mode": {
    "name": "ipython",
    "version": 3
   },
   "file_extension": ".py",
   "mimetype": "text/x-python",
   "name": "python",
   "nbconvert_exporter": "python",
   "pygments_lexer": "ipython3",
   "version": "3.7.6"
  }
 },
 "nbformat": 4,
 "nbformat_minor": 4
}
