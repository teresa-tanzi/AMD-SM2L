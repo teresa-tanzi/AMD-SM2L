{
 "cells": [
  {
   "cell_type": "markdown",
   "metadata": {},
   "source": [
    "# Joint project AMD + SM2L\n",
    "\n",
    "https://docs.google.com/document/d/1oqoIyRUI_digfIokf53fox0I1eWiTFzQaae-PxMre0Y/edit\n",
    "\n",
    "The task is to implement from scratch a learning algorithm for **regression** with **square loss** (e.g., **ridge regression**). The label to be predicted must be selected among the following 5 attributes, removing the remaining 4 from the dataset:\n",
    "- PERNP (Person's earnings)\n",
    "- PINCP (Person's income)\n",
    "- WAGP (Wages or salary income past 12 months)\n",
    "- HINCP (Household income)\n",
    "- FINCP (Family income)"
   ]
  },
  {
   "cell_type": "markdown",
   "metadata": {},
   "source": [
    "This code is run inside the Docker container provided in the course."
   ]
  },
  {
   "cell_type": "markdown",
   "metadata": {},
   "source": [
    "## Dataset\n",
    "\n",
    "The project is based on the analysis of the «2013 American Community Survey» dataset published on Kaggle and released under the public domain license (CC0).\n",
    "\n",
    "https://www.kaggle.com/census/2013-american-community-survey\n",
    "\n",
    "The American Community Survey is an ongoing survey from the US Census Bureau. In this survey, approximately 3.5 million households per year are asked detailed questions about who they are and how they live. Many topics are covered, including ancestry, education, work, transportation, internet use, and residency.\n",
    "\n",
    "There are two types of survey data provided, housing and population:\n",
    "- For the housing data, each row is a housing unit, and the characteristics are properties like rented vs. owned, age of home, etc.\n",
    "- For the population data, each row is a person and the characteristics are properties like age, gender, whether they work, method/length of commute, etc.\n",
    "\n",
    "Each data set is divided in two pieces, \"a\" and \"b\":\n",
    "- \"a\" contains states 1 to 25;\n",
    "- \"b\" contains states 26 to 50.\n",
    "\n",
    "Both data sets have weights associated with them. Weights are included to account for the fact that individuals are not sampled with equal probably (people who have a greater chance of being sampled have a lower weight to reflect this):\n",
    "- Weight variable for the housing data: WGTP\n",
    "- Weight variable for the population data: PWGTP"
   ]
  },
  {
   "cell_type": "markdown",
   "metadata": {},
   "source": [
    "### Setup Kaggle API"
   ]
  },
  {
   "cell_type": "code",
   "execution_count": 5,
   "metadata": {},
   "outputs": [
    {
     "name": "stdout",
     "output_type": "stream",
     "text": [
      "Processing /home/jovyan/.cache/pip/wheels/aa/e7/e7/eb3c3d514c33294d77ddd5a856bdd58dc9c1fabbed59a02a2b/kaggle-1.5.6-py3-none-any.whl\n",
      "Requirement already satisfied: six>=1.10 in /opt/conda/lib/python3.7/site-packages (from kaggle) (1.14.0)\n",
      "Requirement already satisfied: python-dateutil in /opt/conda/lib/python3.7/site-packages (from kaggle) (2.8.1)\n",
      "Requirement already satisfied: urllib3<1.25,>=1.21.1 in /opt/conda/lib/python3.7/site-packages (from kaggle) (1.24.3)\n",
      "Requirement already satisfied: python-slugify in /opt/conda/lib/python3.7/site-packages (from kaggle) (4.0.0)\n",
      "Requirement already satisfied: tqdm in /opt/conda/lib/python3.7/site-packages (from kaggle) (4.45.0)\n",
      "Requirement already satisfied: certifi in /opt/conda/lib/python3.7/site-packages (from kaggle) (2020.4.5.1)\n",
      "Requirement already satisfied: requests in /opt/conda/lib/python3.7/site-packages (from kaggle) (2.23.0)\n",
      "Requirement already satisfied: text-unidecode>=1.3 in /opt/conda/lib/python3.7/site-packages (from python-slugify->kaggle) (1.3)\n",
      "Requirement already satisfied: idna<3,>=2.5 in /opt/conda/lib/python3.7/site-packages (from requests->kaggle) (2.9)\n",
      "Requirement already satisfied: chardet<4,>=3.0.2 in /opt/conda/lib/python3.7/site-packages (from requests->kaggle) (3.0.4)\n",
      "Installing collected packages: kaggle\n",
      "\u001b[33m  WARNING: The script kaggle is installed in '/home/jovyan/.local/bin' which is not on PATH.\n",
      "  Consider adding this directory to PATH or, if you prefer to suppress this warning, use --no-warn-script-location.\u001b[0m\n",
      "Successfully installed kaggle-1.5.6\n"
     ]
    }
   ],
   "source": [
    "# install kaggle API for providing the dataset\n",
    "!pip install --user kaggle"
   ]
  },
  {
   "cell_type": "code",
   "execution_count": 2,
   "metadata": {},
   "outputs": [],
   "source": [
    "# add kaggle to PATH environment variable\n",
    "import os\n",
    "os.environ[\"PATH\"] += os.pathsep + \"/home/jovyan/.local/bin\""
   ]
  },
  {
   "cell_type": "code",
   "execution_count": 14,
   "metadata": {},
   "outputs": [],
   "source": [
    "!mkdir ~/.kaggle\n",
    "!echo '{\"username\":\"teresatanzi\",\"key\":\"a64ec0d865925975d3318adf576216b7\"}' >> ~/.kaggle/kaggle.json\n",
    "!chmod 600 ~/.kaggle/kaggle.json"
   ]
  },
  {
   "cell_type": "code",
   "execution_count": 18,
   "metadata": {},
   "outputs": [],
   "source": [
    "!export KAGGLE_USERNAME=teresatanzi\n",
    "!export KAGGLE_KEY=a64ec0d865925975d3318adf576216b7"
   ]
  },
  {
   "cell_type": "code",
   "execution_count": 4,
   "metadata": {},
   "outputs": [
    {
     "name": "stdout",
     "output_type": "stream",
     "text": [
      "Found existing installation: kaggle 1.5.6\r\n",
      "Uninstalling kaggle-1.5.6:\r\n",
      "  Would remove:\r\n",
      "    /home/jovyan/.local/bin/kaggle\r\n",
      "    /home/jovyan/.local/lib/python3.7/site-packages/kaggle-1.5.6.dist-info/*\r\n",
      "    /home/jovyan/.local/lib/python3.7/site-packages/kaggle/*\r\n",
      "Proceed (y/n)?   Successfully uninstalled kaggle-1.5.6\r\n"
     ]
    }
   ],
   "source": [
    "# uncomment to uninstall kaggle\n",
    "#!python -c \"print('y')\" | pip uninstall kaggle"
   ]
  },
  {
   "cell_type": "code",
   "execution_count": 66,
   "metadata": {},
   "outputs": [
    {
     "name": "stdout",
     "output_type": "stream",
     "text": [
      "Welcome to\r\n",
      "      ____              __\r\n",
      "     / __/__  ___ _____/ /__\r\n",
      "    _\\ \\/ _ \\/ _ `/ __/  '_/\r\n",
      "   /___/ .__/\\_,_/_/ /_/\\_\\   version 2.4.5\r\n",
      "      /_/\r\n",
      "                        \r\n",
      "Using Scala version 2.11.12, OpenJDK 64-Bit Server VM, 1.8.0_252\r\n",
      "Branch HEAD\r\n",
      "Compiled by user centos on 2020-02-02T19:38:06Z\r\n",
      "Revision cee4ecbb16917fa85f02c635925e2687400aa56b\r\n",
      "Url https://gitbox.apache.org/repos/asf/spark.git\r\n",
      "Type --help for more information.\r\n"
     ]
    }
   ],
   "source": [
    "!pyspark --version"
   ]
  },
  {
   "cell_type": "markdown",
   "metadata": {},
   "source": [
    "### Dataset download\n",
    "\n",
    "The dataset should not be added to the repository, but downloaded during code execution, for instance via the kaggle API \n",
    "\n",
    "https://github.com/Kaggle/kaggle-api"
   ]
  },
  {
   "cell_type": "code",
   "execution_count": 8,
   "metadata": {},
   "outputs": [
    {
     "name": "stdout",
     "output_type": "stream",
     "text": [
      "Downloading 2013-american-community-survey.zip to ./data\n",
      "100%|███████████████████████████████████████▉| 916M/916M [02:56<00:00, 5.74MB/s]\n",
      "100%|████████████████████████████████████████| 916M/916M [02:56<00:00, 5.45MB/s]\n"
     ]
    }
   ],
   "source": [
    "!mkdir ./data\n",
    "!kaggle datasets download census/2013-american-community-survey -p ./data"
   ]
  },
  {
   "cell_type": "code",
   "execution_count": 9,
   "metadata": {},
   "outputs": [],
   "source": [
    "import zipfile\n",
    "\n",
    "with zipfile.ZipFile(\"./data/2013-american-community-survey.zip\",\"r\") as zip_ref:\n",
    "    zip_ref.extractall(\"./data/2013-american-community-survey\")"
   ]
  },
  {
   "cell_type": "markdown",
   "metadata": {},
   "source": [
    "### Reading the data\n",
    "\n",
    "The task is to implement from scratch a learning algorithm for regression with square loss (e.g., ridge regression). The label to be predicted must be selected among the following 5 attributes, removing the remaining 4 from the dataset:\n",
    "\n",
    "- pusa dataset:\n",
    "    - PERNP (Person's earnings)\n",
    "    - PINCP (Person's income)\n",
    "    - WAGP (Wages or salary income past 12 months)\n",
    "- husa dataset:\n",
    "    - HINCP (Household income)\n",
    "    - FINCP (Family income)"
   ]
  },
  {
   "cell_type": "code",
   "execution_count": 1,
   "metadata": {},
   "outputs": [],
   "source": [
    "import pyspark\n",
    "sc = pyspark.SparkContext('local[*]')"
   ]
  },
  {
   "cell_type": "code",
   "execution_count": 2,
   "metadata": {},
   "outputs": [],
   "source": [
    "import os.path\n",
    "\n",
    "baseDir = os.path.join('./data/2013-american-community-survey')\n",
    "#inputPathA = os.path.join('ss13pusa.csv')\n",
    "#inputPathB = os.path.join('ss13pusb.csv')\n",
    "inputPathA = os.path.join('ss13husa.csv')\n",
    "inputPathB = os.path.join('ss13husb.csv')\n",
    "fileNameA = os.path.join(baseDir, inputPathA)\n",
    "fileNameB = os.path.join(baseDir, inputPathB)\n",
    "\n",
    "numPartitions = 2\n",
    "rawDataA = sc.textFile(fileNameA, numPartitions)\n",
    "rawDataB = sc.textFile(fileNameB, numPartitions)"
   ]
  },
  {
   "cell_type": "code",
   "execution_count": 3,
   "metadata": {},
   "outputs": [],
   "source": [
    "header = sc.parallelize([rawDataA.first()])                                    #extract header\n",
    "rawData = rawDataA.subtract(header).union(rawDataB.subtract(header))           #filter out header"
   ]
  },
  {
   "cell_type": "code",
   "execution_count": 4,
   "metadata": {},
   "outputs": [],
   "source": [
    "n = rawData.count()"
   ]
  },
  {
   "cell_type": "code",
   "execution_count": 5,
   "metadata": {},
   "outputs": [
    {
     "data": {
      "text/plain": [
       "['H,709,6,02300,3,01,1000000,1007549,00025,01,1,3,2,1,1,03,02,,2,2,,,,100,,1,0002,030,2,2,,2,,,,,,,,1,05,,,1,9,,1,,1,1,4,1,,,0,0010,4,,0,,0,,,,,,1,6,000007700,0,4,4,4,1,1,1,7,00,,0,0,00,,0,1,0,0,1,1,1,,,1,0,0,,,,,0,0,0,0,0,0,0,0,0,0,0,0,0,0,0,1,0,0,0,0,0,0,0,0,0,0,0,0,0,0,0,0,0,0,0,0,0,0,0,0,0,0,0,0,0,0,0,0,0,0,0,0,00007,00022,00028,00017,00044,00026,00021,00006,00028,00006,00015,00024,00028,00041,00050,00006,00026,00030,00018,00049,00006,00043,00023,00031,00032,00023,00020,00006,00039,00006,00008,00028,00038,00030,00042,00011,00032,00037,00019,00006,00038,00022,00044,00016,00006,00033,00033,00035,00005,00026,00065,00027,00025,00010,00011,00047,00028,00021,00017,00007,00029,00031,00029,00026,00006,00022,00023,00022,00007,00039,00031,00022,00025,00007,00005,00037,00081,00054,00024,00032']"
      ]
     },
     "execution_count": 5,
     "metadata": {},
     "output_type": "execute_result"
    }
   ],
   "source": [
    "rawData.take(1)"
   ]
  },
  {
   "cell_type": "code",
   "execution_count": 6,
   "metadata": {},
   "outputs": [
    {
     "name": "stdout",
     "output_type": "stream",
     "text": [
      "231\n"
     ]
    }
   ],
   "source": [
    "headerList = header.take(1)[0].split(',')\n",
    "print(len(headerList))"
   ]
  },
  {
   "cell_type": "markdown",
   "metadata": {},
   "source": [
    "## Preprocessing\n",
    "\n",
    "We should trasform data in objects belonging to the class LabeledPoint, but first we have to solve some issues:\n",
    "\n",
    "- we have to deal with missing values: we can substitute those with mean or median of the corresponding column; <br>\n",
    "https://towardsdatascience.com/how-to-handle-missing-data-8646b18db0d4\n",
    "- we have to deal with categorical values: it should be fine to just discard the feature, because only the first feature is categorical and it has a constant value for all the entry;\n",
    "- we have to deal with missing values in the labels: we could discard data points with no label, because they don't really help in the training process."
   ]
  },
  {
   "cell_type": "markdown",
   "metadata": {},
   "source": [
    "#### Dataframe\n",
    "\n",
    "Let's start reading the data as a pyspark dataframe"
   ]
  },
  {
   "cell_type": "code",
   "execution_count": 7,
   "metadata": {},
   "outputs": [],
   "source": [
    "from pyspark.sql import SQLContext\n",
    "\n",
    "sqlContext = SQLContext(sc)"
   ]
  },
  {
   "cell_type": "code",
   "execution_count": 8,
   "metadata": {},
   "outputs": [],
   "source": [
    "from pyspark.sql.types import StructType\n",
    "from pyspark.sql.types import StructField\n",
    "from pyspark.sql.types import StringType\n",
    "\n",
    "schema = StructType([StructField(i, StringType(), True) for i in headerList])\n",
    "df = sqlContext.createDataFrame(rawData.map(lambda row: row.split(',')), schema)"
   ]
  },
  {
   "cell_type": "code",
   "execution_count": 9,
   "metadata": {},
   "outputs": [
    {
     "name": "stdout",
     "output_type": "stream",
     "text": [
      "root\n",
      " |-- RT: string (nullable = true)\n",
      " |-- SERIALNO: string (nullable = true)\n",
      " |-- DIVISION: string (nullable = true)\n",
      " |-- PUMA: string (nullable = true)\n",
      " |-- REGION: string (nullable = true)\n",
      " |-- ST: string (nullable = true)\n",
      " |-- ADJHSG: string (nullable = true)\n",
      " |-- ADJINC: string (nullable = true)\n",
      " |-- WGTP: string (nullable = true)\n",
      " |-- NP: string (nullable = true)\n",
      " |-- TYPE: string (nullable = true)\n",
      " |-- ACCESS: string (nullable = true)\n",
      " |-- ACR: string (nullable = true)\n",
      " |-- AGS: string (nullable = true)\n",
      " |-- BATH: string (nullable = true)\n",
      " |-- BDSP: string (nullable = true)\n",
      " |-- BLD: string (nullable = true)\n",
      " |-- BROADBND: string (nullable = true)\n",
      " |-- BUS: string (nullable = true)\n",
      " |-- COMPOTHX: string (nullable = true)\n",
      " |-- CONP: string (nullable = true)\n",
      " |-- DIALUP: string (nullable = true)\n",
      " |-- DSL: string (nullable = true)\n",
      " |-- ELEP: string (nullable = true)\n",
      " |-- FIBEROP: string (nullable = true)\n",
      " |-- FS: string (nullable = true)\n",
      " |-- FULP: string (nullable = true)\n",
      " |-- GASP: string (nullable = true)\n",
      " |-- HANDHELD: string (nullable = true)\n",
      " |-- HFL: string (nullable = true)\n",
      " |-- INSP: string (nullable = true)\n",
      " |-- LAPTOP: string (nullable = true)\n",
      " |-- MHP: string (nullable = true)\n",
      " |-- MODEM: string (nullable = true)\n",
      " |-- MRGI: string (nullable = true)\n",
      " |-- MRGP: string (nullable = true)\n",
      " |-- MRGT: string (nullable = true)\n",
      " |-- MRGX: string (nullable = true)\n",
      " |-- OTHSVCEX: string (nullable = true)\n",
      " |-- REFR: string (nullable = true)\n",
      " |-- RMSP: string (nullable = true)\n",
      " |-- RNTM: string (nullable = true)\n",
      " |-- RNTP: string (nullable = true)\n",
      " |-- RWAT: string (nullable = true)\n",
      " |-- RWATPR: string (nullable = true)\n",
      " |-- SATELLITE: string (nullable = true)\n",
      " |-- SINK: string (nullable = true)\n",
      " |-- SMP: string (nullable = true)\n",
      " |-- STOV: string (nullable = true)\n",
      " |-- TEL: string (nullable = true)\n",
      " |-- TEN: string (nullable = true)\n",
      " |-- TOIL: string (nullable = true)\n",
      " |-- VACS: string (nullable = true)\n",
      " |-- VALP: string (nullable = true)\n",
      " |-- VEH: string (nullable = true)\n",
      " |-- WATP: string (nullable = true)\n",
      " |-- YBL: string (nullable = true)\n",
      " |-- FES: string (nullable = true)\n",
      " |-- FFINCP: string (nullable = true)\n",
      " |-- FGRNTP: string (nullable = true)\n",
      " |-- FHINCP: string (nullable = true)\n",
      " |-- FINCP: string (nullable = true)\n",
      " |-- FPARC: string (nullable = true)\n",
      " |-- FSMOCP: string (nullable = true)\n",
      " |-- GRNTP: string (nullable = true)\n",
      " |-- GRPIP: string (nullable = true)\n",
      " |-- HHL: string (nullable = true)\n",
      " |-- HHT: string (nullable = true)\n",
      " |-- HINCP: string (nullable = true)\n",
      " |-- HUGCL: string (nullable = true)\n",
      " |-- HUPAC: string (nullable = true)\n",
      " |-- HUPAOC: string (nullable = true)\n",
      " |-- HUPARC: string (nullable = true)\n",
      " |-- KIT: string (nullable = true)\n",
      " |-- LNGI: string (nullable = true)\n",
      " |-- MULTG: string (nullable = true)\n",
      " |-- MV: string (nullable = true)\n",
      " |-- NOC: string (nullable = true)\n",
      " |-- NPF: string (nullable = true)\n",
      " |-- NPP: string (nullable = true)\n",
      " |-- NR: string (nullable = true)\n",
      " |-- NRC: string (nullable = true)\n",
      " |-- OCPIP: string (nullable = true)\n",
      " |-- PARTNER: string (nullable = true)\n",
      " |-- PLM: string (nullable = true)\n",
      " |-- PSF: string (nullable = true)\n",
      " |-- R18: string (nullable = true)\n",
      " |-- R60: string (nullable = true)\n",
      " |-- R65: string (nullable = true)\n",
      " |-- RESMODE: string (nullable = true)\n",
      " |-- SMOCP: string (nullable = true)\n",
      " |-- SMX: string (nullable = true)\n",
      " |-- SRNT: string (nullable = true)\n",
      " |-- SSMC: string (nullable = true)\n",
      " |-- SVAL: string (nullable = true)\n",
      " |-- TAXP: string (nullable = true)\n",
      " |-- WIF: string (nullable = true)\n",
      " |-- WKEXREL: string (nullable = true)\n",
      " |-- WORKSTAT: string (nullable = true)\n",
      " |-- FACCESSP: string (nullable = true)\n",
      " |-- FACRP: string (nullable = true)\n",
      " |-- FAGSP: string (nullable = true)\n",
      " |-- FBATHP: string (nullable = true)\n",
      " |-- FBDSP: string (nullable = true)\n",
      " |-- FBLDP: string (nullable = true)\n",
      " |-- FBROADBNDP: string (nullable = true)\n",
      " |-- FBUSP: string (nullable = true)\n",
      " |-- FCOMPOTHXP: string (nullable = true)\n",
      " |-- FCONP: string (nullable = true)\n",
      " |-- FDIALUPP: string (nullable = true)\n",
      " |-- FDSLP: string (nullable = true)\n",
      " |-- FELEP: string (nullable = true)\n",
      " |-- FFIBEROPP: string (nullable = true)\n",
      " |-- FFSP: string (nullable = true)\n",
      " |-- FFULP: string (nullable = true)\n",
      " |-- FGASP: string (nullable = true)\n",
      " |-- FHANDHELDP: string (nullable = true)\n",
      " |-- FHFLP: string (nullable = true)\n",
      " |-- FINSP: string (nullable = true)\n",
      " |-- FKITP: string (nullable = true)\n",
      " |-- FLAPTOPP: string (nullable = true)\n",
      " |-- FMHP: string (nullable = true)\n",
      " |-- FMODEMP: string (nullable = true)\n",
      " |-- FMRGIP: string (nullable = true)\n",
      " |-- FMRGP: string (nullable = true)\n",
      " |-- FMRGTP: string (nullable = true)\n",
      " |-- FMRGXP: string (nullable = true)\n",
      " |-- FMVP: string (nullable = true)\n",
      " |-- FOTHSVCEXP: string (nullable = true)\n",
      " |-- FPLMP: string (nullable = true)\n",
      " |-- FREFRP: string (nullable = true)\n",
      " |-- FRMSP: string (nullable = true)\n",
      " |-- FRNTMP: string (nullable = true)\n",
      " |-- FRNTP: string (nullable = true)\n",
      " |-- FRWATP: string (nullable = true)\n",
      " |-- FRWATPRP: string (nullable = true)\n",
      " |-- FSATELLITEP: string (nullable = true)\n",
      " |-- FSINKP: string (nullable = true)\n",
      " |-- FSMP: string (nullable = true)\n",
      " |-- FSMXHP: string (nullable = true)\n",
      " |-- FSMXSP: string (nullable = true)\n",
      " |-- FSTOVP: string (nullable = true)\n",
      " |-- FTAXP: string (nullable = true)\n",
      " |-- FTELP: string (nullable = true)\n",
      " |-- FTENP: string (nullable = true)\n",
      " |-- FTOILP: string (nullable = true)\n",
      " |-- FVACSP: string (nullable = true)\n",
      " |-- FVALP: string (nullable = true)\n",
      " |-- FVEHP: string (nullable = true)\n",
      " |-- FWATP: string (nullable = true)\n",
      " |-- FYBLP: string (nullable = true)\n",
      " |-- wgtp1: string (nullable = true)\n",
      " |-- wgtp2: string (nullable = true)\n",
      " |-- wgtp3: string (nullable = true)\n",
      " |-- wgtp4: string (nullable = true)\n",
      " |-- wgtp5: string (nullable = true)\n",
      " |-- wgtp6: string (nullable = true)\n",
      " |-- wgtp7: string (nullable = true)\n",
      " |-- wgtp8: string (nullable = true)\n",
      " |-- wgtp9: string (nullable = true)\n",
      " |-- wgtp10: string (nullable = true)\n",
      " |-- wgtp11: string (nullable = true)\n",
      " |-- wgtp12: string (nullable = true)\n",
      " |-- wgtp13: string (nullable = true)\n",
      " |-- wgtp14: string (nullable = true)\n",
      " |-- wgtp15: string (nullable = true)\n",
      " |-- wgtp16: string (nullable = true)\n",
      " |-- wgtp17: string (nullable = true)\n",
      " |-- wgtp18: string (nullable = true)\n",
      " |-- wgtp19: string (nullable = true)\n",
      " |-- wgtp20: string (nullable = true)\n",
      " |-- wgtp21: string (nullable = true)\n",
      " |-- wgtp22: string (nullable = true)\n",
      " |-- wgtp23: string (nullable = true)\n",
      " |-- wgtp24: string (nullable = true)\n",
      " |-- wgtp25: string (nullable = true)\n",
      " |-- wgtp26: string (nullable = true)\n",
      " |-- wgtp27: string (nullable = true)\n",
      " |-- wgtp28: string (nullable = true)\n",
      " |-- wgtp29: string (nullable = true)\n",
      " |-- wgtp30: string (nullable = true)\n",
      " |-- wgtp31: string (nullable = true)\n",
      " |-- wgtp32: string (nullable = true)\n",
      " |-- wgtp33: string (nullable = true)\n",
      " |-- wgtp34: string (nullable = true)\n",
      " |-- wgtp35: string (nullable = true)\n",
      " |-- wgtp36: string (nullable = true)\n",
      " |-- wgtp37: string (nullable = true)\n",
      " |-- wgtp38: string (nullable = true)\n",
      " |-- wgtp39: string (nullable = true)\n",
      " |-- wgtp40: string (nullable = true)\n",
      " |-- wgtp41: string (nullable = true)\n",
      " |-- wgtp42: string (nullable = true)\n",
      " |-- wgtp43: string (nullable = true)\n",
      " |-- wgtp44: string (nullable = true)\n",
      " |-- wgtp45: string (nullable = true)\n",
      " |-- wgtp46: string (nullable = true)\n",
      " |-- wgtp47: string (nullable = true)\n",
      " |-- wgtp48: string (nullable = true)\n",
      " |-- wgtp49: string (nullable = true)\n",
      " |-- wgtp50: string (nullable = true)\n",
      " |-- wgtp51: string (nullable = true)\n",
      " |-- wgtp52: string (nullable = true)\n",
      " |-- wgtp53: string (nullable = true)\n",
      " |-- wgtp54: string (nullable = true)\n",
      " |-- wgtp55: string (nullable = true)\n",
      " |-- wgtp56: string (nullable = true)\n",
      " |-- wgtp57: string (nullable = true)\n",
      " |-- wgtp58: string (nullable = true)\n",
      " |-- wgtp59: string (nullable = true)\n",
      " |-- wgtp60: string (nullable = true)\n",
      " |-- wgtp61: string (nullable = true)\n",
      " |-- wgtp62: string (nullable = true)\n",
      " |-- wgtp63: string (nullable = true)\n",
      " |-- wgtp64: string (nullable = true)\n",
      " |-- wgtp65: string (nullable = true)\n",
      " |-- wgtp66: string (nullable = true)\n",
      " |-- wgtp67: string (nullable = true)\n",
      " |-- wgtp68: string (nullable = true)\n",
      " |-- wgtp69: string (nullable = true)\n",
      " |-- wgtp70: string (nullable = true)\n",
      " |-- wgtp71: string (nullable = true)\n",
      " |-- wgtp72: string (nullable = true)\n",
      " |-- wgtp73: string (nullable = true)\n",
      " |-- wgtp74: string (nullable = true)\n",
      " |-- wgtp75: string (nullable = true)\n",
      " |-- wgtp76: string (nullable = true)\n",
      " |-- wgtp77: string (nullable = true)\n",
      " |-- wgtp78: string (nullable = true)\n",
      " |-- wgtp79: string (nullable = true)\n",
      " |-- wgtp80: string (nullable = true)\n",
      "\n"
     ]
    }
   ],
   "source": [
    "df.printSchema()"
   ]
  },
  {
   "cell_type": "code",
   "execution_count": 10,
   "metadata": {},
   "outputs": [
    {
     "name": "stdout",
     "output_type": "stream",
     "text": [
      "+---+--------+--------+-----+------+---+-------+-------+-----+---+----+------+---+---+----+----+---+--------+---+--------+----+------+---+----+-------+---+----+----+--------+---+----+------+---+-----+----+----+----+----+--------+----+----+----+----+----+------+---------+----+---+----+---+---+----+----+----+---+----+---+---+------+------+------+-----+-----+------+-----+-----+---+---+---------+-----+-----+------+------+---+----+-----+---+---+---+---+---+---+-----+-------+---+---+---+---+---+-------+-----+---+----+----+----+----+---+-------+--------+--------+-----+-----+------+-----+-----+----------+-----+----------+-----+--------+-----+-----+---------+----+-----+-----+----------+-----+-----+-----+--------+----+-------+------+-----+------+------+----+----------+-----+------+-----+------+-----+------+--------+-----------+------+----+------+------+------+-----+-----+-----+------+------+-----+-----+-----+-----+-----+-----+-----+-----+-----+-----+-----+-----+-----+------+------+------+------+------+------+------+------+------+------+------+------+------+------+------+------+------+------+------+------+------+------+------+------+------+------+------+------+------+------+------+------+------+------+------+------+------+------+------+------+------+------+------+------+------+------+------+------+------+------+------+------+------+------+------+------+------+------+------+------+------+------+------+------+------+------+------+------+------+------+------+\n",
      "| RT|SERIALNO|DIVISION| PUMA|REGION| ST| ADJHSG| ADJINC| WGTP| NP|TYPE|ACCESS|ACR|AGS|BATH|BDSP|BLD|BROADBND|BUS|COMPOTHX|CONP|DIALUP|DSL|ELEP|FIBEROP| FS|FULP|GASP|HANDHELD|HFL|INSP|LAPTOP|MHP|MODEM|MRGI|MRGP|MRGT|MRGX|OTHSVCEX|REFR|RMSP|RNTM|RNTP|RWAT|RWATPR|SATELLITE|SINK|SMP|STOV|TEL|TEN|TOIL|VACS|VALP|VEH|WATP|YBL|FES|FFINCP|FGRNTP|FHINCP|FINCP|FPARC|FSMOCP|GRNTP|GRPIP|HHL|HHT|    HINCP|HUGCL|HUPAC|HUPAOC|HUPARC|KIT|LNGI|MULTG| MV|NOC|NPF|NPP| NR|NRC|OCPIP|PARTNER|PLM|PSF|R18|R60|R65|RESMODE|SMOCP|SMX|SRNT|SSMC|SVAL|TAXP|WIF|WKEXREL|WORKSTAT|FACCESSP|FACRP|FAGSP|FBATHP|FBDSP|FBLDP|FBROADBNDP|FBUSP|FCOMPOTHXP|FCONP|FDIALUPP|FDSLP|FELEP|FFIBEROPP|FFSP|FFULP|FGASP|FHANDHELDP|FHFLP|FINSP|FKITP|FLAPTOPP|FMHP|FMODEMP|FMRGIP|FMRGP|FMRGTP|FMRGXP|FMVP|FOTHSVCEXP|FPLMP|FREFRP|FRMSP|FRNTMP|FRNTP|FRWATP|FRWATPRP|FSATELLITEP|FSINKP|FSMP|FSMXHP|FSMXSP|FSTOVP|FTAXP|FTELP|FTENP|FTOILP|FVACSP|FVALP|FVEHP|FWATP|FYBLP|wgtp1|wgtp2|wgtp3|wgtp4|wgtp5|wgtp6|wgtp7|wgtp8|wgtp9|wgtp10|wgtp11|wgtp12|wgtp13|wgtp14|wgtp15|wgtp16|wgtp17|wgtp18|wgtp19|wgtp20|wgtp21|wgtp22|wgtp23|wgtp24|wgtp25|wgtp26|wgtp27|wgtp28|wgtp29|wgtp30|wgtp31|wgtp32|wgtp33|wgtp34|wgtp35|wgtp36|wgtp37|wgtp38|wgtp39|wgtp40|wgtp41|wgtp42|wgtp43|wgtp44|wgtp45|wgtp46|wgtp47|wgtp48|wgtp49|wgtp50|wgtp51|wgtp52|wgtp53|wgtp54|wgtp55|wgtp56|wgtp57|wgtp58|wgtp59|wgtp60|wgtp61|wgtp62|wgtp63|wgtp64|wgtp65|wgtp66|wgtp67|wgtp68|wgtp69|wgtp70|wgtp71|wgtp72|wgtp73|wgtp74|wgtp75|wgtp76|wgtp77|wgtp78|wgtp79|wgtp80|\n",
      "+---+--------+--------+-----+------+---+-------+-------+-----+---+----+------+---+---+----+----+---+--------+---+--------+----+------+---+----+-------+---+----+----+--------+---+----+------+---+-----+----+----+----+----+--------+----+----+----+----+----+------+---------+----+---+----+---+---+----+----+----+---+----+---+---+------+------+------+-----+-----+------+-----+-----+---+---+---------+-----+-----+------+------+---+----+-----+---+---+---+---+---+---+-----+-------+---+---+---+---+---+-------+-----+---+----+----+----+----+---+-------+--------+--------+-----+-----+------+-----+-----+----------+-----+----------+-----+--------+-----+-----+---------+----+-----+-----+----------+-----+-----+-----+--------+----+-------+------+-----+------+------+----+----------+-----+------+-----+------+-----+------+--------+-----------+------+----+------+------+------+-----+-----+-----+------+------+-----+-----+-----+-----+-----+-----+-----+-----+-----+-----+-----+-----+-----+------+------+------+------+------+------+------+------+------+------+------+------+------+------+------+------+------+------+------+------+------+------+------+------+------+------+------+------+------+------+------+------+------+------+------+------+------+------+------+------+------+------+------+------+------+------+------+------+------+------+------+------+------+------+------+------+------+------+------+------+------+------+------+------+------+------+------+------+------+------+------+\n",
      "|  H|     709|       6|02300|     3| 01|1000000|1007549|00025| 01|   1|     3|  2|  1|   1|  03| 02|        |  2|       2|    |      |   | 100|       |  1|0002| 030|       2|  2|    |     2|   |     |    |    |    |    |        |   1|  05|    |    |   1|     9|         |   1|   |   1|  1|  4|   1|    |    |  0|0010|  4|   |     0|      |     0|     |     |      |     |     |  1|  6|000007700|    0|    4|     4|     4|  1|   1|    1|  7| 00|   |  0|  0| 00|     |      0|  1|  0|  0|  1|  1|      1|     |   |   1|   0|   0|    |   |       |        |       0|    0|    0|     0|    0|    0|         0|    0|         0|    0|       0|    0|    0|        0|   0|    1|    0|         0|    0|    0|    0|       0|   0|      0|     0|    0|     0|     0|   0|         0|    0|     0|    0|     0|    0|     0|       0|          0|     0|   0|     0|     0|     0|    0|    0|    0|     0|     0|    0|    0|    0|    0|00007|00022|00028|00017|00044|00026|00021|00006|00028| 00006| 00015| 00024| 00028| 00041| 00050| 00006| 00026| 00030| 00018| 00049| 00006| 00043| 00023| 00031| 00032| 00023| 00020| 00006| 00039| 00006| 00008| 00028| 00038| 00030| 00042| 00011| 00032| 00037| 00019| 00006| 00038| 00022| 00044| 00016| 00006| 00033| 00033| 00035| 00005| 00026| 00065| 00027| 00025| 00010| 00011| 00047| 00028| 00021| 00017| 00007| 00029| 00031| 00029| 00026| 00006| 00022| 00023| 00022| 00007| 00039| 00031| 00022| 00025| 00007| 00005| 00037| 00081| 00054| 00024| 00032|\n",
      "+---+--------+--------+-----+------+---+-------+-------+-----+---+----+------+---+---+----+----+---+--------+---+--------+----+------+---+----+-------+---+----+----+--------+---+----+------+---+-----+----+----+----+----+--------+----+----+----+----+----+------+---------+----+---+----+---+---+----+----+----+---+----+---+---+------+------+------+-----+-----+------+-----+-----+---+---+---------+-----+-----+------+------+---+----+-----+---+---+---+---+---+---+-----+-------+---+---+---+---+---+-------+-----+---+----+----+----+----+---+-------+--------+--------+-----+-----+------+-----+-----+----------+-----+----------+-----+--------+-----+-----+---------+----+-----+-----+----------+-----+-----+-----+--------+----+-------+------+-----+------+------+----+----------+-----+------+-----+------+-----+------+--------+-----------+------+----+------+------+------+-----+-----+-----+------+------+-----+-----+-----+-----+-----+-----+-----+-----+-----+-----+-----+-----+-----+------+------+------+------+------+------+------+------+------+------+------+------+------+------+------+------+------+------+------+------+------+------+------+------+------+------+------+------+------+------+------+------+------+------+------+------+------+------+------+------+------+------+------+------+------+------+------+------+------+------+------+------+------+------+------+------+------+------+------+------+------+------+------+------+------+------+------+------+------+------+------+\n",
      "only showing top 1 row\n",
      "\n"
     ]
    }
   ],
   "source": [
    "df.show(n = 1)"
   ]
  },
  {
   "cell_type": "code",
   "execution_count": 11,
   "metadata": {},
   "outputs": [],
   "source": [
    "from pyspark.sql.types import DoubleType\n",
    "\n",
    "for i in headerList:\n",
    "    # RT in a string and it has a constant value for all the points\n",
    "    if i != 'RT': df = df.withColumn(i, df[i].cast(DoubleType()))"
   ]
  },
  {
   "cell_type": "code",
   "execution_count": 12,
   "metadata": {},
   "outputs": [],
   "source": [
    "# removing the first column because:\n",
    "# it's a string (it can couse problems when we want to perform some operations on all the dataframe)\n",
    "# it has a constant value (so, it's not informative)\n",
    "\n",
    "# ! COLLECT E' UN'OPERAZIONE MOLTO LENTA\n",
    "# when the data size is large, collect() might cause heap space error. you can also create a new dataframe dropping\n",
    "# the extra field by ndf = df.drop('age')\n",
    "df = df.drop('RT')"
   ]
  },
  {
   "cell_type": "markdown",
   "metadata": {},
   "source": [
    "### Deal with null values\n",
    "\n",
    "https://stackoverflow.com/questions/40057563/replace-missing-values-with-mean-spark-dataframe"
   ]
  },
  {
   "cell_type": "code",
   "execution_count": 13,
   "metadata": {},
   "outputs": [
    {
     "name": "stdout",
     "output_type": "stream",
     "text": [
      "+--------+--------+------+------+---+---------+---------+----+---+----+------+---+---+----+----+---+--------+---+--------+----+------+----+-----+-------+---+----+----+--------+---+----+------+----+-----+----+----+----+----+--------+----+----+----+----+----+------+---------+----+----+----+---+---+----+----+----+---+----+---+----+------+------+------+-----+-----+------+-----+-----+---+---+------+-----+-----+------+------+---+----+-----+---+---+----+---+---+---+-----+-------+---+---+---+---+---+-------+-----+----+----+----+----+----+----+-------+--------+--------+-----+-----+------+-----+-----+----------+-----+----------+-----+--------+-----+-----+---------+----+-----+-----+----------+-----+-----+-----+--------+----+-------+------+-----+------+------+----+----------+-----+------+-----+------+-----+------+--------+-----------+------+----+------+------+------+-----+-----+-----+------+------+-----+-----+-----+-----+-----+-----+-----+-----+-----+-----+-----+-----+-----+------+------+------+------+------+------+------+------+------+------+------+------+------+------+------+------+------+------+------+------+------+------+------+------+------+------+------+------+------+------+------+------+------+------+------+------+------+------+------+------+------+------+------+------+------+------+------+------+------+------+------+------+------+------+------+------+------+------+------+------+------+------+------+------+------+------+------+------+------+------+------+\n",
      "|SERIALNO|DIVISION|  PUMA|REGION| ST|   ADJHSG|   ADJINC|WGTP| NP|TYPE|ACCESS|ACR|AGS|BATH|BDSP|BLD|BROADBND|BUS|COMPOTHX|CONP|DIALUP| DSL| ELEP|FIBEROP| FS|FULP|GASP|HANDHELD|HFL|INSP|LAPTOP| MHP|MODEM|MRGI|MRGP|MRGT|MRGX|OTHSVCEX|REFR|RMSP|RNTM|RNTP|RWAT|RWATPR|SATELLITE|SINK| SMP|STOV|TEL|TEN|TOIL|VACS|VALP|VEH|WATP|YBL| FES|FFINCP|FGRNTP|FHINCP|FINCP|FPARC|FSMOCP|GRNTP|GRPIP|HHL|HHT| HINCP|HUGCL|HUPAC|HUPAOC|HUPARC|KIT|LNGI|MULTG| MV|NOC| NPF|NPP| NR|NRC|OCPIP|PARTNER|PLM|PSF|R18|R60|R65|RESMODE|SMOCP| SMX|SRNT|SSMC|SVAL|TAXP| WIF|WKEXREL|WORKSTAT|FACCESSP|FACRP|FAGSP|FBATHP|FBDSP|FBLDP|FBROADBNDP|FBUSP|FCOMPOTHXP|FCONP|FDIALUPP|FDSLP|FELEP|FFIBEROPP|FFSP|FFULP|FGASP|FHANDHELDP|FHFLP|FINSP|FKITP|FLAPTOPP|FMHP|FMODEMP|FMRGIP|FMRGP|FMRGTP|FMRGXP|FMVP|FOTHSVCEXP|FPLMP|FREFRP|FRMSP|FRNTMP|FRNTP|FRWATP|FRWATPRP|FSATELLITEP|FSINKP|FSMP|FSMXHP|FSMXSP|FSTOVP|FTAXP|FTELP|FTENP|FTOILP|FVACSP|FVALP|FVEHP|FWATP|FYBLP|wgtp1|wgtp2|wgtp3|wgtp4|wgtp5|wgtp6|wgtp7|wgtp8|wgtp9|wgtp10|wgtp11|wgtp12|wgtp13|wgtp14|wgtp15|wgtp16|wgtp17|wgtp18|wgtp19|wgtp20|wgtp21|wgtp22|wgtp23|wgtp24|wgtp25|wgtp26|wgtp27|wgtp28|wgtp29|wgtp30|wgtp31|wgtp32|wgtp33|wgtp34|wgtp35|wgtp36|wgtp37|wgtp38|wgtp39|wgtp40|wgtp41|wgtp42|wgtp43|wgtp44|wgtp45|wgtp46|wgtp47|wgtp48|wgtp49|wgtp50|wgtp51|wgtp52|wgtp53|wgtp54|wgtp55|wgtp56|wgtp57|wgtp58|wgtp59|wgtp60|wgtp61|wgtp62|wgtp63|wgtp64|wgtp65|wgtp66|wgtp67|wgtp68|wgtp69|wgtp70|wgtp71|wgtp72|wgtp73|wgtp74|wgtp75|wgtp76|wgtp77|wgtp78|wgtp79|wgtp80|\n",
      "+--------+--------+------+------+---+---------+---------+----+---+----+------+---+---+----+----+---+--------+---+--------+----+------+----+-----+-------+---+----+----+--------+---+----+------+----+-----+----+----+----+----+--------+----+----+----+----+----+------+---------+----+----+----+---+---+----+----+----+---+----+---+----+------+------+------+-----+-----+------+-----+-----+---+---+------+-----+-----+------+------+---+----+-----+---+---+----+---+---+---+-----+-------+---+---+---+---+---+-------+-----+----+----+----+----+----+----+-------+--------+--------+-----+-----+------+-----+-----+----------+-----+----------+-----+--------+-----+-----+---------+----+-----+-----+----------+-----+-----+-----+--------+----+-------+------+-----+------+------+----+----------+-----+------+-----+------+-----+------+--------+-----------+------+----+------+------+------+-----+-----+-----+------+------+-----+-----+-----+-----+-----+-----+-----+-----+-----+-----+-----+-----+-----+------+------+------+------+------+------+------+------+------+------+------+------+------+------+------+------+------+------+------+------+------+------+------+------+------+------+------+------+------+------+------+------+------+------+------+------+------+------+------+------+------+------+------+------+------+------+------+------+------+------+------+------+------+------+------+------+------+------+------+------+------+------+------+------+------+------+------+------+------+------+------+\n",
      "|   709.0|     6.0|2300.0|   3.0|1.0|1000000.0|1007549.0|25.0|1.0| 1.0|   3.0|2.0|1.0| 1.0| 3.0|2.0|    null|2.0|     2.0|null|  null|null|100.0|   null|1.0| 2.0|30.0|     2.0|2.0|null|   2.0|null| null|null|null|null|null|    null| 1.0| 5.0|null|null| 1.0|   9.0|     null| 1.0|null| 1.0|1.0|4.0| 1.0|null|null|0.0|10.0|4.0|null|   0.0|  null|   0.0| null| null|  null| null| null|1.0|6.0|7700.0|  0.0|  4.0|   4.0|   4.0|1.0| 1.0|  1.0|7.0|0.0|null|0.0|0.0|0.0| null|    0.0|1.0|0.0|0.0|1.0|1.0|    1.0| null|null| 1.0| 0.0| 0.0|null|null|   null|    null|     0.0|  0.0|  0.0|   0.0|  0.0|  0.0|       0.0|  0.0|       0.0|  0.0|     0.0|  0.0|  0.0|      0.0| 0.0|  1.0|  0.0|       0.0|  0.0|  0.0|  0.0|     0.0| 0.0|    0.0|   0.0|  0.0|   0.0|   0.0| 0.0|       0.0|  0.0|   0.0|  0.0|   0.0|  0.0|   0.0|     0.0|        0.0|   0.0| 0.0|   0.0|   0.0|   0.0|  0.0|  0.0|  0.0|   0.0|   0.0|  0.0|  0.0|  0.0|  0.0|  7.0| 22.0| 28.0| 17.0| 44.0| 26.0| 21.0|  6.0| 28.0|   6.0|  15.0|  24.0|  28.0|  41.0|  50.0|   6.0|  26.0|  30.0|  18.0|  49.0|   6.0|  43.0|  23.0|  31.0|  32.0|  23.0|  20.0|   6.0|  39.0|   6.0|   8.0|  28.0|  38.0|  30.0|  42.0|  11.0|  32.0|  37.0|  19.0|   6.0|  38.0|  22.0|  44.0|  16.0|   6.0|  33.0|  33.0|  35.0|   5.0|  26.0|  65.0|  27.0|  25.0|  10.0|  11.0|  47.0|  28.0|  21.0|  17.0|   7.0|  29.0|  31.0|  29.0|  26.0|   6.0|  22.0|  23.0|  22.0|   7.0|  39.0|  31.0|  22.0|  25.0|   7.0|   5.0|  37.0|  81.0|  54.0|  24.0|  32.0|\n",
      "+--------+--------+------+------+---+---------+---------+----+---+----+------+---+---+----+----+---+--------+---+--------+----+------+----+-----+-------+---+----+----+--------+---+----+------+----+-----+----+----+----+----+--------+----+----+----+----+----+------+---------+----+----+----+---+---+----+----+----+---+----+---+----+------+------+------+-----+-----+------+-----+-----+---+---+------+-----+-----+------+------+---+----+-----+---+---+----+---+---+---+-----+-------+---+---+---+---+---+-------+-----+----+----+----+----+----+----+-------+--------+--------+-----+-----+------+-----+-----+----------+-----+----------+-----+--------+-----+-----+---------+----+-----+-----+----------+-----+-----+-----+--------+----+-------+------+-----+------+------+----+----------+-----+------+-----+------+-----+------+--------+-----------+------+----+------+------+------+-----+-----+-----+------+------+-----+-----+-----+-----+-----+-----+-----+-----+-----+-----+-----+-----+-----+------+------+------+------+------+------+------+------+------+------+------+------+------+------+------+------+------+------+------+------+------+------+------+------+------+------+------+------+------+------+------+------+------+------+------+------+------+------+------+------+------+------+------+------+------+------+------+------+------+------+------+------+------+------+------+------+------+------+------+------+------+------+------+------+------+------+------+------+------+------+------+\n",
      "only showing top 1 row\n",
      "\n"
     ]
    }
   ],
   "source": [
    "df.show(n = 1)"
   ]
  },
  {
   "cell_type": "code",
   "execution_count": 62,
   "metadata": {},
   "outputs": [
    {
     "data": {
      "text/plain": [
       "DataFrame[avg(BLD): double]"
      ]
     },
     "execution_count": 62,
     "metadata": {},
     "output_type": "execute_result"
    }
   ],
   "source": [
    "#from pyspark.sql.functions import col, avg\n",
    "\n",
    "#df.filter(df['BLD'] != None).agg(avg(col(\"BLD\")))"
   ]
  },
  {
   "cell_type": "markdown",
   "metadata": {},
   "source": [
    "Let's see, for all the attributes, the percentange of null values"
   ]
  },
  {
   "cell_type": "code",
   "execution_count": 14,
   "metadata": {},
   "outputs": [],
   "source": [
    "# lento\n",
    "from pyspark.sql.functions import isnan, when, count, col\n",
    "\n",
    "null_df = df.select([(count(when(col(c).isNull(), c))/n).alias(c) for c in df.columns])"
   ]
  },
  {
   "cell_type": "code",
   "execution_count": 15,
   "metadata": {},
   "outputs": [
    {
     "name": "stdout",
     "output_type": "stream",
     "text": [
      "+--------+--------+----+------+---+------+------+----+---+----+------------------+------------------+------------------+-------------------+-------------------+-------------------+-------------------+------------------+------------------+------------------+-------------------+-------------------+------------------+-------------------+-------------------+------------------+------------------+------------------+------------------+-------------------+------------------+------------------+-------------------+------------------+------------------+------------------+-------------------+-------------------+-------------------+-------------------+------------------+------------------+-------------------+-------------------+-------------------+-------------------+------------------+-------------------+------------------+------------------+-------------------+-----------------+-----------------+------------------+------------------+-------------------+-------------------+-------------------+------------------+-------------------+-------------------+-------------------+-------------------+------------------+------------------+------------------+------------------+------------------+------------------+------------------+------------------+------------------+-------------------+------------------+------------------+------------------+------------------+-------------------+------------------+------------------+------------------+-------------------+------------------+-------------------+------------------+------------------+------------------+------------------+-------------------+-------------------+------------------+-------------------+------------------+-------------------+-------------------+-------------------+-------------------+-------------------+-------------------+-------------------+-------------------+-------------------+-------------------+-------------------+-------------------+-------------------+-------------------+-------------------+-------------------+-------------------+-------------------+-------------------+----+-------------------+-------------------+-------------------+-------------------+-------------------+-------------------+-------------------+-------------------+-------------------+-------------------+-------------------+-------------------+-------------------+----+-------------------+-------------------+-------------------+-------------------+-------------------+-------------------+-------------------+-------------------+-------------------+-------------------+-------------------+-------------------+-------------------+-------------------+-------------------+-------------------+-------------------+-------------------+-------------------+-------------------+-------------------+-------------------+-------------------+-----+-----+-----+-----+-----+-----+-----+-----+-----+------+------+------+------+------+------+------+------+------+------+------+------+------+------+------+------+------+------+------+------+------+------+------+------+------+------+------+------+------+------+------+------+------+------+------+------+------+------+------+------+------+------+------+------+------+------+------+------+------+------+------+------+------+------+------+------+------+------+------+------+------+------+------+------+------+------+------+------+------+------+------+\n",
      "|SERIALNO|DIVISION|PUMA|REGION| ST|ADJHSG|ADJINC|WGTP| NP|TYPE|            ACCESS|               ACR|               AGS|               BATH|               BDSP|                BLD|           BROADBND|               BUS|          COMPOTHX|              CONP|             DIALUP|                DSL|              ELEP|            FIBEROP|                 FS|              FULP|              GASP|          HANDHELD|               HFL|               INSP|            LAPTOP|               MHP|              MODEM|              MRGI|              MRGP|              MRGT|               MRGX|           OTHSVCEX|               REFR|               RMSP|              RNTM|              RNTP|               RWAT|             RWATPR|          SATELLITE|               SINK|               SMP|               STOV|               TEL|               TEN|               TOIL|             VACS|             VALP|               VEH|              WATP|                YBL|                FES|             FFINCP|            FGRNTP|             FHINCP|              FINCP|              FPARC|             FSMOCP|             GRNTP|             GRPIP|               HHL|               HHT|             HINCP|             HUGCL|             HUPAC|            HUPAOC|            HUPARC|                KIT|              LNGI|             MULTG|                MV|               NOC|                NPF|               NPP|                NR|               NRC|              OCPIP|           PARTNER|                PLM|               PSF|               R18|               R60|               R65|            RESMODE|              SMOCP|               SMX|               SRNT|              SSMC|               SVAL|               TAXP|                WIF|            WKEXREL|           WORKSTAT|           FACCESSP|              FACRP|              FAGSP|             FBATHP|              FBDSP|              FBLDP|         FBROADBNDP|              FBUSP|         FCOMPOTHXP|              FCONP|           FDIALUPP|              FDSLP|              FELEP|          FFIBEROPP|FFSP|              FFULP|              FGASP|         FHANDHELDP|              FHFLP|              FINSP|              FKITP|           FLAPTOPP|               FMHP|            FMODEMP|             FMRGIP|              FMRGP|             FMRGTP|             FMRGXP|FMVP|         FOTHSVCEXP|              FPLMP|             FREFRP|              FRMSP|             FRNTMP|              FRNTP|             FRWATP|           FRWATPRP|        FSATELLITEP|             FSINKP|               FSMP|             FSMXHP|             FSMXSP|             FSTOVP|              FTAXP|              FTELP|              FTENP|             FTOILP|             FVACSP|              FVALP|              FVEHP|              FWATP|              FYBLP|wgtp1|wgtp2|wgtp3|wgtp4|wgtp5|wgtp6|wgtp7|wgtp8|wgtp9|wgtp10|wgtp11|wgtp12|wgtp13|wgtp14|wgtp15|wgtp16|wgtp17|wgtp18|wgtp19|wgtp20|wgtp21|wgtp22|wgtp23|wgtp24|wgtp25|wgtp26|wgtp27|wgtp28|wgtp29|wgtp30|wgtp31|wgtp32|wgtp33|wgtp34|wgtp35|wgtp36|wgtp37|wgtp38|wgtp39|wgtp40|wgtp41|wgtp42|wgtp43|wgtp44|wgtp45|wgtp46|wgtp47|wgtp48|wgtp49|wgtp50|wgtp51|wgtp52|wgtp53|wgtp54|wgtp55|wgtp56|wgtp57|wgtp58|wgtp59|wgtp60|wgtp61|wgtp62|wgtp63|wgtp64|wgtp65|wgtp66|wgtp67|wgtp68|wgtp69|wgtp70|wgtp71|wgtp72|wgtp73|wgtp74|wgtp75|wgtp76|wgtp77|wgtp78|wgtp79|wgtp80|\n",
      "+--------+--------+----+------+---+------+------+----+---+----+------------------+------------------+------------------+-------------------+-------------------+-------------------+-------------------+------------------+------------------+------------------+-------------------+-------------------+------------------+-------------------+-------------------+------------------+------------------+------------------+------------------+-------------------+------------------+------------------+-------------------+------------------+------------------+------------------+-------------------+-------------------+-------------------+-------------------+------------------+------------------+-------------------+-------------------+-------------------+-------------------+------------------+-------------------+------------------+------------------+-------------------+-----------------+-----------------+------------------+------------------+-------------------+-------------------+-------------------+------------------+-------------------+-------------------+-------------------+-------------------+------------------+------------------+------------------+------------------+------------------+------------------+------------------+------------------+------------------+-------------------+------------------+------------------+------------------+------------------+-------------------+------------------+------------------+------------------+-------------------+------------------+-------------------+------------------+------------------+------------------+------------------+-------------------+-------------------+------------------+-------------------+------------------+-------------------+-------------------+-------------------+-------------------+-------------------+-------------------+-------------------+-------------------+-------------------+-------------------+-------------------+-------------------+-------------------+-------------------+-------------------+-------------------+-------------------+-------------------+-------------------+----+-------------------+-------------------+-------------------+-------------------+-------------------+-------------------+-------------------+-------------------+-------------------+-------------------+-------------------+-------------------+-------------------+----+-------------------+-------------------+-------------------+-------------------+-------------------+-------------------+-------------------+-------------------+-------------------+-------------------+-------------------+-------------------+-------------------+-------------------+-------------------+-------------------+-------------------+-------------------+-------------------+-------------------+-------------------+-------------------+-------------------+-----+-----+-----+-----+-----+-----+-----+-----+-----+------+------+------+------+------+------+------+------+------+------+------+------+------+------+------+------+------+------+------+------+------+------+------+------+------+------+------+------+------+------+------+------+------+------+------+------+------+------+------+------+------+------+------+------+------+------+------+------+------+------+------+------+------+------+------+------+------+------+------+------+------+------+------+------+------+------+------+------+------+------+------+\n",
      "|     0.0|     0.0| 0.0|   0.0|0.0|   0.0|   0.0| 0.0|0.0| 0.0|0.1795344212236836|0.2895219374211295|0.8369465011823374|0.10042314874962152|0.10042314874962152|0.10042314874962152|0.38344714162918025|0.2895219374211295|0.1795344212236836|0.9693127405909181|0.38344714162918025|0.38344714162918025|0.1795344212236836|0.38344714162918025|0.07911127247406208|0.1795344212236836|0.1795344212236836|0.1795344212236836|0.1795344212236836|0.42602618821347504|0.1795344212236836|0.9622092334078207|0.38344714162918025|0.6496068245690446|0.6496068245690446|0.6496068245690446|0.42602618821347504|0.38344714162918025|0.10042314874962152|0.10042314874962152|0.7563179352887904|0.7563179352887904|0.10042314874962152|0.10042314874962152|0.38344714162918025|0.10042314874962152|0.9374238389826548|0.10042314874962152|0.1795344212236836|0.1795344212236836|0.10042314874962152|0.920888727525938|0.417677010227506|0.1795344212236836|0.1795344212236836|0.10042314874962152|0.45176530993088865|0.10042314874962152|0.7701761076411303|0.10042314874962152|0.44966412949015555|0.44966412949015555|0.42602618821347504|0.7701761076411303|0.7753565808876572|0.1795344212236836|0.1795344212236836|0.1795344212236836|0.1795344212236836|0.1795344212236836|0.1795344212236836|0.1795344212236836|0.10042314874962152|0.1795344212236836|0.1795344212236836|0.1795378080393521|0.1795344212236836|0.44966412949015555|0.1795344212236836|0.1795344212236836|0.1795344212236836|0.43057942319819714|0.1795344212236836|0.10042314874962152|0.1795344212236836|0.1795344212236836|0.1795344212236836|0.1795344212236836|0.10042314874962152|0.42602618821347504|0.6496068245690446|0.10042314874962152|0.1795344212236836|0.10042314874962152|0.42602618821347504|0.44966412949015555|0.44966412949015555|0.45176530993088865|0.10042314874962152|0.10042314874962152|0.10042314874962152|0.10042314874962152|0.10042314874962152|0.10042314874962152|0.10042314874962152|0.10042314874962152|0.10042314874962152|0.10042314874962152|0.10042314874962152|0.10042314874962152|0.10042314874962152|0.10042314874962152| 0.0|0.10042314874962152|0.10042314874962152|0.10042314874962152|0.10042314874962152|0.10042314874962152|0.10042314874962152|0.10042314874962152|0.10042314874962152|0.10042314874962152|0.10042314874962152|0.10042314874962152|0.10042314874962152|0.10042314874962152| 0.0|0.10042314874962152|0.10042314874962152|0.10042314874962152|0.10042314874962152|0.10042314874962152|0.10042314874962152|0.10042314874962152|0.10042314874962152|0.10042314874962152|0.10042314874962152|0.10042314874962152|0.10042314874962152|0.10042314874962152|0.10042314874962152|0.10042314874962152|0.10042314874962152|0.10042314874962152|0.10042314874962152|0.10042314874962152|0.10042314874962152|0.10042314874962152|0.10042314874962152|0.10042314874962152|  0.0|  0.0|  0.0|  0.0|  0.0|  0.0|  0.0|  0.0|  0.0|   0.0|   0.0|   0.0|   0.0|   0.0|   0.0|   0.0|   0.0|   0.0|   0.0|   0.0|   0.0|   0.0|   0.0|   0.0|   0.0|   0.0|   0.0|   0.0|   0.0|   0.0|   0.0|   0.0|   0.0|   0.0|   0.0|   0.0|   0.0|   0.0|   0.0|   0.0|   0.0|   0.0|   0.0|   0.0|   0.0|   0.0|   0.0|   0.0|   0.0|   0.0|   0.0|   0.0|   0.0|   0.0|   0.0|   0.0|   0.0|   0.0|   0.0|   0.0|   0.0|   0.0|   0.0|   0.0|   0.0|   0.0|   0.0|   0.0|   0.0|   0.0|   0.0|   0.0|   0.0|   0.0|   0.0|   0.0|   0.0|   0.0|   0.0|   0.0|\n",
      "+--------+--------+----+------+---+------+------+----+---+----+------------------+------------------+------------------+-------------------+-------------------+-------------------+-------------------+------------------+------------------+------------------+-------------------+-------------------+------------------+-------------------+-------------------+------------------+------------------+------------------+------------------+-------------------+------------------+------------------+-------------------+------------------+------------------+------------------+-------------------+-------------------+-------------------+-------------------+------------------+------------------+-------------------+-------------------+-------------------+-------------------+------------------+-------------------+------------------+------------------+-------------------+-----------------+-----------------+------------------+------------------+-------------------+-------------------+-------------------+------------------+-------------------+-------------------+-------------------+-------------------+------------------+------------------+------------------+------------------+------------------+------------------+------------------+------------------+------------------+-------------------+------------------+------------------+------------------+------------------+-------------------+------------------+------------------+------------------+-------------------+------------------+-------------------+------------------+------------------+------------------+------------------+-------------------+-------------------+------------------+-------------------+------------------+-------------------+-------------------+-------------------+-------------------+-------------------+-------------------+-------------------+-------------------+-------------------+-------------------+-------------------+-------------------+-------------------+-------------------+-------------------+-------------------+-------------------+-------------------+-------------------+----+-------------------+-------------------+-------------------+-------------------+-------------------+-------------------+-------------------+-------------------+-------------------+-------------------+-------------------+-------------------+-------------------+----+-------------------+-------------------+-------------------+-------------------+-------------------+-------------------+-------------------+-------------------+-------------------+-------------------+-------------------+-------------------+-------------------+-------------------+-------------------+-------------------+-------------------+-------------------+-------------------+-------------------+-------------------+-------------------+-------------------+-----+-----+-----+-----+-----+-----+-----+-----+-----+------+------+------+------+------+------+------+------+------+------+------+------+------+------+------+------+------+------+------+------+------+------+------+------+------+------+------+------+------+------+------+------+------+------+------+------+------+------+------+------+------+------+------+------+------+------+------+------+------+------+------+------+------+------+------+------+------+------+------+------+------+------+------+------+------+------+------+------+------+------+------+\n",
      "\n"
     ]
    }
   ],
   "source": [
    "null_df.show()"
   ]
  },
  {
   "cell_type": "markdown",
   "metadata": {},
   "source": [
    "We may chose to remove an attribute from the feature vector if the percentage of missing values is too high.\n",
    "\n",
    "https://towardsdatascience.com/how-to-handle-missing-data-8646b18db0d4: Sometimes you can drop variables if the data is missing for more than 60% observations but only if that variable is insignificant. "
   ]
  },
  {
   "cell_type": "code",
   "execution_count": 16,
   "metadata": {},
   "outputs": [],
   "source": [
    "null_distr = null_df.collect()[0].asDict().values()"
   ]
  },
  {
   "cell_type": "code",
   "execution_count": 70,
   "metadata": {},
   "outputs": [
    {
     "data": {
      "text/plain": [
       "[0.0,\n",
       " 0.0,\n",
       " 0.0,\n",
       " 0.0,\n",
       " 0.0,\n",
       " 0.0,\n",
       " 0.0,\n",
       " 0.0,\n",
       " 0.0,\n",
       " 0.0,\n",
       " 0.1795344212236836,\n",
       " 0.2895219374211295,\n",
       " 0.8369465011823374,\n",
       " 0.10042314874962152,\n",
       " 0.10042314874962152,\n",
       " 0.10042314874962152,\n",
       " 0.38344714162918025,\n",
       " 0.2895219374211295,\n",
       " 0.1795344212236836,\n",
       " 0.9693127405909181,\n",
       " 0.38344714162918025,\n",
       " 0.38344714162918025,\n",
       " 0.1795344212236836,\n",
       " 0.38344714162918025,\n",
       " 0.07911127247406208,\n",
       " 0.1795344212236836,\n",
       " 0.1795344212236836,\n",
       " 0.1795344212236836,\n",
       " 0.1795344212236836,\n",
       " 0.42602618821347504,\n",
       " 0.1795344212236836,\n",
       " 0.9622092334078207,\n",
       " 0.38344714162918025,\n",
       " 0.6496068245690446,\n",
       " 0.6496068245690446,\n",
       " 0.6496068245690446,\n",
       " 0.42602618821347504,\n",
       " 0.38344714162918025,\n",
       " 0.10042314874962152,\n",
       " 0.10042314874962152,\n",
       " 0.7563179352887904,\n",
       " 0.7563179352887904,\n",
       " 0.10042314874962152,\n",
       " 0.10042314874962152,\n",
       " 0.38344714162918025,\n",
       " 0.10042314874962152,\n",
       " 0.9374238389826548,\n",
       " 0.10042314874962152,\n",
       " 0.1795344212236836,\n",
       " 0.1795344212236836,\n",
       " 0.10042314874962152,\n",
       " 0.920888727525938,\n",
       " 0.417677010227506,\n",
       " 0.1795344212236836,\n",
       " 0.1795344212236836,\n",
       " 0.10042314874962152,\n",
       " 0.45176530993088865,\n",
       " 0.10042314874962152,\n",
       " 0.7701761076411303,\n",
       " 0.10042314874962152,\n",
       " 0.44966412949015555,\n",
       " 0.44966412949015555,\n",
       " 0.42602618821347504,\n",
       " 0.7701761076411303,\n",
       " 0.7753565808876572,\n",
       " 0.1795344212236836,\n",
       " 0.1795344212236836,\n",
       " 0.1795344212236836,\n",
       " 0.1795344212236836,\n",
       " 0.1795344212236836,\n",
       " 0.1795344212236836,\n",
       " 0.1795344212236836,\n",
       " 0.10042314874962152,\n",
       " 0.1795344212236836,\n",
       " 0.1795344212236836,\n",
       " 0.1795378080393521,\n",
       " 0.1795344212236836,\n",
       " 0.44966412949015555,\n",
       " 0.1795344212236836,\n",
       " 0.1795344212236836,\n",
       " 0.1795344212236836,\n",
       " 0.43057942319819714,\n",
       " 0.1795344212236836,\n",
       " 0.10042314874962152,\n",
       " 0.1795344212236836,\n",
       " 0.1795344212236836,\n",
       " 0.1795344212236836,\n",
       " 0.1795344212236836,\n",
       " 0.10042314874962152,\n",
       " 0.42602618821347504,\n",
       " 0.6496068245690446,\n",
       " 0.10042314874962152,\n",
       " 0.1795344212236836,\n",
       " 0.10042314874962152,\n",
       " 0.42602618821347504,\n",
       " 0.44966412949015555,\n",
       " 0.44966412949015555,\n",
       " 0.45176530993088865,\n",
       " 0.10042314874962152,\n",
       " 0.10042314874962152,\n",
       " 0.10042314874962152,\n",
       " 0.10042314874962152,\n",
       " 0.10042314874962152,\n",
       " 0.10042314874962152,\n",
       " 0.10042314874962152,\n",
       " 0.10042314874962152,\n",
       " 0.10042314874962152,\n",
       " 0.10042314874962152,\n",
       " 0.10042314874962152,\n",
       " 0.10042314874962152,\n",
       " 0.10042314874962152,\n",
       " 0.10042314874962152,\n",
       " 0.0,\n",
       " 0.10042314874962152,\n",
       " 0.10042314874962152,\n",
       " 0.10042314874962152,\n",
       " 0.10042314874962152,\n",
       " 0.10042314874962152,\n",
       " 0.10042314874962152,\n",
       " 0.10042314874962152,\n",
       " 0.10042314874962152,\n",
       " 0.10042314874962152,\n",
       " 0.10042314874962152,\n",
       " 0.10042314874962152,\n",
       " 0.10042314874962152,\n",
       " 0.10042314874962152,\n",
       " 0.0,\n",
       " 0.10042314874962152,\n",
       " 0.10042314874962152,\n",
       " 0.10042314874962152,\n",
       " 0.10042314874962152,\n",
       " 0.10042314874962152,\n",
       " 0.10042314874962152,\n",
       " 0.10042314874962152,\n",
       " 0.10042314874962152,\n",
       " 0.10042314874962152,\n",
       " 0.10042314874962152,\n",
       " 0.10042314874962152,\n",
       " 0.10042314874962152,\n",
       " 0.10042314874962152,\n",
       " 0.10042314874962152,\n",
       " 0.10042314874962152,\n",
       " 0.10042314874962152,\n",
       " 0.10042314874962152,\n",
       " 0.10042314874962152,\n",
       " 0.10042314874962152,\n",
       " 0.10042314874962152,\n",
       " 0.10042314874962152,\n",
       " 0.10042314874962152,\n",
       " 0.10042314874962152,\n",
       " 0.0,\n",
       " 0.0,\n",
       " 0.0,\n",
       " 0.0,\n",
       " 0.0,\n",
       " 0.0,\n",
       " 0.0,\n",
       " 0.0,\n",
       " 0.0,\n",
       " 0.0,\n",
       " 0.0,\n",
       " 0.0,\n",
       " 0.0,\n",
       " 0.0,\n",
       " 0.0,\n",
       " 0.0,\n",
       " 0.0,\n",
       " 0.0,\n",
       " 0.0,\n",
       " 0.0,\n",
       " 0.0,\n",
       " 0.0,\n",
       " 0.0,\n",
       " 0.0,\n",
       " 0.0,\n",
       " 0.0,\n",
       " 0.0,\n",
       " 0.0,\n",
       " 0.0,\n",
       " 0.0,\n",
       " 0.0,\n",
       " 0.0,\n",
       " 0.0,\n",
       " 0.0,\n",
       " 0.0,\n",
       " 0.0,\n",
       " 0.0,\n",
       " 0.0,\n",
       " 0.0,\n",
       " 0.0,\n",
       " 0.0,\n",
       " 0.0,\n",
       " 0.0,\n",
       " 0.0,\n",
       " 0.0,\n",
       " 0.0,\n",
       " 0.0,\n",
       " 0.0,\n",
       " 0.0,\n",
       " 0.0,\n",
       " 0.0,\n",
       " 0.0,\n",
       " 0.0,\n",
       " 0.0,\n",
       " 0.0,\n",
       " 0.0,\n",
       " 0.0,\n",
       " 0.0,\n",
       " 0.0,\n",
       " 0.0,\n",
       " 0.0,\n",
       " 0.0,\n",
       " 0.0,\n",
       " 0.0,\n",
       " 0.0,\n",
       " 0.0,\n",
       " 0.0,\n",
       " 0.0,\n",
       " 0.0,\n",
       " 0.0,\n",
       " 0.0,\n",
       " 0.0,\n",
       " 0.0,\n",
       " 0.0,\n",
       " 0.0,\n",
       " 0.0,\n",
       " 0.0,\n",
       " 0.0,\n",
       " 0.0,\n",
       " 0.0]"
      ]
     },
     "execution_count": 70,
     "metadata": {},
     "output_type": "execute_result"
    }
   ],
   "source": [
    "list(null_distr)"
   ]
  },
  {
   "cell_type": "code",
   "execution_count": 17,
   "metadata": {},
   "outputs": [
    {
     "data": {
      "text/plain": [
       "(array([92.,  0.,  0.,  0.,  1., 68.,  0.,  0.,  0., 32.,  0.,  0.,  0.,\n",
       "         0.,  2.,  0.,  0.,  0.,  0.,  7.,  0.,  6.,  1.,  7.,  0.,  0.,\n",
       "         0.,  0.,  0.,  0.,  0.,  0.,  0.,  4.,  0.,  0.,  0.,  0.,  0.,\n",
       "         5.,  0.,  0.,  0.,  1.,  0.,  0.,  0.,  1.,  1.,  2.]),\n",
       " array([0.        , 0.01938625, 0.03877251, 0.05815876, 0.07754502,\n",
       "        0.09693127, 0.11631753, 0.13570378, 0.15509004, 0.17447629,\n",
       "        0.19386255, 0.2132488 , 0.23263506, 0.25202131, 0.27140757,\n",
       "        0.29079382, 0.31018008, 0.32956633, 0.34895259, 0.36833884,\n",
       "        0.3877251 , 0.40711135, 0.42649761, 0.44588386, 0.46527012,\n",
       "        0.48465637, 0.50404263, 0.52342888, 0.54281513, 0.56220139,\n",
       "        0.58158764, 0.6009739 , 0.62036015, 0.63974641, 0.65913266,\n",
       "        0.67851892, 0.69790517, 0.71729143, 0.73667768, 0.75606394,\n",
       "        0.77545019, 0.79483645, 0.8142227 , 0.83360896, 0.85299521,\n",
       "        0.87238147, 0.89176772, 0.91115398, 0.93054023, 0.94992649,\n",
       "        0.96931274]),\n",
       " <a list of 50 Patch objects>)"
      ]
     },
     "execution_count": 17,
     "metadata": {},
     "output_type": "execute_result"
    },
    {
     "data": {
      "image/png": "[encoded data removed]",
      "text/plain": [
       "<Figure size 432x288 with 1 Axes>"
      ]
     },
     "metadata": {
      "needs_background": "light"
     },
     "output_type": "display_data"
    }
   ],
   "source": [
    "#import numpy as np\n",
    "import matplotlib.pyplot as plt\n",
    "\n",
    "#np.around(list(null_distr), decimals = 1)\n",
    "plt.hist(list(null_distr), edgecolor = 'blue', bins = 50)"
   ]
  },
  {
   "cell_type": "markdown",
   "metadata": {},
   "source": [
    "Let's now check the number of null values in each row (we may want to delete also some rows if the fraction of null values is too high).\n",
    "\n",
    "However in most cases, it is often disadvantageous to use listwise deletion. This is because the assumptions of MCAR (Missing Completely at Random) are typically rare to support. As a result, listwise deletion methods produce biased parameters and estimates."
   ]
  },
  {
   "cell_type": "code",
   "execution_count": 47,
   "metadata": {},
   "outputs": [
    {
     "name": "stdout",
     "output_type": "stream",
     "text": [
      "+--------------------+--------------------+--------------------+--------------------+--------------------+------------------+------------------+--------------------+--------------------+--------------------+--------------------+--------------------+--------------------+--------------------+--------------------+--------------------+--------+--------------------+--------------------+----+------+----+--------------------+-------+--------------------+--------------------+--------------------+--------------------+--------------------+----+--------------------+----+-----+----+----+----+----+--------+--------------------+--------------------+----+----+--------------------+--------------------+---------+--------------------+----+--------------------+--------------------+--------------------+--------------------+----+----+---+--------------------+--------------------+----+------+------+------+-----+-----+------+-----+-----+--------------------+--------------------+--------------------+-----+--------------------+--------------------+--------------------+--------------------+--------------------+--------------------+--------------------+---+----+---+---+---+-----+-------+--------------------+---+---+--------------------+--------------------+--------------------+-----+----+--------------------+----+----+----+----+-------+--------+--------+-----+-----+------+-----+-----+----------+-----+----------+-----+--------+-----+-----+---------+----+--------------------+-----+----------+-----+-----+-----+--------+----+-------+------+-----+------+------+----+----------+-----+------+-----+------+-----+------+--------+-----------+------+----+------+------+------+-----+-----+-----+------+------+-----+-----+-----+-----+--------------------+--------------------+--------------------+--------------------+--------------------+--------------------+--------------------+--------------------+--------------------+--------------------+--------------------+--------------------+--------------------+--------------------+--------------------+--------------------+--------------------+--------------------+--------------------+--------------------+--------------------+--------------------+--------------------+--------------------+--------------------+--------------------+--------------------+--------------------+--------------------+--------------------+--------------------+--------------------+--------------------+--------------------+--------------------+-------------------+--------------------+--------------------+--------------------+--------------------+--------------------+--------------------+--------------------+--------------------+--------------------+--------------------+--------------------+--------------------+--------------------+--------------------+--------------------+--------------------+--------------------+--------------------+-------------------+-------------------+--------------------+--------------------+--------------------+--------------------+--------------------+--------------------+--------------------+--------------------+--------------------+--------------------+--------------------+--------------------+--------------------+--------------------+--------------------+--------------------+--------------------+--------------------+--------------------+--------------------+--------------------+--------------------+--------------------+--------------------+------------------+\n",
      "|            SERIALNO|            DIVISION|                PUMA|              REGION|                  ST|            ADJHSG|            ADJINC|                WGTP|                  NP|                TYPE|              ACCESS|                 ACR|                 AGS|                BATH|                BDSP|                 BLD|BROADBND|                 BUS|            COMPOTHX|CONP|DIALUP| DSL|                ELEP|FIBEROP|                  FS|                FULP|                GASP|            HANDHELD|                 HFL|INSP|              LAPTOP| MHP|MODEM|MRGI|MRGP|MRGT|MRGX|OTHSVCEX|                REFR|                RMSP|RNTM|RNTP|                RWAT|              RWATPR|SATELLITE|                SINK| SMP|                STOV|                 TEL|                 TEN|                TOIL|VACS|VALP|VEH|                WATP|                 YBL| FES|FFINCP|FGRNTP|FHINCP|FINCP|FPARC|FSMOCP|GRNTP|GRPIP|                 HHL|                 HHT|               HINCP|HUGCL|               HUPAC|              HUPAOC|              HUPARC|                 KIT|                LNGI|               MULTG|                  MV|NOC| NPF|NPP| NR|NRC|OCPIP|PARTNER|                 PLM|PSF|R18|                 R60|                 R65|             RESMODE|SMOCP| SMX|                SRNT|SSMC|SVAL|TAXP| WIF|WKEXREL|WORKSTAT|FACCESSP|FACRP|FAGSP|FBATHP|FBDSP|FBLDP|FBROADBNDP|FBUSP|FCOMPOTHXP|FCONP|FDIALUPP|FDSLP|FELEP|FFIBEROPP|FFSP|               FFULP|FGASP|FHANDHELDP|FHFLP|FINSP|FKITP|FLAPTOPP|FMHP|FMODEMP|FMRGIP|FMRGP|FMRGTP|FMRGXP|FMVP|FOTHSVCEXP|FPLMP|FREFRP|FRMSP|FRNTMP|FRNTP|FRWATP|FRWATPRP|FSATELLITEP|FSINKP|FSMP|FSMXHP|FSMXSP|FSTOVP|FTAXP|FTELP|FTENP|FTOILP|FVACSP|FVALP|FVEHP|FWATP|FYBLP|               wgtp1|               wgtp2|               wgtp3|               wgtp4|               wgtp5|               wgtp6|               wgtp7|               wgtp8|               wgtp9|              wgtp10|              wgtp11|              wgtp12|              wgtp13|              wgtp14|              wgtp15|              wgtp16|              wgtp17|              wgtp18|              wgtp19|              wgtp20|              wgtp21|              wgtp22|              wgtp23|              wgtp24|              wgtp25|              wgtp26|              wgtp27|              wgtp28|              wgtp29|              wgtp30|              wgtp31|              wgtp32|              wgtp33|              wgtp34|              wgtp35|             wgtp36|              wgtp37|              wgtp38|              wgtp39|              wgtp40|              wgtp41|              wgtp42|              wgtp43|              wgtp44|              wgtp45|              wgtp46|              wgtp47|              wgtp48|              wgtp49|              wgtp50|              wgtp51|              wgtp52|              wgtp53|              wgtp54|             wgtp55|             wgtp56|              wgtp57|              wgtp58|              wgtp59|              wgtp60|              wgtp61|              wgtp62|              wgtp63|              wgtp64|              wgtp65|              wgtp66|              wgtp67|              wgtp68|              wgtp69|              wgtp70|              wgtp71|              wgtp72|              wgtp73|              wgtp74|              wgtp75|              wgtp76|              wgtp77|              wgtp78|              wgtp79|              wgtp80|          numNulls|\n",
      "+--------------------+--------------------+--------------------+--------------------+--------------------+------------------+------------------+--------------------+--------------------+--------------------+--------------------+--------------------+--------------------+--------------------+--------------------+--------------------+--------+--------------------+--------------------+----+------+----+--------------------+-------+--------------------+--------------------+--------------------+--------------------+--------------------+----+--------------------+----+-----+----+----+----+----+--------+--------------------+--------------------+----+----+--------------------+--------------------+---------+--------------------+----+--------------------+--------------------+--------------------+--------------------+----+----+---+--------------------+--------------------+----+------+------+------+-----+-----+------+-----+-----+--------------------+--------------------+--------------------+-----+--------------------+--------------------+--------------------+--------------------+--------------------+--------------------+--------------------+---+----+---+---+---+-----+-------+--------------------+---+---+--------------------+--------------------+--------------------+-----+----+--------------------+----+----+----+----+-------+--------+--------+-----+-----+------+-----+-----+----------+-----+----------+-----+--------+-----+-----+---------+----+--------------------+-----+----------+-----+-----+-----+--------+----+-------+------+-----+------+------+----+----------+-----+------+-----+------+-----+------+--------+-----------+------+----+------+------+------+-----+-----+-----+------+------+-----+-----+-----+-----+--------------------+--------------------+--------------------+--------------------+--------------------+--------------------+--------------------+--------------------+--------------------+--------------------+--------------------+--------------------+--------------------+--------------------+--------------------+--------------------+--------------------+--------------------+--------------------+--------------------+--------------------+--------------------+--------------------+--------------------+--------------------+--------------------+--------------------+--------------------+--------------------+--------------------+--------------------+--------------------+--------------------+--------------------+--------------------+-------------------+--------------------+--------------------+--------------------+--------------------+--------------------+--------------------+--------------------+--------------------+--------------------+--------------------+--------------------+--------------------+--------------------+--------------------+--------------------+--------------------+--------------------+--------------------+-------------------+-------------------+--------------------+--------------------+--------------------+--------------------+--------------------+--------------------+--------------------+--------------------+--------------------+--------------------+--------------------+--------------------+--------------------+--------------------+--------------------+--------------------+--------------------+--------------------+--------------------+--------------------+--------------------+--------------------+--------------------+--------------------+------------------+\n",
      "|4.802504617923164E-4|4.064178802191676E-6|0.001557935207506...|2.032089401095838E-6|6.773631336986127E-7|0.6773631336986127|0.6824765479949035|1.693407834246531...|6.773631336986127E-7|6.773631336986127E-7|2.032089401095838E-6|1.354726267397225...|6.773631336986127E-7|6.773631336986127E-7|2.032089401095838E-6|1.354726267397225...|    null|1.354726267397225...|1.354726267397225...|null|  null|null|6.773631336986127E-5|   null|6.773631336986127E-7|1.354726267397225...|2.032089401095838E-5|1.354726267397225...|1.354726267397225...|null|1.354726267397225...|null| null|null|null|null|null|    null|6.773631336986127E-7|3.386815668493063...|null|null|6.773631336986127E-7|6.096268203287514E-6|     null|6.773631336986127E-7|null|6.773631336986127E-7|6.773631336986127E-7|2.709452534794451E-6|6.773631336986127E-7|null|null|0.0|6.773631336986127E-6|2.709452534794451E-6|null|   0.0|  null|   0.0| null| null|  null| null| null|6.773631336986127E-7|4.064178802191676E-6|0.005215696129479318|  0.0|2.709452534794451E-6|2.709452534794451E-6|2.709452534794451E-6|6.773631336986127E-7|6.773631336986127E-7|6.773631336986127E-7|4.741541935890289E-6|0.0|null|0.0|0.0|0.0| null|    0.0|6.773631336986127E-7|0.0|0.0|6.773631336986127E-7|6.773631336986127E-7|6.773631336986127E-7| null|null|6.773631336986127E-7| 0.0| 0.0|null|null|   null|    null|     0.0|  0.0|  0.0|   0.0|  0.0|  0.0|       0.0|  0.0|       0.0|  0.0|     0.0|  0.0|  0.0|      0.0| 0.0|6.773631336986127E-7|  0.0|       0.0|  0.0|  0.0|  0.0|     0.0| 0.0|    0.0|   0.0|  0.0|   0.0|   0.0| 0.0|       0.0|  0.0|   0.0|  0.0|   0.0|  0.0|   0.0|     0.0|        0.0|   0.0| 0.0|   0.0|   0.0|   0.0|  0.0|  0.0|  0.0|   0.0|   0.0|  0.0|  0.0|  0.0|  0.0|4.741541935890289E-6|1.490198894136948E-5|1.896616774356115...|1.151517327287641...|2.980397788273896E-5|1.761144147616393E-5|1.422462580767086...|4.064178802191676E-6|1.896616774356115...|4.064178802191676E-6|1.016044700547919E-5|1.625671520876670...|1.896616774356115...|2.777188848164312E-5|3.386815668493063...|4.064178802191676E-6|1.761144147616393E-5|2.032089401095838E-5|1.219253640657502...|3.319079355123202E-5|4.064178802191676E-6|2.912661474904034...|1.557935207506809...|2.099825714465699...|2.167562027835560...|1.557935207506809...|1.354726267397225...|4.064178802191676E-6|2.641716221424589...|4.064178802191676E-6|5.418905069588902E-6|1.896616774356115...|2.573979908054728E-5|2.032089401095838E-5|2.844925161534173...|7.45099447068474E-6|2.167562027835560...|2.506243594684867E-5|1.286989954027364E-5|4.064178802191676E-6|2.573979908054728E-5|1.490198894136948E-5|2.980397788273896E-5|1.083781013917780...|4.064178802191676E-6|2.235298341205421...|2.235298341205421...|2.370770967945144...|3.386815668493063...|1.761144147616393E-5|4.402860369040982E-5|1.828880460986254...|1.693407834246531...|6.773631336986127E-6|7.45099447068474E-6|3.18360672838348E-5|1.896616774356115...|1.422462580767086...|1.151517327287641...|4.741541935890289E-6|1.964353087725976...|2.099825714465699...|1.964353087725976...|1.761144147616393E-5|4.064178802191676E-6|1.490198894136948E-5|1.557935207506809...|1.490198894136948E-5|4.741541935890289E-6|2.641716221424589...|2.099825714465699...|1.490198894136948E-5|1.693407834246531...|4.741541935890289E-6|3.386815668493063...|2.506243594684867E-5|5.486641382958763E-5|3.657760921972509E-5|1.625671520876670...|2.167562027835560...|0.1478260869565218|\n",
      "+--------------------+--------------------+--------------------+--------------------+--------------------+------------------+------------------+--------------------+--------------------+--------------------+--------------------+--------------------+--------------------+--------------------+--------------------+--------------------+--------+--------------------+--------------------+----+------+----+--------------------+-------+--------------------+--------------------+--------------------+--------------------+--------------------+----+--------------------+----+-----+----+----+----+----+--------+--------------------+--------------------+----+----+--------------------+--------------------+---------+--------------------+----+--------------------+--------------------+--------------------+--------------------+----+----+---+--------------------+--------------------+----+------+------+------+-----+-----+------+-----+-----+--------------------+--------------------+--------------------+-----+--------------------+--------------------+--------------------+--------------------+--------------------+--------------------+--------------------+---+----+---+---+---+-----+-------+--------------------+---+---+--------------------+--------------------+--------------------+-----+----+--------------------+----+----+----+----+-------+--------+--------+-----+-----+------+-----+-----+----------+-----+----------+-----+--------+-----+-----+---------+----+--------------------+-----+----------+-----+-----+-----+--------+----+-------+------+-----+------+------+----+----------+-----+------+-----+------+-----+------+--------+-----------+------+----+------+------+------+-----+-----+-----+------+------+-----+-----+-----+-----+--------------------+--------------------+--------------------+--------------------+--------------------+--------------------+--------------------+--------------------+--------------------+--------------------+--------------------+--------------------+--------------------+--------------------+--------------------+--------------------+--------------------+--------------------+--------------------+--------------------+--------------------+--------------------+--------------------+--------------------+--------------------+--------------------+--------------------+--------------------+--------------------+--------------------+--------------------+--------------------+--------------------+--------------------+--------------------+-------------------+--------------------+--------------------+--------------------+--------------------+--------------------+--------------------+--------------------+--------------------+--------------------+--------------------+--------------------+--------------------+--------------------+--------------------+--------------------+--------------------+--------------------+--------------------+-------------------+-------------------+--------------------+--------------------+--------------------+--------------------+--------------------+--------------------+--------------------+--------------------+--------------------+--------------------+--------------------+--------------------+--------------------+--------------------+--------------------+--------------------+--------------------+--------------------+--------------------+--------------------+--------------------+--------------------+--------------------+--------------------+------------------+\n",
      "only showing top 1 row\n",
      "\n"
     ]
    }
   ],
   "source": [
    "null_row_df = df.withColumn('numNulls', sum(df[col].isNull().cast('int')/(len(headerList) - 1) for col in df.columns))\n",
    "null_row_df.show(1)"
   ]
  },
  {
   "cell_type": "code",
   "execution_count": 50,
   "metadata": {},
   "outputs": [
    {
     "data": {
      "text/plain": [
       "0"
      ]
     },
     "execution_count": 50,
     "metadata": {},
     "output_type": "execute_result"
    }
   ],
   "source": [
    "# lentissimo\n",
    "\n",
    "null_row_df.filter(null_row_df.numNulls > .6).count()"
   ]
  },
  {
   "cell_type": "code",
   "execution_count": 51,
   "metadata": {},
   "outputs": [
    {
     "data": {
      "text/plain": [
       "265049"
      ]
     },
     "execution_count": 51,
     "metadata": {},
     "output_type": "execute_result"
    }
   ],
   "source": [
    "null_row_df.filter(null_row_df.numNulls > .2).count()"
   ]
  },
  {
   "cell_type": "markdown",
   "metadata": {},
   "source": [
    "Let us not delete any row. We may want to check if the number of row with a significative percentage of null values decrease after we remove the most null features (we actually expect so)."
   ]
  },
  {
   "cell_type": "markdown",
   "metadata": {},
   "source": [
    "#### Remove colums with more of 60% of missing values"
   ]
  },
  {
   "cell_type": "code",
   "execution_count": 18,
   "metadata": {},
   "outputs": [
    {
     "name": "stdout",
     "output_type": "stream",
     "text": [
      "+--------+--------+------+------+---+---------+---------+----+---+----+------+---+----+----+---+--------+---+--------+------+----+-----+-------+---+----+----+--------+---+----+------+-----+----+--------+----+----+----+------+---------+----+----+---+---+----+----+---+----+---+----+------+------+-----+-----+------+---+---+------+-----+-----+------+------+---+----+-----+---+---+----+---+---+---+-----+-------+---+---+---+---+---+-------+-----+----+----+----+----+----+-------+--------+--------+-----+-----+------+-----+-----+----------+-----+----------+-----+--------+-----+-----+---------+----+-----+-----+----------+-----+-----+-----+--------+----+-------+------+-----+------+------+----+----------+-----+------+-----+------+-----+------+--------+-----------+------+----+------+------+------+-----+-----+-----+------+------+-----+-----+-----+-----+-----+-----+-----+-----+-----+-----+-----+-----+-----+------+------+------+------+------+------+------+------+------+------+------+------+------+------+------+------+------+------+------+------+------+------+------+------+------+------+------+------+------+------+------+------+------+------+------+------+------+------+------+------+------+------+------+------+------+------+------+------+------+------+------+------+------+------+------+------+------+------+------+------+------+------+------+------+------+------+------+------+------+------+------+\n",
      "|SERIALNO|DIVISION|  PUMA|REGION| ST|   ADJHSG|   ADJINC|WGTP| NP|TYPE|ACCESS|ACR|BATH|BDSP|BLD|BROADBND|BUS|COMPOTHX|DIALUP| DSL| ELEP|FIBEROP| FS|FULP|GASP|HANDHELD|HFL|INSP|LAPTOP|MODEM|MRGX|OTHSVCEX|REFR|RMSP|RWAT|RWATPR|SATELLITE|SINK|STOV|TEL|TEN|TOIL|VALP|VEH|WATP|YBL| FES|FFINCP|FHINCP|FINCP|FPARC|FSMOCP|HHL|HHT| HINCP|HUGCL|HUPAC|HUPAOC|HUPARC|KIT|LNGI|MULTG| MV|NOC| NPF|NPP| NR|NRC|OCPIP|PARTNER|PLM|PSF|R18|R60|R65|RESMODE|SMOCP|SRNT|SSMC|SVAL|TAXP| WIF|WKEXREL|WORKSTAT|FACCESSP|FACRP|FAGSP|FBATHP|FBDSP|FBLDP|FBROADBNDP|FBUSP|FCOMPOTHXP|FCONP|FDIALUPP|FDSLP|FELEP|FFIBEROPP|FFSP|FFULP|FGASP|FHANDHELDP|FHFLP|FINSP|FKITP|FLAPTOPP|FMHP|FMODEMP|FMRGIP|FMRGP|FMRGTP|FMRGXP|FMVP|FOTHSVCEXP|FPLMP|FREFRP|FRMSP|FRNTMP|FRNTP|FRWATP|FRWATPRP|FSATELLITEP|FSINKP|FSMP|FSMXHP|FSMXSP|FSTOVP|FTAXP|FTELP|FTENP|FTOILP|FVACSP|FVALP|FVEHP|FWATP|FYBLP|wgtp1|wgtp2|wgtp3|wgtp4|wgtp5|wgtp6|wgtp7|wgtp8|wgtp9|wgtp10|wgtp11|wgtp12|wgtp13|wgtp14|wgtp15|wgtp16|wgtp17|wgtp18|wgtp19|wgtp20|wgtp21|wgtp22|wgtp23|wgtp24|wgtp25|wgtp26|wgtp27|wgtp28|wgtp29|wgtp30|wgtp31|wgtp32|wgtp33|wgtp34|wgtp35|wgtp36|wgtp37|wgtp38|wgtp39|wgtp40|wgtp41|wgtp42|wgtp43|wgtp44|wgtp45|wgtp46|wgtp47|wgtp48|wgtp49|wgtp50|wgtp51|wgtp52|wgtp53|wgtp54|wgtp55|wgtp56|wgtp57|wgtp58|wgtp59|wgtp60|wgtp61|wgtp62|wgtp63|wgtp64|wgtp65|wgtp66|wgtp67|wgtp68|wgtp69|wgtp70|wgtp71|wgtp72|wgtp73|wgtp74|wgtp75|wgtp76|wgtp77|wgtp78|wgtp79|wgtp80|\n",
      "+--------+--------+------+------+---+---------+---------+----+---+----+------+---+----+----+---+--------+---+--------+------+----+-----+-------+---+----+----+--------+---+----+------+-----+----+--------+----+----+----+------+---------+----+----+---+---+----+----+---+----+---+----+------+------+-----+-----+------+---+---+------+-----+-----+------+------+---+----+-----+---+---+----+---+---+---+-----+-------+---+---+---+---+---+-------+-----+----+----+----+----+----+-------+--------+--------+-----+-----+------+-----+-----+----------+-----+----------+-----+--------+-----+-----+---------+----+-----+-----+----------+-----+-----+-----+--------+----+-------+------+-----+------+------+----+----------+-----+------+-----+------+-----+------+--------+-----------+------+----+------+------+------+-----+-----+-----+------+------+-----+-----+-----+-----+-----+-----+-----+-----+-----+-----+-----+-----+-----+------+------+------+------+------+------+------+------+------+------+------+------+------+------+------+------+------+------+------+------+------+------+------+------+------+------+------+------+------+------+------+------+------+------+------+------+------+------+------+------+------+------+------+------+------+------+------+------+------+------+------+------+------+------+------+------+------+------+------+------+------+------+------+------+------+------+------+------+------+------+------+\n",
      "|   709.0|     6.0|2300.0|   3.0|1.0|1000000.0|1007549.0|25.0|1.0| 1.0|   3.0|2.0| 1.0| 3.0|2.0|    null|2.0|     2.0|  null|null|100.0|   null|1.0| 2.0|30.0|     2.0|2.0|null|   2.0| null|null|    null| 1.0| 5.0| 1.0|   9.0|     null| 1.0| 1.0|1.0|4.0| 1.0|null|0.0|10.0|4.0|null|   0.0|   0.0| null| null|  null|1.0|6.0|7700.0|  0.0|  4.0|   4.0|   4.0|1.0| 1.0|  1.0|7.0|0.0|null|0.0|0.0|0.0| null|    0.0|1.0|0.0|0.0|1.0|1.0|    1.0| null| 1.0| 0.0| 0.0|null|null|   null|    null|     0.0|  0.0|  0.0|   0.0|  0.0|  0.0|       0.0|  0.0|       0.0|  0.0|     0.0|  0.0|  0.0|      0.0| 0.0|  1.0|  0.0|       0.0|  0.0|  0.0|  0.0|     0.0| 0.0|    0.0|   0.0|  0.0|   0.0|   0.0| 0.0|       0.0|  0.0|   0.0|  0.0|   0.0|  0.0|   0.0|     0.0|        0.0|   0.0| 0.0|   0.0|   0.0|   0.0|  0.0|  0.0|  0.0|   0.0|   0.0|  0.0|  0.0|  0.0|  0.0|  7.0| 22.0| 28.0| 17.0| 44.0| 26.0| 21.0|  6.0| 28.0|   6.0|  15.0|  24.0|  28.0|  41.0|  50.0|   6.0|  26.0|  30.0|  18.0|  49.0|   6.0|  43.0|  23.0|  31.0|  32.0|  23.0|  20.0|   6.0|  39.0|   6.0|   8.0|  28.0|  38.0|  30.0|  42.0|  11.0|  32.0|  37.0|  19.0|   6.0|  38.0|  22.0|  44.0|  16.0|   6.0|  33.0|  33.0|  35.0|   5.0|  26.0|  65.0|  27.0|  25.0|  10.0|  11.0|  47.0|  28.0|  21.0|  17.0|   7.0|  29.0|  31.0|  29.0|  26.0|   6.0|  22.0|  23.0|  22.0|   7.0|  39.0|  31.0|  22.0|  25.0|   7.0|   5.0|  37.0|  81.0|  54.0|  24.0|  32.0|\n",
      "+--------+--------+------+------+---+---------+---------+----+---+----+------+---+----+----+---+--------+---+--------+------+----+-----+-------+---+----+----+--------+---+----+------+-----+----+--------+----+----+----+------+---------+----+----+---+---+----+----+---+----+---+----+------+------+-----+-----+------+---+---+------+-----+-----+------+------+---+----+-----+---+---+----+---+---+---+-----+-------+---+---+---+---+---+-------+-----+----+----+----+----+----+-------+--------+--------+-----+-----+------+-----+-----+----------+-----+----------+-----+--------+-----+-----+---------+----+-----+-----+----------+-----+-----+-----+--------+----+-------+------+-----+------+------+----+----------+-----+------+-----+------+-----+------+--------+-----------+------+----+------+------+------+-----+-----+-----+------+------+-----+-----+-----+-----+-----+-----+-----+-----+-----+-----+-----+-----+-----+------+------+------+------+------+------+------+------+------+------+------+------+------+------+------+------+------+------+------+------+------+------+------+------+------+------+------+------+------+------+------+------+------+------+------+------+------+------+------+------+------+------+------+------+------+------+------+------+------+------+------+------+------+------+------+------+------+------+------+------+------+------+------+------+------+------+------+------+------+------+------+\n",
      "only showing top 1 row\n",
      "\n"
     ]
    }
   ],
   "source": [
    "#[value for value in list(null_distr) if value > .6]\n",
    "\n",
    "import numpy as np\n",
    "\n",
    "for i in np.where(np.array(list(null_distr)) > .6)[0]:\n",
    "    #print(i)\n",
    "    #print(headerList[i + 1])\n",
    "    df = df.drop(headerList[i + 1])\n",
    "    \n",
    "df.show(1)"
   ]
  },
  {
   "cell_type": "code",
   "execution_count": 21,
   "metadata": {},
   "outputs": [
    {
     "name": "stdout",
     "output_type": "stream",
     "text": [
      "We reduced the number of attributes from 231 to 216.\n"
     ]
    }
   ],
   "source": [
    "print('We reduced the number of attributes from {} to {}.'.format(len(headerList), len(df.columns)))"
   ]
  },
  {
   "cell_type": "markdown",
   "metadata": {},
   "source": [
    "# TODO\n",
    "\n",
    "#### Replace the missing values with the mean (or median) value of the column"
   ]
  },
  {
   "cell_type": "code",
   "execution_count": null,
   "metadata": {},
   "outputs": [
    {
     "ename": "Py4JJavaError",
     "evalue": "An error occurred while calling o2517.fit.\n: org.apache.spark.SparkException: Job aborted due to stage failure: Task 4 in stage 29.0 failed 1 times, most recent failure: Lost task 4.0 in stage 29.0 (TID 231, localhost, executor driver): java.lang.OutOfMemoryError: GC overhead limit exceeded\n\tat java.lang.Double.valueOf(Double.java:519)\n\tat org.apache.spark.sql.catalyst.expressions.GeneratedClass$SpecificSafeProjection.createExternalRow_0_7$(Unknown Source)\n\tat org.apache.spark.sql.catalyst.expressions.GeneratedClass$SpecificSafeProjection.CreateExternalRow_0$(Unknown Source)\n\tat org.apache.spark.sql.catalyst.expressions.GeneratedClass$SpecificSafeProjection.apply(Unknown Source)\n\tat scala.collection.Iterator$$anon$11.next(Iterator.scala:410)\n\tat scala.collection.Iterator$$anon$11.next(Iterator.scala:410)\n\tat scala.collection.Iterator$class.foreach(Iterator.scala:891)\n\tat scala.collection.AbstractIterator.foreach(Iterator.scala:1334)\n\tat scala.collection.TraversableOnce$class.foldLeft(TraversableOnce.scala:157)\n\tat scala.collection.AbstractIterator.foldLeft(Iterator.scala:1334)\n\tat scala.collection.TraversableOnce$class.aggregate(TraversableOnce.scala:214)\n\tat scala.collection.AbstractIterator.aggregate(Iterator.scala:1334)\n\tat org.apache.spark.rdd.RDD$$anonfun$treeAggregate$1$$anonfun$26.apply(RDD.scala:1190)\n\tat org.apache.spark.rdd.RDD$$anonfun$treeAggregate$1$$anonfun$26.apply(RDD.scala:1190)\n\tat org.apache.spark.rdd.RDD$$anonfun$treeAggregate$1$$anonfun$27.apply(RDD.scala:1191)\n\tat org.apache.spark.rdd.RDD$$anonfun$treeAggregate$1$$anonfun$27.apply(RDD.scala:1191)\n\tat org.apache.spark.rdd.RDD$$anonfun$mapPartitions$1$$anonfun$apply$23.apply(RDD.scala:823)\n\tat org.apache.spark.rdd.RDD$$anonfun$mapPartitions$1$$anonfun$apply$23.apply(RDD.scala:823)\n\tat org.apache.spark.rdd.MapPartitionsRDD.compute(MapPartitionsRDD.scala:52)\n\tat org.apache.spark.rdd.RDD.computeOrReadCheckpoint(RDD.scala:346)\n\tat org.apache.spark.rdd.RDD.iterator(RDD.scala:310)\n\tat org.apache.spark.rdd.MapPartitionsRDD.compute(MapPartitionsRDD.scala:52)\n\tat org.apache.spark.rdd.RDD.computeOrReadCheckpoint(RDD.scala:346)\n\tat org.apache.spark.rdd.RDD.iterator(RDD.scala:310)\n\tat org.apache.spark.scheduler.ShuffleMapTask.runTask(ShuffleMapTask.scala:99)\n\tat org.apache.spark.scheduler.ShuffleMapTask.runTask(ShuffleMapTask.scala:55)\n\tat org.apache.spark.scheduler.Task.run(Task.scala:123)\n\tat org.apache.spark.executor.Executor$TaskRunner$$anonfun$10.apply(Executor.scala:408)\n\tat org.apache.spark.util.Utils$.tryWithSafeFinally(Utils.scala:1360)\n\tat org.apache.spark.executor.Executor$TaskRunner.run(Executor.scala:414)\n\tat java.util.concurrent.ThreadPoolExecutor.runWorker(ThreadPoolExecutor.java:1149)\n\tat java.util.concurrent.ThreadPoolExecutor$Worker.run(ThreadPoolExecutor.java:624)\n\nDriver stacktrace:\n\tat org.apache.spark.scheduler.DAGScheduler.org$apache$spark$scheduler$DAGScheduler$$failJobAndIndependentStages(DAGScheduler.scala:1891)\n\tat org.apache.spark.scheduler.DAGScheduler$$anonfun$abortStage$1.apply(DAGScheduler.scala:1879)\n\tat org.apache.spark.scheduler.DAGScheduler$$anonfun$abortStage$1.apply(DAGScheduler.scala:1878)\n\tat scala.collection.mutable.ResizableArray$class.foreach(ResizableArray.scala:59)\n\tat scala.collection.mutable.ArrayBuffer.foreach(ArrayBuffer.scala:48)\n\tat org.apache.spark.scheduler.DAGScheduler.abortStage(DAGScheduler.scala:1878)\n\tat org.apache.spark.scheduler.DAGScheduler$$anonfun$handleTaskSetFailed$1.apply(DAGScheduler.scala:927)\n\tat org.apache.spark.scheduler.DAGScheduler$$anonfun$handleTaskSetFailed$1.apply(DAGScheduler.scala:927)\n\tat scala.Option.foreach(Option.scala:257)\n\tat org.apache.spark.scheduler.DAGScheduler.handleTaskSetFailed(DAGScheduler.scala:927)\n\tat org.apache.spark.scheduler.DAGSchedulerEventProcessLoop.doOnReceive(DAGScheduler.scala:2112)\n\tat org.apache.spark.scheduler.DAGSchedulerEventProcessLoop.onReceive(DAGScheduler.scala:2061)\n\tat org.apache.spark.scheduler.DAGSchedulerEventProcessLoop.onReceive(DAGScheduler.scala:2050)\n\tat org.apache.spark.util.EventLoop$$anon$1.run(EventLoop.scala:49)\n\tat org.apache.spark.scheduler.DAGScheduler.runJob(DAGScheduler.scala:738)\n\tat org.apache.spark.SparkContext.runJob(SparkContext.scala:2061)\n\tat org.apache.spark.SparkContext.runJob(SparkContext.scala:2158)\n\tat org.apache.spark.rdd.RDD$$anonfun$fold$1.apply(RDD.scala:1143)\n\tat org.apache.spark.rdd.RDDOperationScope$.withScope(RDDOperationScope.scala:151)\n\tat org.apache.spark.rdd.RDDOperationScope$.withScope(RDDOperationScope.scala:112)\n\tat org.apache.spark.rdd.RDD.withScope(RDD.scala:385)\n\tat org.apache.spark.rdd.RDD.fold(RDD.scala:1137)\n\tat org.apache.spark.rdd.RDD$$anonfun$treeAggregate$1.apply(RDD.scala:1206)\n\tat org.apache.spark.rdd.RDDOperationScope$.withScope(RDDOperationScope.scala:151)\n\tat org.apache.spark.rdd.RDDOperationScope$.withScope(RDDOperationScope.scala:112)\n\tat org.apache.spark.rdd.RDD.withScope(RDD.scala:385)\n\tat org.apache.spark.rdd.RDD.treeAggregate(RDD.scala:1182)\n\tat org.apache.spark.sql.execution.stat.StatFunctions$.multipleApproxQuantiles(StatFunctions.scala:102)\n\tat org.apache.spark.sql.DataFrameStatFunctions.approxQuantile(DataFrameStatFunctions.scala:100)\n\tat org.apache.spark.ml.feature.Imputer.fit(Imputer.scala:151)\n\tat sun.reflect.NativeMethodAccessorImpl.invoke0(Native Method)\n\tat sun.reflect.NativeMethodAccessorImpl.invoke(NativeMethodAccessorImpl.java:62)\n\tat sun.reflect.DelegatingMethodAccessorImpl.invoke(DelegatingMethodAccessorImpl.java:43)\n\tat java.lang.reflect.Method.invoke(Method.java:498)\n\tat py4j.reflection.MethodInvoker.invoke(MethodInvoker.java:244)\n\tat py4j.reflection.ReflectionEngine.invoke(ReflectionEngine.java:357)\n\tat py4j.Gateway.invoke(Gateway.java:282)\n\tat py4j.commands.AbstractCommand.invokeMethod(AbstractCommand.java:132)\n\tat py4j.commands.CallCommand.execute(CallCommand.java:79)\n\tat py4j.GatewayConnection.run(GatewayConnection.java:238)\n\tat java.lang.Thread.run(Thread.java:748)\nCaused by: java.lang.OutOfMemoryError: GC overhead limit exceeded\n\tat java.lang.Double.valueOf(Double.java:519)\n\tat org.apache.spark.sql.catalyst.expressions.GeneratedClass$SpecificSafeProjection.createExternalRow_0_7$(Unknown Source)\n\tat org.apache.spark.sql.catalyst.expressions.GeneratedClass$SpecificSafeProjection.CreateExternalRow_0$(Unknown Source)\n\tat org.apache.spark.sql.catalyst.expressions.GeneratedClass$SpecificSafeProjection.apply(Unknown Source)\n\tat scala.collection.Iterator$$anon$11.next(Iterator.scala:410)\n\tat scala.collection.Iterator$$anon$11.next(Iterator.scala:410)\n\tat scala.collection.Iterator$class.foreach(Iterator.scala:891)\n\tat scala.collection.AbstractIterator.foreach(Iterator.scala:1334)\n\tat scala.collection.TraversableOnce$class.foldLeft(TraversableOnce.scala:157)\n\tat scala.collection.AbstractIterator.foldLeft(Iterator.scala:1334)\n\tat scala.collection.TraversableOnce$class.aggregate(TraversableOnce.scala:214)\n\tat scala.collection.AbstractIterator.aggregate(Iterator.scala:1334)\n\tat org.apache.spark.rdd.RDD$$anonfun$treeAggregate$1$$anonfun$26.apply(RDD.scala:1190)\n\tat org.apache.spark.rdd.RDD$$anonfun$treeAggregate$1$$anonfun$26.apply(RDD.scala:1190)\n\tat org.apache.spark.rdd.RDD$$anonfun$treeAggregate$1$$anonfun$27.apply(RDD.scala:1191)\n\tat org.apache.spark.rdd.RDD$$anonfun$treeAggregate$1$$anonfun$27.apply(RDD.scala:1191)\n\tat org.apache.spark.rdd.RDD$$anonfun$mapPartitions$1$$anonfun$apply$23.apply(RDD.scala:823)\n\tat org.apache.spark.rdd.RDD$$anonfun$mapPartitions$1$$anonfun$apply$23.apply(RDD.scala:823)\n\tat org.apache.spark.rdd.MapPartitionsRDD.compute(MapPartitionsRDD.scala:52)\n\tat org.apache.spark.rdd.RDD.computeOrReadCheckpoint(RDD.scala:346)\n\tat org.apache.spark.rdd.RDD.iterator(RDD.scala:310)\n\tat org.apache.spark.rdd.MapPartitionsRDD.compute(MapPartitionsRDD.scala:52)\n\tat org.apache.spark.rdd.RDD.computeOrReadCheckpoint(RDD.scala:346)\n\tat org.apache.spark.rdd.RDD.iterator(RDD.scala:310)\n\tat org.apache.spark.scheduler.ShuffleMapTask.runTask(ShuffleMapTask.scala:99)\n\tat org.apache.spark.scheduler.ShuffleMapTask.runTask(ShuffleMapTask.scala:55)\n\tat org.apache.spark.scheduler.Task.run(Task.scala:123)\n\tat org.apache.spark.executor.Executor$TaskRunner$$anonfun$10.apply(Executor.scala:408)\n\tat org.apache.spark.util.Utils$.tryWithSafeFinally(Utils.scala:1360)\n\tat org.apache.spark.executor.Executor$TaskRunner.run(Executor.scala:414)\n\tat java.util.concurrent.ThreadPoolExecutor.runWorker(ThreadPoolExecutor.java:1149)\n\tat java.util.concurrent.ThreadPoolExecutor$Worker.run(ThreadPoolExecutor.java:624)\n",
     "output_type": "error",
     "traceback": [
      "\u001b[0;31m---------------------------------------------------------------------------\u001b[0m",
      "\u001b[0;31mPy4JJavaError\u001b[0m                             Traceback (most recent call last)",
      "\u001b[0;32m<ipython-input-22-670ac11c59fd>\u001b[0m in \u001b[0;36m<module>\u001b[0;34m\u001b[0m\n\u001b[1;32m     13\u001b[0m \u001b[0mimputer\u001b[0m\u001b[0;34m.\u001b[0m\u001b[0msetStrategy\u001b[0m\u001b[0;34m(\u001b[0m\u001b[0;34m\"median\"\u001b[0m\u001b[0;34m)\u001b[0m\u001b[0;34m\u001b[0m\u001b[0;34m\u001b[0m\u001b[0m\n\u001b[1;32m     14\u001b[0m \u001b[0;34m\u001b[0m\u001b[0m\n\u001b[0;32m---> 15\u001b[0;31m \u001b[0mimputer\u001b[0m\u001b[0;34m.\u001b[0m\u001b[0mfit\u001b[0m\u001b[0;34m(\u001b[0m\u001b[0mdf\u001b[0m\u001b[0;34m)\u001b[0m\u001b[0;34m.\u001b[0m\u001b[0mtransform\u001b[0m\u001b[0;34m(\u001b[0m\u001b[0mdf\u001b[0m\u001b[0;34m)\u001b[0m\u001b[0;34m\u001b[0m\u001b[0;34m\u001b[0m\u001b[0m\n\u001b[0m",
      "\u001b[0;32m/usr/local/spark/python/pyspark/ml/base.py\u001b[0m in \u001b[0;36mfit\u001b[0;34m(self, dataset, params)\u001b[0m\n\u001b[1;32m    130\u001b[0m                 \u001b[0;32mreturn\u001b[0m \u001b[0mself\u001b[0m\u001b[0;34m.\u001b[0m\u001b[0mcopy\u001b[0m\u001b[0;34m(\u001b[0m\u001b[0mparams\u001b[0m\u001b[0;34m)\u001b[0m\u001b[0;34m.\u001b[0m\u001b[0m_fit\u001b[0m\u001b[0;34m(\u001b[0m\u001b[0mdataset\u001b[0m\u001b[0;34m)\u001b[0m\u001b[0;34m\u001b[0m\u001b[0;34m\u001b[0m\u001b[0m\n\u001b[1;32m    131\u001b[0m             \u001b[0;32melse\u001b[0m\u001b[0;34m:\u001b[0m\u001b[0;34m\u001b[0m\u001b[0;34m\u001b[0m\u001b[0m\n\u001b[0;32m--> 132\u001b[0;31m                 \u001b[0;32mreturn\u001b[0m \u001b[0mself\u001b[0m\u001b[0;34m.\u001b[0m\u001b[0m_fit\u001b[0m\u001b[0;34m(\u001b[0m\u001b[0mdataset\u001b[0m\u001b[0;34m)\u001b[0m\u001b[0;34m\u001b[0m\u001b[0;34m\u001b[0m\u001b[0m\n\u001b[0m\u001b[1;32m    133\u001b[0m         \u001b[0;32melse\u001b[0m\u001b[0;34m:\u001b[0m\u001b[0;34m\u001b[0m\u001b[0;34m\u001b[0m\u001b[0m\n\u001b[1;32m    134\u001b[0m             raise ValueError(\"Params must be either a param map or a list/tuple of param maps, \"\n",
      "\u001b[0;32m/usr/local/spark/python/pyspark/ml/wrapper.py\u001b[0m in \u001b[0;36m_fit\u001b[0;34m(self, dataset)\u001b[0m\n\u001b[1;32m    293\u001b[0m \u001b[0;34m\u001b[0m\u001b[0m\n\u001b[1;32m    294\u001b[0m     \u001b[0;32mdef\u001b[0m \u001b[0m_fit\u001b[0m\u001b[0;34m(\u001b[0m\u001b[0mself\u001b[0m\u001b[0;34m,\u001b[0m \u001b[0mdataset\u001b[0m\u001b[0;34m)\u001b[0m\u001b[0;34m:\u001b[0m\u001b[0;34m\u001b[0m\u001b[0;34m\u001b[0m\u001b[0m\n\u001b[0;32m--> 295\u001b[0;31m         \u001b[0mjava_model\u001b[0m \u001b[0;34m=\u001b[0m \u001b[0mself\u001b[0m\u001b[0;34m.\u001b[0m\u001b[0m_fit_java\u001b[0m\u001b[0;34m(\u001b[0m\u001b[0mdataset\u001b[0m\u001b[0;34m)\u001b[0m\u001b[0;34m\u001b[0m\u001b[0;34m\u001b[0m\u001b[0m\n\u001b[0m\u001b[1;32m    296\u001b[0m         \u001b[0mmodel\u001b[0m \u001b[0;34m=\u001b[0m \u001b[0mself\u001b[0m\u001b[0;34m.\u001b[0m\u001b[0m_create_model\u001b[0m\u001b[0;34m(\u001b[0m\u001b[0mjava_model\u001b[0m\u001b[0;34m)\u001b[0m\u001b[0;34m\u001b[0m\u001b[0;34m\u001b[0m\u001b[0m\n\u001b[1;32m    297\u001b[0m         \u001b[0;32mreturn\u001b[0m \u001b[0mself\u001b[0m\u001b[0;34m.\u001b[0m\u001b[0m_copyValues\u001b[0m\u001b[0;34m(\u001b[0m\u001b[0mmodel\u001b[0m\u001b[0;34m)\u001b[0m\u001b[0;34m\u001b[0m\u001b[0;34m\u001b[0m\u001b[0m\n",
      "\u001b[0;32m/usr/local/spark/python/pyspark/ml/wrapper.py\u001b[0m in \u001b[0;36m_fit_java\u001b[0;34m(self, dataset)\u001b[0m\n\u001b[1;32m    290\u001b[0m         \"\"\"\n\u001b[1;32m    291\u001b[0m         \u001b[0mself\u001b[0m\u001b[0;34m.\u001b[0m\u001b[0m_transfer_params_to_java\u001b[0m\u001b[0;34m(\u001b[0m\u001b[0;34m)\u001b[0m\u001b[0;34m\u001b[0m\u001b[0;34m\u001b[0m\u001b[0m\n\u001b[0;32m--> 292\u001b[0;31m         \u001b[0;32mreturn\u001b[0m \u001b[0mself\u001b[0m\u001b[0;34m.\u001b[0m\u001b[0m_java_obj\u001b[0m\u001b[0;34m.\u001b[0m\u001b[0mfit\u001b[0m\u001b[0;34m(\u001b[0m\u001b[0mdataset\u001b[0m\u001b[0;34m.\u001b[0m\u001b[0m_jdf\u001b[0m\u001b[0;34m)\u001b[0m\u001b[0;34m\u001b[0m\u001b[0;34m\u001b[0m\u001b[0m\n\u001b[0m\u001b[1;32m    293\u001b[0m \u001b[0;34m\u001b[0m\u001b[0m\n\u001b[1;32m    294\u001b[0m     \u001b[0;32mdef\u001b[0m \u001b[0m_fit\u001b[0m\u001b[0;34m(\u001b[0m\u001b[0mself\u001b[0m\u001b[0;34m,\u001b[0m \u001b[0mdataset\u001b[0m\u001b[0;34m)\u001b[0m\u001b[0;34m:\u001b[0m\u001b[0;34m\u001b[0m\u001b[0;34m\u001b[0m\u001b[0m\n",
      "\u001b[0;32m/usr/local/spark/python/lib/py4j-0.10.7-src.zip/py4j/java_gateway.py\u001b[0m in \u001b[0;36m__call__\u001b[0;34m(self, *args)\u001b[0m\n\u001b[1;32m   1255\u001b[0m         \u001b[0manswer\u001b[0m \u001b[0;34m=\u001b[0m \u001b[0mself\u001b[0m\u001b[0;34m.\u001b[0m\u001b[0mgateway_client\u001b[0m\u001b[0;34m.\u001b[0m\u001b[0msend_command\u001b[0m\u001b[0;34m(\u001b[0m\u001b[0mcommand\u001b[0m\u001b[0;34m)\u001b[0m\u001b[0;34m\u001b[0m\u001b[0;34m\u001b[0m\u001b[0m\n\u001b[1;32m   1256\u001b[0m         return_value = get_return_value(\n\u001b[0;32m-> 1257\u001b[0;31m             answer, self.gateway_client, self.target_id, self.name)\n\u001b[0m\u001b[1;32m   1258\u001b[0m \u001b[0;34m\u001b[0m\u001b[0m\n\u001b[1;32m   1259\u001b[0m         \u001b[0;32mfor\u001b[0m \u001b[0mtemp_arg\u001b[0m \u001b[0;32min\u001b[0m \u001b[0mtemp_args\u001b[0m\u001b[0;34m:\u001b[0m\u001b[0;34m\u001b[0m\u001b[0;34m\u001b[0m\u001b[0m\n",
      "\u001b[0;32m/usr/local/spark/python/pyspark/sql/utils.py\u001b[0m in \u001b[0;36mdeco\u001b[0;34m(*a, **kw)\u001b[0m\n\u001b[1;32m     61\u001b[0m     \u001b[0;32mdef\u001b[0m \u001b[0mdeco\u001b[0m\u001b[0;34m(\u001b[0m\u001b[0;34m*\u001b[0m\u001b[0ma\u001b[0m\u001b[0;34m,\u001b[0m \u001b[0;34m**\u001b[0m\u001b[0mkw\u001b[0m\u001b[0;34m)\u001b[0m\u001b[0;34m:\u001b[0m\u001b[0;34m\u001b[0m\u001b[0;34m\u001b[0m\u001b[0m\n\u001b[1;32m     62\u001b[0m         \u001b[0;32mtry\u001b[0m\u001b[0;34m:\u001b[0m\u001b[0;34m\u001b[0m\u001b[0;34m\u001b[0m\u001b[0m\n\u001b[0;32m---> 63\u001b[0;31m             \u001b[0;32mreturn\u001b[0m \u001b[0mf\u001b[0m\u001b[0;34m(\u001b[0m\u001b[0;34m*\u001b[0m\u001b[0ma\u001b[0m\u001b[0;34m,\u001b[0m \u001b[0;34m**\u001b[0m\u001b[0mkw\u001b[0m\u001b[0;34m)\u001b[0m\u001b[0;34m\u001b[0m\u001b[0;34m\u001b[0m\u001b[0m\n\u001b[0m\u001b[1;32m     64\u001b[0m         \u001b[0;32mexcept\u001b[0m \u001b[0mpy4j\u001b[0m\u001b[0;34m.\u001b[0m\u001b[0mprotocol\u001b[0m\u001b[0;34m.\u001b[0m\u001b[0mPy4JJavaError\u001b[0m \u001b[0;32mas\u001b[0m \u001b[0me\u001b[0m\u001b[0;34m:\u001b[0m\u001b[0;34m\u001b[0m\u001b[0;34m\u001b[0m\u001b[0m\n\u001b[1;32m     65\u001b[0m             \u001b[0ms\u001b[0m \u001b[0;34m=\u001b[0m \u001b[0me\u001b[0m\u001b[0;34m.\u001b[0m\u001b[0mjava_exception\u001b[0m\u001b[0;34m.\u001b[0m\u001b[0mtoString\u001b[0m\u001b[0;34m(\u001b[0m\u001b[0;34m)\u001b[0m\u001b[0;34m\u001b[0m\u001b[0;34m\u001b[0m\u001b[0m\n",
      "\u001b[0;32m/usr/local/spark/python/lib/py4j-0.10.7-src.zip/py4j/protocol.py\u001b[0m in \u001b[0;36mget_return_value\u001b[0;34m(answer, gateway_client, target_id, name)\u001b[0m\n\u001b[1;32m    326\u001b[0m                 raise Py4JJavaError(\n\u001b[1;32m    327\u001b[0m                     \u001b[0;34m\"An error occurred while calling {0}{1}{2}.\\n\"\u001b[0m\u001b[0;34m.\u001b[0m\u001b[0;34m\u001b[0m\u001b[0;34m\u001b[0m\u001b[0m\n\u001b[0;32m--> 328\u001b[0;31m                     format(target_id, \".\", name), value)\n\u001b[0m\u001b[1;32m    329\u001b[0m             \u001b[0;32melse\u001b[0m\u001b[0;34m:\u001b[0m\u001b[0;34m\u001b[0m\u001b[0;34m\u001b[0m\u001b[0m\n\u001b[1;32m    330\u001b[0m                 raise Py4JError(\n",
      "\u001b[0;31mPy4JJavaError\u001b[0m: An error occurred while calling o2517.fit.\n: org.apache.spark.SparkException: Job aborted due to stage failure: Task 4 in stage 29.0 failed 1 times, most recent failure: Lost task 4.0 in stage 29.0 (TID 231, localhost, executor driver): java.lang.OutOfMemoryError: GC overhead limit exceeded\n\tat java.lang.Double.valueOf(Double.java:519)\n\tat org.apache.spark.sql.catalyst.expressions.GeneratedClass$SpecificSafeProjection.createExternalRow_0_7$(Unknown Source)\n\tat org.apache.spark.sql.catalyst.expressions.GeneratedClass$SpecificSafeProjection.CreateExternalRow_0$(Unknown Source)\n\tat org.apache.spark.sql.catalyst.expressions.GeneratedClass$SpecificSafeProjection.apply(Unknown Source)\n\tat scala.collection.Iterator$$anon$11.next(Iterator.scala:410)\n\tat scala.collection.Iterator$$anon$11.next(Iterator.scala:410)\n\tat scala.collection.Iterator$class.foreach(Iterator.scala:891)\n\tat scala.collection.AbstractIterator.foreach(Iterator.scala:1334)\n\tat scala.collection.TraversableOnce$class.foldLeft(TraversableOnce.scala:157)\n\tat scala.collection.AbstractIterator.foldLeft(Iterator.scala:1334)\n\tat scala.collection.TraversableOnce$class.aggregate(TraversableOnce.scala:214)\n\tat scala.collection.AbstractIterator.aggregate(Iterator.scala:1334)\n\tat org.apache.spark.rdd.RDD$$anonfun$treeAggregate$1$$anonfun$26.apply(RDD.scala:1190)\n\tat org.apache.spark.rdd.RDD$$anonfun$treeAggregate$1$$anonfun$26.apply(RDD.scala:1190)\n\tat org.apache.spark.rdd.RDD$$anonfun$treeAggregate$1$$anonfun$27.apply(RDD.scala:1191)\n\tat org.apache.spark.rdd.RDD$$anonfun$treeAggregate$1$$anonfun$27.apply(RDD.scala:1191)\n\tat org.apache.spark.rdd.RDD$$anonfun$mapPartitions$1$$anonfun$apply$23.apply(RDD.scala:823)\n\tat org.apache.spark.rdd.RDD$$anonfun$mapPartitions$1$$anonfun$apply$23.apply(RDD.scala:823)\n\tat org.apache.spark.rdd.MapPartitionsRDD.compute(MapPartitionsRDD.scala:52)\n\tat org.apache.spark.rdd.RDD.computeOrReadCheckpoint(RDD.scala:346)\n\tat org.apache.spark.rdd.RDD.iterator(RDD.scala:310)\n\tat org.apache.spark.rdd.MapPartitionsRDD.compute(MapPartitionsRDD.scala:52)\n\tat org.apache.spark.rdd.RDD.computeOrReadCheckpoint(RDD.scala:346)\n\tat org.apache.spark.rdd.RDD.iterator(RDD.scala:310)\n\tat org.apache.spark.scheduler.ShuffleMapTask.runTask(ShuffleMapTask.scala:99)\n\tat org.apache.spark.scheduler.ShuffleMapTask.runTask(ShuffleMapTask.scala:55)\n\tat org.apache.spark.scheduler.Task.run(Task.scala:123)\n\tat org.apache.spark.executor.Executor$TaskRunner$$anonfun$10.apply(Executor.scala:408)\n\tat org.apache.spark.util.Utils$.tryWithSafeFinally(Utils.scala:1360)\n\tat org.apache.spark.executor.Executor$TaskRunner.run(Executor.scala:414)\n\tat java.util.concurrent.ThreadPoolExecutor.runWorker(ThreadPoolExecutor.java:1149)\n\tat java.util.concurrent.ThreadPoolExecutor$Worker.run(ThreadPoolExecutor.java:624)\n\nDriver stacktrace:\n\tat org.apache.spark.scheduler.DAGScheduler.org$apache$spark$scheduler$DAGScheduler$$failJobAndIndependentStages(DAGScheduler.scala:1891)\n\tat org.apache.spark.scheduler.DAGScheduler$$anonfun$abortStage$1.apply(DAGScheduler.scala:1879)\n\tat org.apache.spark.scheduler.DAGScheduler$$anonfun$abortStage$1.apply(DAGScheduler.scala:1878)\n\tat scala.collection.mutable.ResizableArray$class.foreach(ResizableArray.scala:59)\n\tat scala.collection.mutable.ArrayBuffer.foreach(ArrayBuffer.scala:48)\n\tat org.apache.spark.scheduler.DAGScheduler.abortStage(DAGScheduler.scala:1878)\n\tat org.apache.spark.scheduler.DAGScheduler$$anonfun$handleTaskSetFailed$1.apply(DAGScheduler.scala:927)\n\tat org.apache.spark.scheduler.DAGScheduler$$anonfun$handleTaskSetFailed$1.apply(DAGScheduler.scala:927)\n\tat scala.Option.foreach(Option.scala:257)\n\tat org.apache.spark.scheduler.DAGScheduler.handleTaskSetFailed(DAGScheduler.scala:927)\n\tat org.apache.spark.scheduler.DAGSchedulerEventProcessLoop.doOnReceive(DAGScheduler.scala:2112)\n\tat org.apache.spark.scheduler.DAGSchedulerEventProcessLoop.onReceive(DAGScheduler.scala:2061)\n\tat org.apache.spark.scheduler.DAGSchedulerEventProcessLoop.onReceive(DAGScheduler.scala:2050)\n\tat org.apache.spark.util.EventLoop$$anon$1.run(EventLoop.scala:49)\n\tat org.apache.spark.scheduler.DAGScheduler.runJob(DAGScheduler.scala:738)\n\tat org.apache.spark.SparkContext.runJob(SparkContext.scala:2061)\n\tat org.apache.spark.SparkContext.runJob(SparkContext.scala:2158)\n\tat org.apache.spark.rdd.RDD$$anonfun$fold$1.apply(RDD.scala:1143)\n\tat org.apache.spark.rdd.RDDOperationScope$.withScope(RDDOperationScope.scala:151)\n\tat org.apache.spark.rdd.RDDOperationScope$.withScope(RDDOperationScope.scala:112)\n\tat org.apache.spark.rdd.RDD.withScope(RDD.scala:385)\n\tat org.apache.spark.rdd.RDD.fold(RDD.scala:1137)\n\tat org.apache.spark.rdd.RDD$$anonfun$treeAggregate$1.apply(RDD.scala:1206)\n\tat org.apache.spark.rdd.RDDOperationScope$.withScope(RDDOperationScope.scala:151)\n\tat org.apache.spark.rdd.RDDOperationScope$.withScope(RDDOperationScope.scala:112)\n\tat org.apache.spark.rdd.RDD.withScope(RDD.scala:385)\n\tat org.apache.spark.rdd.RDD.treeAggregate(RDD.scala:1182)\n\tat org.apache.spark.sql.execution.stat.StatFunctions$.multipleApproxQuantiles(StatFunctions.scala:102)\n\tat org.apache.spark.sql.DataFrameStatFunctions.approxQuantile(DataFrameStatFunctions.scala:100)\n\tat org.apache.spark.ml.feature.Imputer.fit(Imputer.scala:151)\n\tat sun.reflect.NativeMethodAccessorImpl.invoke0(Native Method)\n\tat sun.reflect.NativeMethodAccessorImpl.invoke(NativeMethodAccessorImpl.java:62)\n\tat sun.reflect.DelegatingMethodAccessorImpl.invoke(DelegatingMethodAccessorImpl.java:43)\n\tat java.lang.reflect.Method.invoke(Method.java:498)\n\tat py4j.reflection.MethodInvoker.invoke(MethodInvoker.java:244)\n\tat py4j.reflection.ReflectionEngine.invoke(ReflectionEngine.java:357)\n\tat py4j.Gateway.invoke(Gateway.java:282)\n\tat py4j.commands.AbstractCommand.invokeMethod(AbstractCommand.java:132)\n\tat py4j.commands.CallCommand.execute(CallCommand.java:79)\n\tat py4j.GatewayConnection.run(GatewayConnection.java:238)\n\tat java.lang.Thread.run(Thread.java:748)\nCaused by: java.lang.OutOfMemoryError: GC overhead limit exceeded\n\tat java.lang.Double.valueOf(Double.java:519)\n\tat org.apache.spark.sql.catalyst.expressions.GeneratedClass$SpecificSafeProjection.createExternalRow_0_7$(Unknown Source)\n\tat org.apache.spark.sql.catalyst.expressions.GeneratedClass$SpecificSafeProjection.CreateExternalRow_0$(Unknown Source)\n\tat org.apache.spark.sql.catalyst.expressions.GeneratedClass$SpecificSafeProjection.apply(Unknown Source)\n\tat scala.collection.Iterator$$anon$11.next(Iterator.scala:410)\n\tat scala.collection.Iterator$$anon$11.next(Iterator.scala:410)\n\tat scala.collection.Iterator$class.foreach(Iterator.scala:891)\n\tat scala.collection.AbstractIterator.foreach(Iterator.scala:1334)\n\tat scala.collection.TraversableOnce$class.foldLeft(TraversableOnce.scala:157)\n\tat scala.collection.AbstractIterator.foldLeft(Iterator.scala:1334)\n\tat scala.collection.TraversableOnce$class.aggregate(TraversableOnce.scala:214)\n\tat scala.collection.AbstractIterator.aggregate(Iterator.scala:1334)\n\tat org.apache.spark.rdd.RDD$$anonfun$treeAggregate$1$$anonfun$26.apply(RDD.scala:1190)\n\tat org.apache.spark.rdd.RDD$$anonfun$treeAggregate$1$$anonfun$26.apply(RDD.scala:1190)\n\tat org.apache.spark.rdd.RDD$$anonfun$treeAggregate$1$$anonfun$27.apply(RDD.scala:1191)\n\tat org.apache.spark.rdd.RDD$$anonfun$treeAggregate$1$$anonfun$27.apply(RDD.scala:1191)\n\tat org.apache.spark.rdd.RDD$$anonfun$mapPartitions$1$$anonfun$apply$23.apply(RDD.scala:823)\n\tat org.apache.spark.rdd.RDD$$anonfun$mapPartitions$1$$anonfun$apply$23.apply(RDD.scala:823)\n\tat org.apache.spark.rdd.MapPartitionsRDD.compute(MapPartitionsRDD.scala:52)\n\tat org.apache.spark.rdd.RDD.computeOrReadCheckpoint(RDD.scala:346)\n\tat org.apache.spark.rdd.RDD.iterator(RDD.scala:310)\n\tat org.apache.spark.rdd.MapPartitionsRDD.compute(MapPartitionsRDD.scala:52)\n\tat org.apache.spark.rdd.RDD.computeOrReadCheckpoint(RDD.scala:346)\n\tat org.apache.spark.rdd.RDD.iterator(RDD.scala:310)\n\tat org.apache.spark.scheduler.ShuffleMapTask.runTask(ShuffleMapTask.scala:99)\n\tat org.apache.spark.scheduler.ShuffleMapTask.runTask(ShuffleMapTask.scala:55)\n\tat org.apache.spark.scheduler.Task.run(Task.scala:123)\n\tat org.apache.spark.executor.Executor$TaskRunner$$anonfun$10.apply(Executor.scala:408)\n\tat org.apache.spark.util.Utils$.tryWithSafeFinally(Utils.scala:1360)\n\tat org.apache.spark.executor.Executor$TaskRunner.run(Executor.scala:414)\n\tat java.util.concurrent.ThreadPoolExecutor.runWorker(ThreadPoolExecutor.java:1149)\n\tat java.util.concurrent.ThreadPoolExecutor$Worker.run(ThreadPoolExecutor.java:624)\n"
     ]
    },
    {
     "name": "stderr",
     "output_type": "stream",
     "text": [
      "----------------------------------------\n",
      "Exception happened during processing of request from ('127.0.0.1', 45014)\n",
      "ERROR:root:Exception while sending command.\n",
      "Traceback (most recent call last):\n",
      "  File \"/usr/local/spark/python/lib/py4j-0.10.7-src.zip/py4j/java_gateway.py\", line 1159, in send_command\n",
      "    raise Py4JNetworkError(\"Answer from Java side is empty\")\n",
      "py4j.protocol.Py4JNetworkError: Answer from Java side is empty\n",
      "\n",
      "During handling of the above exception, another exception occurred:\n",
      "\n",
      "Traceback (most recent call last):\n",
      "  File \"/usr/local/spark/python/lib/py4j-0.10.7-src.zip/py4j/java_gateway.py\", line 985, in send_command\n",
      "    response = connection.send_command(command)\n",
      "  File \"/usr/local/spark/python/lib/py4j-0.10.7-src.zip/py4j/java_gateway.py\", line 1164, in send_command\n",
      "    \"Error while receiving\", e, proto.ERROR_ON_RECEIVE)\n",
      "py4j.protocol.Py4JNetworkError: Error while receiving\n",
      "Traceback (most recent call last):\n",
      "  File \"/opt/conda/lib/python3.7/socketserver.py\", line 316, in _handle_request_noblock\n",
      "    self.process_request(request, client_address)\n",
      "  File \"/opt/conda/lib/python3.7/socketserver.py\", line 347, in process_request\n",
      "    self.finish_request(request, client_address)\n",
      "  File \"/opt/conda/lib/python3.7/socketserver.py\", line 360, in finish_request\n",
      "    self.RequestHandlerClass(request, client_address, self)\n",
      "  File \"/opt/conda/lib/python3.7/socketserver.py\", line 720, in __init__\n",
      "    self.handle()\n",
      "  File \"/usr/local/spark/python/pyspark/accumulators.py\", line 269, in handle\n",
      "    poll(accum_updates)\n",
      "  File \"/usr/local/spark/python/pyspark/accumulators.py\", line 241, in poll\n",
      "    if func():\n",
      "  File \"/usr/local/spark/python/pyspark/accumulators.py\", line 245, in accum_updates\n",
      "    num_updates = read_int(self.rfile)\n",
      "  File \"/usr/local/spark/python/pyspark/serializers.py\", line 724, in read_int\n",
      "    raise EOFError\n",
      "EOFError\n",
      "----------------------------------------\n"
     ]
    }
   ],
   "source": [
    "# lento\n",
    "from pyspark.ml.feature import Imputer\n",
    "\n",
    "#imputer = Imputer(\n",
    "#    inputCols = df.columns, \n",
    "#    outputCols = [\"{}_imputed\".format(c) for c in df.columns],\n",
    "#    strategy = 'mean'\n",
    "#)\n",
    "\n",
    "imputer = Imputer()\n",
    "imputer.setInputCols(df.columns)\n",
    "imputer.setOutputCols([\"{}_imputed\".format(c) for c in df.columns])\n",
    "imputer.setStrategy(\"median\")\n",
    "\n",
    "imputer.fit(df).transform(df)"
   ]
  },
  {
   "cell_type": "code",
   "execution_count": null,
   "metadata": {},
   "outputs": [],
   "source": []
  }
 ],
 "metadata": {
  "kernelspec": {
   "display_name": "Python 3",
   "language": "python",
   "name": "python3"
  },
  "language_info": {
   "codemirror_mode": {
    "name": "ipython",
    "version": 3
   },
   "file_extension": ".py",
   "mimetype": "text/x-python",
   "name": "python",
   "nbconvert_exporter": "python",
   "pygments_lexer": "ipython3",
   "version": "3.7.6"
  }
 },
 "nbformat": 4,
 "nbformat_minor": 4
}
